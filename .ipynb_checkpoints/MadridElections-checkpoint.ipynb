{
 "cells": [
  {
   "cell_type": "markdown",
   "metadata": {},
   "source": [
    "# Elecciones Madrid 2021 #\n",
    "\n",
    "# # Objetivo del presente trabajo # #\n",
    "\n",
    "> El presente trabajo tiene como objetivo analizar los resultados de las pasadas elecciones del 4 de mayo en Madrid. Para ello se utlizarán los resultados electorales oficiales del siguiente enlace [https://resultados2021.comunidad.madrid/Mesas/es]. Se analizarán los resultados a nivel global de la Comunidad de Madrid, para luego pasar a un análisis más pormenorizado de la siguiente forma: Madrid Ciudad, conjunto de ciudades de relevancia y el conjunto de ciudades y pueblos fuera de los principales núcleos de población.\n",
    "\n",
    "> Se analizarán los datos en su conjunto para luego incidir "
   ]
  },
  {
   "cell_type": "code",
   "execution_count": null,
   "metadata": {},
   "outputs": [],
   "source": []
  }
 ],
 "metadata": {
  "kernelspec": {
   "display_name": "Python 3",
   "language": "python",
   "name": "python3"
  },
  "language_info": {
   "codemirror_mode": {
    "name": "ipython",
    "version": 3
   },
   "file_extension": ".py",
   "mimetype": "text/x-python",
   "name": "python",
   "nbconvert_exporter": "python",
   "pygments_lexer": "ipython3",
   "version": "3.7.4"
  }
 },
 "nbformat": 4,
 "nbformat_minor": 2
}
