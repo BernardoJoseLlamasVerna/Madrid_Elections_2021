{
 "cells": [
  {
   "cell_type": "markdown",
   "metadata": {},
   "source": [
    "# Elecciones Madrid 2021 #\n",
    "\n",
    "## Objetivo del presente trabajo ##\n",
    "\n",
    "El presente trabajo tiene como objetivo analizar los resultados de las pasadas elecciones del 4 de mayo en Madrid. Para ello se utlizarán los resultados electorales oficiales del siguiente enlace [https://resultados2021.comunidad.madrid/Mesas/es]. Se analizarán los resultados a nivel global de la Comunidad de Madrid, para luego pasar a un análisis más pormenorizado de la siguiente forma: Madrid Ciudad, conjunto de ciudades de relevancia y el conjunto de ciudades y pueblos fuera de los principales núcleos de población.\n",
    "\n",
    "Se analizarán los datos en su conjunto para luego incidir en la distribución espacial del voto de los partidos que finalmente obtuvieron representación. Un análisis de la edad de la población en cada uno de los espacios (edad, nivel adquisitivo, etc) nos permitirá saber si exise un claro perfil de votante para cada uno de los partidos."
   ]
  },
  {
   "cell_type": "code",
   "execution_count": 1,
   "metadata": {},
   "outputs": [],
   "source": [
    "# leer csv:\n",
    "import pandas as pd\n",
    "import numpy as np"
   ]
  },
  {
   "cell_type": "code",
   "execution_count": 2,
   "metadata": {},
   "outputs": [],
   "source": [
    "data = pd.read_csv('Elecciones_Madrid_2021_Municipios.csv', delimiter=';', thousands='.', decimal=',')"
   ]
  },
  {
   "cell_type": "code",
   "execution_count": 3,
   "metadata": {},
   "outputs": [],
   "source": [
    "data = data.rename(columns={\"Codcir\":\"cpro\", \"Codmun\":\"cmun\", \"Municipio\":\"municipio\"})"
   ]
  },
  {
   "cell_type": "code",
   "execution_count": 4,
   "metadata": {},
   "outputs": [
    {
     "name": "stdout",
     "output_type": "stream",
     "text": [
      "<class 'pandas.core.frame.DataFrame'>\n",
      "RangeIndex: 179 entries, 0 to 178\n",
      "Data columns (total 33 columns):\n",
      " #   Column                      Non-Null Count  Dtype  \n",
      "---  ------                      --------------  -----  \n",
      " 0   cpro                        179 non-null    int64  \n",
      " 1   cmun                        179 non-null    int64  \n",
      " 2   municipio                   179 non-null    object \n",
      " 3   Unnamed: 3                  0 non-null      float64\n",
      " 4   Censo                       179 non-null    int64  \n",
      " 5   Certif. Alta                179 non-null    int64  \n",
      " 6   Censo Total                 179 non-null    int64  \n",
      " 7   Votos Totales               179 non-null    int64  \n",
      " 8   Votos Blancos               179 non-null    int64  \n",
      " 9   Votos Nulos                 179 non-null    int64  \n",
      " 10  Abstención                  179 non-null    int64  \n",
      " 11  Votos Válidos               179 non-null    int64  \n",
      " 12  Votos Candidaturas          179 non-null    int64  \n",
      " 13  Cs                          179 non-null    int64  \n",
      " 14  PUM+J                       179 non-null    int64  \n",
      " 15  PCTE                        179 non-null    int64  \n",
      " 16  FE de las JONS              179 non-null    int64  \n",
      " 17  PH                          179 non-null    int64  \n",
      " 18  PACMA                       179 non-null    int64  \n",
      " 19  3e en acción                179 non-null    int64  \n",
      " 20  PARTIDO AUTÓNOMOS           179 non-null    int64  \n",
      " 21  P.S.O.E.                    179 non-null    int64  \n",
      " 22  PP                          179 non-null    int64  \n",
      " 23  PCOE-PCPE                   179 non-null    int64  \n",
      " 24  VOLT                        179 non-null    int64  \n",
      " 25  VOX                         179 non-null    int64  \n",
      " 26  P-LIB                       179 non-null    int64  \n",
      " 27  POLE                        179 non-null    int64  \n",
      " 28  MÁS MADRID                  179 non-null    int64  \n",
      " 29  EB                          179 non-null    int64  \n",
      " 30  UDEC                        179 non-null    int64  \n",
      " 31  PODEMOS-IU                  179 non-null    int64  \n",
      " 32  RECORTES CERO-PCAS-TC-GV-M  179 non-null    int64  \n",
      "dtypes: float64(1), int64(31), object(1)\n",
      "memory usage: 46.3+ KB\n"
     ]
    }
   ],
   "source": [
    "data.info()"
   ]
  },
  {
   "cell_type": "code",
   "execution_count": 5,
   "metadata": {},
   "outputs": [
    {
     "name": "stdout",
     "output_type": "stream",
     "text": [
      "<class 'pandas.core.frame.DataFrame'>\n",
      "RangeIndex: 179 entries, 0 to 178\n",
      "Data columns (total 33 columns):\n",
      " #   Column                      Non-Null Count  Dtype  \n",
      "---  ------                      --------------  -----  \n",
      " 0   cpro                        179 non-null    int64  \n",
      " 1   cmun                        179 non-null    int64  \n",
      " 2   municipio                   179 non-null    object \n",
      " 3   Unnamed: 3                  0 non-null      float64\n",
      " 4   Censo                       179 non-null    int64  \n",
      " 5   Certif. Alta                179 non-null    int64  \n",
      " 6   Censo Total                 179 non-null    int64  \n",
      " 7   Votos Totales               179 non-null    int64  \n",
      " 8   Votos Blancos               179 non-null    int64  \n",
      " 9   Votos Nulos                 179 non-null    int64  \n",
      " 10  Abstención                  179 non-null    int64  \n",
      " 11  Votos Válidos               179 non-null    int64  \n",
      " 12  Votos Candidaturas          179 non-null    int64  \n",
      " 13  Cs                          179 non-null    int64  \n",
      " 14  PUM+J                       179 non-null    int64  \n",
      " 15  PCTE                        179 non-null    int64  \n",
      " 16  FE de las JONS              179 non-null    int64  \n",
      " 17  PH                          179 non-null    int64  \n",
      " 18  PACMA                       179 non-null    int64  \n",
      " 19  3e en acción                179 non-null    int64  \n",
      " 20  PARTIDO AUTÓNOMOS           179 non-null    int64  \n",
      " 21  P.S.O.E.                    179 non-null    int64  \n",
      " 22  PP                          179 non-null    int64  \n",
      " 23  PCOE-PCPE                   179 non-null    int64  \n",
      " 24  VOLT                        179 non-null    int64  \n",
      " 25  VOX                         179 non-null    int64  \n",
      " 26  P-LIB                       179 non-null    int64  \n",
      " 27  POLE                        179 non-null    int64  \n",
      " 28  MÁS MADRID                  179 non-null    int64  \n",
      " 29  EB                          179 non-null    int64  \n",
      " 30  UDEC                        179 non-null    int64  \n",
      " 31  PODEMOS-IU                  179 non-null    int64  \n",
      " 32  RECORTES CERO-PCAS-TC-GV-M  179 non-null    int64  \n",
      "dtypes: float64(1), int64(31), object(1)\n",
      "memory usage: 46.3+ KB\n"
     ]
    }
   ],
   "source": [
    "data['municipio']=data['municipio'].astype(str)\n",
    "data.info()"
   ]
  },
  {
   "cell_type": "code",
   "execution_count": 6,
   "metadata": {},
   "outputs": [
    {
     "data": {
      "text/html": [
       "<div>\n",
       "<style scoped>\n",
       "    .dataframe tbody tr th:only-of-type {\n",
       "        vertical-align: middle;\n",
       "    }\n",
       "\n",
       "    .dataframe tbody tr th {\n",
       "        vertical-align: top;\n",
       "    }\n",
       "\n",
       "    .dataframe thead th {\n",
       "        text-align: right;\n",
       "    }\n",
       "</style>\n",
       "<table border=\"1\" class=\"dataframe\">\n",
       "  <thead>\n",
       "    <tr style=\"text-align: right;\">\n",
       "      <th></th>\n",
       "      <th>cpro</th>\n",
       "      <th>cmun</th>\n",
       "      <th>municipio</th>\n",
       "      <th>Unnamed: 3</th>\n",
       "      <th>Censo</th>\n",
       "      <th>Certif. Alta</th>\n",
       "      <th>Censo Total</th>\n",
       "      <th>Votos Totales</th>\n",
       "      <th>Votos Blancos</th>\n",
       "      <th>Votos Nulos</th>\n",
       "      <th>...</th>\n",
       "      <th>PCOE-PCPE</th>\n",
       "      <th>VOLT</th>\n",
       "      <th>VOX</th>\n",
       "      <th>P-LIB</th>\n",
       "      <th>POLE</th>\n",
       "      <th>MÁS MADRID</th>\n",
       "      <th>EB</th>\n",
       "      <th>UDEC</th>\n",
       "      <th>PODEMOS-IU</th>\n",
       "      <th>RECORTES CERO-PCAS-TC-GV-M</th>\n",
       "    </tr>\n",
       "  </thead>\n",
       "  <tbody>\n",
       "    <tr>\n",
       "      <th>0</th>\n",
       "      <td>28</td>\n",
       "      <td>2</td>\n",
       "      <td>Ajalvir</td>\n",
       "      <td>NaN</td>\n",
       "      <td>3251</td>\n",
       "      <td>0</td>\n",
       "      <td>3251</td>\n",
       "      <td>2339</td>\n",
       "      <td>10</td>\n",
       "      <td>15</td>\n",
       "      <td>...</td>\n",
       "      <td>0</td>\n",
       "      <td>0</td>\n",
       "      <td>340</td>\n",
       "      <td>1</td>\n",
       "      <td>0</td>\n",
       "      <td>330</td>\n",
       "      <td>1</td>\n",
       "      <td>1</td>\n",
       "      <td>101</td>\n",
       "      <td>0</td>\n",
       "    </tr>\n",
       "    <tr>\n",
       "      <th>1</th>\n",
       "      <td>28</td>\n",
       "      <td>3</td>\n",
       "      <td>Alameda del Valle</td>\n",
       "      <td>NaN</td>\n",
       "      <td>195</td>\n",
       "      <td>0</td>\n",
       "      <td>195</td>\n",
       "      <td>168</td>\n",
       "      <td>3</td>\n",
       "      <td>0</td>\n",
       "      <td>...</td>\n",
       "      <td>0</td>\n",
       "      <td>0</td>\n",
       "      <td>16</td>\n",
       "      <td>0</td>\n",
       "      <td>0</td>\n",
       "      <td>36</td>\n",
       "      <td>0</td>\n",
       "      <td>0</td>\n",
       "      <td>11</td>\n",
       "      <td>0</td>\n",
       "    </tr>\n",
       "    <tr>\n",
       "      <th>2</th>\n",
       "      <td>28</td>\n",
       "      <td>5</td>\n",
       "      <td>Alcalá de Henares</td>\n",
       "      <td>NaN</td>\n",
       "      <td>136163</td>\n",
       "      <td>4</td>\n",
       "      <td>136167</td>\n",
       "      <td>100932</td>\n",
       "      <td>603</td>\n",
       "      <td>789</td>\n",
       "      <td>...</td>\n",
       "      <td>25</td>\n",
       "      <td>45</td>\n",
       "      <td>9735</td>\n",
       "      <td>21</td>\n",
       "      <td>10</td>\n",
       "      <td>15540</td>\n",
       "      <td>70</td>\n",
       "      <td>26</td>\n",
       "      <td>7017</td>\n",
       "      <td>29</td>\n",
       "    </tr>\n",
       "    <tr>\n",
       "      <th>3</th>\n",
       "      <td>28</td>\n",
       "      <td>6</td>\n",
       "      <td>Alcobendas</td>\n",
       "      <td>NaN</td>\n",
       "      <td>80401</td>\n",
       "      <td>2</td>\n",
       "      <td>80403</td>\n",
       "      <td>62036</td>\n",
       "      <td>297</td>\n",
       "      <td>363</td>\n",
       "      <td>...</td>\n",
       "      <td>12</td>\n",
       "      <td>36</td>\n",
       "      <td>5533</td>\n",
       "      <td>24</td>\n",
       "      <td>8</td>\n",
       "      <td>8212</td>\n",
       "      <td>60</td>\n",
       "      <td>44</td>\n",
       "      <td>3430</td>\n",
       "      <td>26</td>\n",
       "    </tr>\n",
       "    <tr>\n",
       "      <th>4</th>\n",
       "      <td>28</td>\n",
       "      <td>7</td>\n",
       "      <td>Alcorcón</td>\n",
       "      <td>NaN</td>\n",
       "      <td>126919</td>\n",
       "      <td>0</td>\n",
       "      <td>126919</td>\n",
       "      <td>97563</td>\n",
       "      <td>565</td>\n",
       "      <td>769</td>\n",
       "      <td>...</td>\n",
       "      <td>20</td>\n",
       "      <td>35</td>\n",
       "      <td>7841</td>\n",
       "      <td>14</td>\n",
       "      <td>4</td>\n",
       "      <td>16945</td>\n",
       "      <td>128</td>\n",
       "      <td>24</td>\n",
       "      <td>7707</td>\n",
       "      <td>66</td>\n",
       "    </tr>\n",
       "  </tbody>\n",
       "</table>\n",
       "<p>5 rows × 33 columns</p>\n",
       "</div>"
      ],
      "text/plain": [
       "   cpro  cmun          municipio  Unnamed: 3   Censo  Certif. Alta  \\\n",
       "0    28     2            Ajalvir         NaN    3251             0   \n",
       "1    28     3  Alameda del Valle         NaN     195             0   \n",
       "2    28     5  Alcalá de Henares         NaN  136163             4   \n",
       "3    28     6         Alcobendas         NaN   80401             2   \n",
       "4    28     7           Alcorcón         NaN  126919             0   \n",
       "\n",
       "   Censo Total  Votos Totales  Votos Blancos  Votos Nulos  ...  PCOE-PCPE  \\\n",
       "0         3251           2339             10           15  ...          0   \n",
       "1          195            168              3            0  ...          0   \n",
       "2       136167         100932            603          789  ...         25   \n",
       "3        80403          62036            297          363  ...         12   \n",
       "4       126919          97563            565          769  ...         20   \n",
       "\n",
       "   VOLT   VOX  P-LIB  POLE  MÁS MADRID   EB  UDEC  PODEMOS-IU  \\\n",
       "0     0   340      1     0         330    1     1         101   \n",
       "1     0    16      0     0          36    0     0          11   \n",
       "2    45  9735     21    10       15540   70    26        7017   \n",
       "3    36  5533     24     8        8212   60    44        3430   \n",
       "4    35  7841     14     4       16945  128    24        7707   \n",
       "\n",
       "   RECORTES CERO-PCAS-TC-GV-M  \n",
       "0                           0  \n",
       "1                           0  \n",
       "2                          29  \n",
       "3                          26  \n",
       "4                          66  \n",
       "\n",
       "[5 rows x 33 columns]"
      ]
     },
     "execution_count": 6,
     "metadata": {},
     "output_type": "execute_result"
    }
   ],
   "source": [
    "data.head()"
   ]
  },
  {
   "cell_type": "code",
   "execution_count": 7,
   "metadata": {},
   "outputs": [
    {
     "data": {
      "text/plain": [
       "cpro                               28\n",
       "cmun                                2\n",
       "municipio                     Ajalvir\n",
       "Unnamed: 3                        NaN\n",
       "Censo                            3251\n",
       "Certif. Alta                        0\n",
       "Censo Total                      3251\n",
       "Votos Totales                    2339\n",
       "Votos Blancos                      10\n",
       "Votos Nulos                        15\n",
       "Abstención                        912\n",
       "Votos Válidos                    2324\n",
       "Votos Candidaturas               2314\n",
       "Cs                                 56\n",
       "PUM+J                               0\n",
       "PCTE                                1\n",
       "FE de las JONS                      3\n",
       "PH                                  1\n",
       "PACMA                               4\n",
       "3e en acción                        1\n",
       "PARTIDO AUTÓNOMOS                   1\n",
       "P.S.O.E.                          325\n",
       "PP                               1148\n",
       "PCOE-PCPE                           0\n",
       "VOLT                                0\n",
       "VOX                               340\n",
       "P-LIB                               1\n",
       "POLE                                0\n",
       "MÁS MADRID                        330\n",
       "EB                                  1\n",
       "UDEC                                1\n",
       "PODEMOS-IU                        101\n",
       "RECORTES CERO-PCAS-TC-GV-M          0\n",
       "Name: 0, dtype: object"
      ]
     },
     "execution_count": 7,
     "metadata": {},
     "output_type": "execute_result"
    }
   ],
   "source": [
    "data.iloc[0]"
   ]
  },
  {
   "cell_type": "code",
   "execution_count": null,
   "metadata": {},
   "outputs": [],
   "source": [
    "import geopandas as gpd\n",
    "import matplotlib.pyplot as plt"
   ]
  },
  {
   "cell_type": "code",
   "execution_count": null,
   "metadata": {},
   "outputs": [],
   "source": [
    "municipios = 'https://raw.githubusercontent.com/FMullor/TopoJson/master/MadridMunicipios.geojson'\n",
    "map_municipios = gpd.read_file(municipios)\n",
    "map_municipios = map_municipios.sort_values('municipio')\n",
    "map_municipios.head()"
   ]
  },
  {
   "cell_type": "code",
   "execution_count": null,
   "metadata": {},
   "outputs": [],
   "source": [
    "map_municipios.info()"
   ]
  },
  {
   "cell_type": "code",
   "execution_count": null,
   "metadata": {},
   "outputs": [],
   "source": [
    "map_municipios = map_municipios[['municipio', 'geometry']]\n",
    "\n",
    "# pruebas\n",
    "# map_municipios['municipio'] = data['municipio']\n",
    "# pruebas\n",
    "\n",
    "map_municipios.info()"
   ]
  },
  {
   "cell_type": "code",
   "execution_count": null,
   "metadata": {},
   "outputs": [],
   "source": [
    "map_municipios = map_municipios.fillna(0)\n",
    "map_municipios['municipio'] = map_municipios['municipio'].astype(str)\n",
    "\n",
    "map_municipios.info()"
   ]
  },
  {
   "cell_type": "code",
   "execution_count": null,
   "metadata": {},
   "outputs": [],
   "source": [
    "map_municipios.iloc[0]"
   ]
  },
  {
   "cell_type": "code",
   "execution_count": null,
   "metadata": {},
   "outputs": [],
   "source": [
    "map_municipios.iloc[-1]"
   ]
  },
  {
   "cell_type": "code",
   "execution_count": null,
   "metadata": {},
   "outputs": [],
   "source": [
    "map_municipios.head()"
   ]
  },
  {
   "cell_type": "code",
   "execution_count": null,
   "metadata": {},
   "outputs": [],
   "source": [
    "len(data)"
   ]
  },
  {
   "cell_type": "code",
   "execution_count": null,
   "metadata": {},
   "outputs": [],
   "source": [
    "len(map_municipios)"
   ]
  },
  {
   "cell_type": "code",
   "execution_count": null,
   "metadata": {},
   "outputs": [],
   "source": [
    "# comprobar valores diferentes de municipios\n",
    "# 1.- valores comunes: el resultado es 143 que coincide después con los 144 valores de geometry que aparecen después\n",
    "# CONCLUSIÓN: \n",
    "# 1.-tenemos que corregir los valores de 'municipio' en map_municipio\n",
    "# 2.-buscar cuáles son los 3 valores de más que tiene map_municipio sobre data\n",
    "# intersection_data = set(data['municipio']).intersection(set(map_municipios['municipio']))\n",
    "# len(intersection_data)\n",
    "\n",
    "intersection_map = set(map_municipios['municipio']).intersection(set(data['municipio']))\n",
    "len(intersection_map)"
   ]
  },
  {
   "cell_type": "code",
   "execution_count": null,
   "metadata": {},
   "outputs": [],
   "source": [
    "# no_intersection_data = set(data['municipio']).difference(set(map_municipios['municipio']))\n",
    "# len(no_intersection_data)\n",
    "# no_intersection_data\n",
    "\n",
    "# los valores que salen aquí hay que corregirlos para que sean iguales que en data\n",
    "no_intersection_map = set(map_municipios['municipio']).difference(set(data['municipio']))\n",
    "len(no_intersection_map)\n",
    "no_intersection_map"
   ]
  },
  {
   "cell_type": "code",
   "execution_count": null,
   "metadata": {},
   "outputs": [],
   "source": [
    "# cambiamos el nombre de los municipios con problemas y comprobamos de nuevo las diferencias\n",
    "map_municipios['municipio'] = map_municipios['municipio'].replace([\n",
    " 'AlcalÃ¡ de Henares',\n",
    " 'AlcorcÃ³n',\n",
    " 'CarabaÃ±a',\n",
    " 'ChapinerÃ\\xada',\n",
    " 'ChinchÃ³n',\n",
    " 'CobeÃ±a',\n",
    " 'El VellÃ³n',\n",
    " 'El Ã\\x81lamo',\n",
    " 'FuentidueÃ±a de Tajo',\n",
    " 'GriÃ±Ã³n',\n",
    " 'Horcajo de la Sierra',\n",
    " 'JurisdicciÃ³n Macomunada de El Boalo y Manzanares el Real (El Chaparral)',\n",
    " 'JurisdicciÃ³n Mancomunada de Cerdedilla y Navacerrada',\n",
    " 'LeganÃ©s',\n",
    " 'Morata de TajuÃ±a',\n",
    " 'MÃ³stoles',\n",
    " 'Navarredonda y San MamÃ©s',\n",
    " 'Nuevo BaztÃ¡n',\n",
    " 'Orusco de TajuÃ±a',\n",
    " 'Perales de TajuÃ±a',\n",
    " 'PinuÃ©car-Gandullas',\n",
    " 'Pozuelo de AlarcÃ³n',\n",
    " 'PrÃ¡dena del RincÃ³n',\n",
    " 'RascafrÃ\\xada',\n",
    " 'RedueÃ±a',\n",
    " 'San AgustÃ\\xadn del Guadalix',\n",
    " 'San MartÃ\\xadn de Valdeiglesias',\n",
    " 'San MartÃ\\xadn de la Vega',\n",
    " 'San SebastiÃ¡n de los Reyes',\n",
    " 'Santa MarÃ\\xada de la Alameda',\n",
    " 'TorrejÃ³n de Ardoz',\n",
    " 'TorrejÃ³n de Velasco',\n",
    " 'TorrejÃ³n de la Calzada',\n",
    " 'ValdepiÃ©lagos',\n",
    " 'Valverde de AlcalÃ¡',\n",
    " 'Villanueva de la CaÃ±ada',\n",
    " 'Villarejo de SalvanÃ©s',\n",
    " 'Villaviciosa de OdÃ³n'\n",
    "], [\n",
    " 'Alcalá de Henares',\n",
    " 'Alcorcón',\n",
    " 'Carabaña',\n",
    " 'Chapinería',\n",
    " 'Chinchón',\n",
    " 'Cobeña',\n",
    " 'El Vellón',\n",
    " 'El Álamo',\n",
    " 'Fuentidueña de Tajo',\n",
    " 'Griñón',\n",
    " 'Horcajo de la Sierra',\n",
    " 'Jurisdicción Macomunada de El Boalo y Manzanares el Real (El Chaparral)',\n",
    " 'Jurisdicción Mancomunada de Cerdedilla y Navacerrada',\n",
    " 'Leganés',\n",
    " 'Morata de Tajuña',\n",
    " 'Móstoles',\n",
    " 'Navarredonda y San Mamés',\n",
    " 'Nuevo Baztán',\n",
    " 'Orusco de Tajuña',\n",
    " 'Perales de Tajuña',\n",
    " 'Piñuécar-Gandullas',\n",
    " 'Pozuelo de Alarcón',\n",
    " 'Prádena del Rincón',\n",
    " 'Rascafría',\n",
    " 'Redueña',\n",
    " 'San Agustín del Guadalix',\n",
    " 'San Martín de Valdeiglesias',\n",
    " 'San Martín de la Vega',\n",
    " 'San Sebastián de los Reyes',\n",
    " 'Santa María de la Alameda',\n",
    " 'Torrejón de Ardoz',\n",
    " 'Torrejón de Velasco',\n",
    " 'Torrejón de la Calzada',\n",
    " 'Valdepiélagos',\n",
    " 'Valverde de Alcalá',\n",
    " 'Villanueva de la Cañada',\n",
    " 'Villarejo de Salvanés',\n",
    " 'Villaviciosa de Odón'])\n",
    "\n",
    "map_municipios.head()"
   ]
  },
  {
   "cell_type": "code",
   "execution_count": null,
   "metadata": {},
   "outputs": [],
   "source": [
    "no_intersection_map = set(map_municipios['municipio']).difference(set(data['municipio']))\n",
    "len(no_intersection_map)\n",
    "no_intersection_map"
   ]
  },
  {
   "cell_type": "code",
   "execution_count": null,
   "metadata": {},
   "outputs": [],
   "source": [
    "# veamos cuál de los valores del dataframe 'data' coincide con estos 3 valores de diferencia\n",
    "data[data['municipio'].str.contains('Horcajo de la Sierra', na=False)]"
   ]
  },
  {
   "cell_type": "code",
   "execution_count": null,
   "metadata": {},
   "outputs": [],
   "source": [
    "data[data['municipio'].str.contains('Manzanares', na=False)]"
   ]
  },
  {
   "cell_type": "code",
   "execution_count": null,
   "metadata": {},
   "outputs": [],
   "source": [
    "data[data['municipio'].str.contains('Navacerrada', na=False)]"
   ]
  },
  {
   "cell_type": "code",
   "execution_count": null,
   "metadata": {},
   "outputs": [],
   "source": [
    "# ya sabemos con qué valores reemplazarlos:\n",
    "map_municipios['municipio'] = map_municipios['municipio'].replace({\n",
    "    'Horcajo de la Sierra': 'Horcajo de la Sierra-Aoslos',\n",
    "    'Jurisdicción Macomunada de El Boalo y Manzanares el Real (El Chaparral)': 'Manzanares el Real',\n",
    "    'Jurisdicción Mancomunada de Cerdedilla y Navacerrada': 'Navacerrada'\n",
    "})\n",
    "\n",
    "no_intersection_map = set(map_municipios['municipio']).difference(set(data['municipio']))\n",
    "len(no_intersection_map)\n",
    "no_intersection_map"
   ]
  },
  {
   "cell_type": "code",
   "execution_count": null,
   "metadata": {},
   "outputs": [],
   "source": [
    "# map_municipios[map_municipios['municipio'].str.contains('Navacerrada', na=False)]\n",
    "map_municipios[map_municipios['municipio'].str.contains('Manzanares', na=False)]\n",
    "map_municipios[map_municipios['municipio'].str.contains('Horcajo', na=False)]"
   ]
  },
  {
   "cell_type": "code",
   "execution_count": null,
   "metadata": {},
   "outputs": [],
   "source": [
    "# sale ok, pero con len(result)=163\n",
    "# result = data.merge(map_municipios, on=['cpro', 'cmun'])\n",
    "\n",
    "# sale ok, pero con len(result)=182\n",
    "# result = pd.merge(data, map_municipios, left_index=True , right_index=True, how='outer')\n",
    "\n",
    "# sale ok, pero con len(result)=179  ----> después falla a la hora de representar el mapa, no sé por qué\n",
    "# result = pd.merge(data, map_municipios, how='inner', on=[\"cpro\", \"cmun\"])\n",
    "result = pd.merge(data, map_municipios, how='left', on='municipio')\n",
    "\n",
    "# como en el ejemplo de maps:\n",
    "# result = map_municipios.merge(data, left_on=\"municipio\", right_on=\"municipio\", how=\"inner\")\n",
    "\n",
    "data['municipio'] = data['municipio'].str.title()\n",
    "data['municipio'] = data['municipio'].str.strip()\n",
    "map_municipios['municipio'] = map_municipios['municipio'].str.title()\n",
    "map_municipios['municipio'] = map_municipios['municipio'].str.strip()\n",
    "\n",
    "# result = map_municipios.merge(data, left_on=\"cpro\", right_on=\"cmun\", how=\"inner\")\n",
    "# result = data.merge(map_municipios, left_on=\"municipio\", right_on=\"cmun\", how=\"inner\")\n",
    "\n",
    "# sale ok, pero con len(result)=179\n",
    "# result = pd.merge(data, map_municipios, left_index=True , right_index=True, how='inner')"
   ]
  },
  {
   "cell_type": "code",
   "execution_count": null,
   "metadata": {},
   "outputs": [],
   "source": [
    "result.iloc[-1]"
   ]
  },
  {
   "cell_type": "code",
   "execution_count": null,
   "metadata": {},
   "outputs": [],
   "source": [
    "len(result)"
   ]
  },
  {
   "cell_type": "code",
   "execution_count": null,
   "metadata": {},
   "outputs": [],
   "source": [
    "result.info()"
   ]
  },
  {
   "cell_type": "code",
   "execution_count": null,
   "metadata": {},
   "outputs": [],
   "source": [
    "result.info()"
   ]
  },
  {
   "cell_type": "code",
   "execution_count": null,
   "metadata": {},
   "outputs": [],
   "source": [
    "# result.iloc[-1]\n",
    "# result['municipio'].iloc[[-1]]\n",
    "result.head()"
   ]
  },
  {
   "cell_type": "code",
   "execution_count": null,
   "metadata": {},
   "outputs": [],
   "source": [
    "data.head()"
   ]
  },
  {
   "cell_type": "code",
   "execution_count": null,
   "metadata": {},
   "outputs": [],
   "source": [
    "data.info()"
   ]
  },
  {
   "cell_type": "code",
   "execution_count": null,
   "metadata": {},
   "outputs": [],
   "source": []
  },
  {
   "cell_type": "code",
   "execution_count": null,
   "metadata": {},
   "outputs": [],
   "source": [
    "data['geometry'] = map_municipios['geometry']"
   ]
  },
  {
   "cell_type": "code",
   "execution_count": null,
   "metadata": {},
   "outputs": [],
   "source": [
    "from geopandas import GeoDataFrame\n",
    "data = GeoDataFrame(data)\n",
    "\n",
    "#result = GeoDataFrame(result)"
   ]
  },
  {
   "cell_type": "code",
   "execution_count": null,
   "metadata": {},
   "outputs": [],
   "source": [
    "result.head()"
   ]
  },
  {
   "cell_type": "code",
   "execution_count": null,
   "metadata": {},
   "outputs": [],
   "source": [
    "result.info()"
   ]
  },
  {
   "cell_type": "code",
   "execution_count": null,
   "metadata": {},
   "outputs": [],
   "source": [
    "# vamos a corregir los nombres de las columnas de nuestro dataset antes de representarlos en el mapa:\n",
    "result = result.rename(columns={\n",
    "    'Censo': 'censo', \n",
    "    'Certif. Alta': 'certif_alta',\n",
    "    'Censo Total': 'censo_alta',\n",
    "    'Votos Totales': 'votos_totales',\n",
    "    'Votos Blancos': 'votos_blancos',\n",
    "    'Votos Nulos': 'votos_nulos',\n",
    "    'Abstención': 'abstencion',\n",
    "    'Votos Válidos': 'votos_validos',\n",
    "    'Votos Candidaturas': 'votos_candidaturas',\n",
    "    'Cs': 'cs',\n",
    "    'PUM+J': 'pum_j',\n",
    "    'PCTE': 'pcte',\n",
    "    'FE de las JONS': 'fe_jons',\n",
    "    'PH': 'ph',\n",
    "    'PACMA': 'pacma',\n",
    "    '3e en acción': '3e',\n",
    "    'PARTIDO AUTÓNOMOS': 'partido_autonomos',\n",
    "    'P.S.O.E.': 'psoe',\n",
    "    'PP': 'pp',\n",
    "    'PCOE-PCPE': 'pcoe_pcpe',\n",
    "    'VOLT': 'volt',\n",
    "    'VOX': 'vox',\n",
    "    'P-LIB': 'plib',\n",
    "    'POLE': 'pole',\n",
    "    'MÁS MADRID': 'mas_madrid',\n",
    "    'EB': 'eb',\n",
    "    'UDEC': 'udec',\n",
    "    'PODEMOS-IU': 'podemos_iu',\n",
    "    'RECORTES CERO-PCAS-TC-GV-M': 'recortes_cero',\n",
    "})"
   ]
  },
  {
   "cell_type": "code",
   "execution_count": null,
   "metadata": {},
   "outputs": [],
   "source": [
    "# convertimos las columnas de votos en float porque algunos aparecen como 'object':\n",
    "# result['censo'] = result['censo'].replace(\".\", \"\")\n",
    "# result['censo'] = result['censo'].astype(float)\n",
    "# result['censo'].iloc[0]"
   ]
  },
  {
   "cell_type": "code",
   "execution_count": null,
   "metadata": {},
   "outputs": [],
   "source": [
    "# añado nuevas columnas\n",
    "result[\"pp_share\"] = result[\"pp\"] / result[\"votos_totales\"]\n",
    "result[\"rel_pp_share\"] = result[\"pp\"] / (result[\"pp\"]+result[\"psoe\"])\n",
    "result[\"psoe_share\"] = result[\"psoe\"] / result[\"votos_totales\"]\n",
    "result[\"rel_psoe_share\"] = result[\"psoe\"] / (result[\"pp\"]+result[\"psoe\"])\n",
    "\n",
    "result.head()"
   ]
  },
  {
   "cell_type": "code",
   "execution_count": null,
   "metadata": {},
   "outputs": [],
   "source": [
    "result.info()"
   ]
  },
  {
   "cell_type": "code",
   "execution_count": null,
   "metadata": {},
   "outputs": [],
   "source": [
    "# Control del tamaño de la figura del mapa\n",
    "fig, ax = plt.subplots(figsize=(10, 10))\n",
    " \n",
    "# Control del título y los ejes\n",
    "ax.set_title('Municipios Madrid', \n",
    "             pad = 20, \n",
    "             fontdict={'fontsize':20, 'color': '#4873ab'})\n",
    "ax.set_xlabel('Longitud')\n",
    "ax.set_ylabel('Latitud')\n",
    "\n",
    "# Añadir la leyenda separada del mapa\n",
    "from mpl_toolkits.axes_grid1 import make_axes_locatable\n",
    "divider = make_axes_locatable(ax)\n",
    "cax = divider.append_axes(\"right\", size=\"5%\", pad=0.2)\n",
    " \n",
    "# Mostrar el mapa finalizado\n",
    "data.plot(column='PODEMOS-IU', cmap='plasma',legend=True, cax=cax, ax=ax, zorder=5)"
   ]
  },
  {
   "cell_type": "code",
   "execution_count": null,
   "metadata": {},
   "outputs": [],
   "source": [
    "from bokeh.io import output_notebook\n",
    "from bokeh.plotting import figure, ColumnDataSource\n",
    "from bokeh.io import output_notebook, show, output_file\n",
    "from bokeh.plotting import figure\n",
    "from bokeh.models import GeoJSONDataSource, LinearColorMapper, ColorBar, HoverTool\n",
    "from bokeh.palettes import brewer\n",
    "output_notebook()\n",
    "import json\n",
    "\n",
    "\n",
    "#Convert data to geojson for bokeh\n",
    "wi_geojson=GeoJSONDataSource(geojson=data.to_json())\n",
    "\n",
    "#wi_geojson=GeoJSONDataSource(geojson=result.to_json())\n",
    "\n",
    "#wi_geojson=GeoJSONDataSource(geojson=map_municipios.to_json())"
   ]
  },
  {
   "cell_type": "code",
   "execution_count": null,
   "metadata": {},
   "outputs": [],
   "source": [
    "color_mapper = LinearColorMapper(palette = brewer['RdBu'][10], low = 0, high = 1)\n",
    "color_bar = ColorBar(color_mapper=color_mapper, label_standoff=8,width = 500, height = 20,\n",
    "                     border_line_color=None,location = (0,0), orientation = 'horizontal')\n",
    "hover = HoverTool(tooltips = [ ('municipio_x','@municipio_x'),('PP', '@PP'),\n",
    "                               ('P.S.O.E.','@P.S.O.E.'),\n",
    "                               ('Votos Totales','@Votos Totales')])\n",
    "p = figure(title=\"Elecciones Madrid 2021\", tools=[hover])\n",
    "p.patches(\"xs\",\"ys\",source=wi_geojson,\n",
    "          fill_color = {'field' :'PP', 'transform' : color_mapper})\n",
    "p.add_layout(color_bar, 'below')\n",
    "show(p)"
   ]
  },
  {
   "cell_type": "code",
   "execution_count": null,
   "metadata": {},
   "outputs": [],
   "source": [
    "# map_municipios\n",
    "from bokeh.io import output_notebook\n",
    "from bokeh.plotting import figure, ColumnDataSource\n",
    "from bokeh.io import output_notebook, show, output_file\n",
    "from bokeh.plotting import figure\n",
    "from bokeh.models import GeoJSONDataSource, LinearColorMapper, ColorBar, HoverTool\n",
    "from bokeh.palettes import brewer\n",
    "output_notebook()\n",
    "import json\n",
    "\n",
    "\n",
    "#Convert data to geojson for bokeh\n",
    "# wi_geojson=GeoJSONDataSource(geojson=data.to_json())\n",
    "# wi_geojson=GeoJSONDataSource(geojson=result.to_json())\n",
    "\n",
    "wi_geojson=GeoJSONDataSource(geojson=map_municipios.to_json())\n",
    "\n",
    "color_mapper = LinearColorMapper(palette = brewer['RdBu'][10], low = 0, high = 1)\n",
    "color_bar = ColorBar(color_mapper=color_mapper, label_standoff=8,width = 500, height = 20,\n",
    "                     border_line_color=None,location = (0,0), orientation = 'horizontal')\n",
    "hover = HoverTool(tooltips = [ ('municipio','@municipio'),('PP', '@PP'),\n",
    "                               ('psoe','@psoe'),\n",
    "                               ('votos_totales','@votos_totales')])\n",
    "p = figure(title=\"Elecciones Madrid 2021\", tools=[hover])\n",
    "p.patches(\"xs\",\"ys\",source=wi_geojson,\n",
    "          fill_color = {'field' :'pp', 'transform' : color_mapper})\n",
    "p.add_layout(color_bar, 'below')\n",
    "show(p)"
   ]
  },
  {
   "cell_type": "code",
   "execution_count": null,
   "metadata": {},
   "outputs": [],
   "source": [
    "# result\n",
    "from bokeh.io import output_notebook\n",
    "from bokeh.plotting import figure, ColumnDataSource\n",
    "from bokeh.io import output_notebook, show, output_file\n",
    "from bokeh.plotting import figure\n",
    "from bokeh.models import GeoJSONDataSource, LinearColorMapper, ColorBar, HoverTool\n",
    "from bokeh.palettes import brewer\n",
    "output_notebook()\n",
    "import json\n",
    "\n",
    "\n",
    "#Convert data to geojson for bokeh\n",
    "# wi_geojson=GeoJSONDataSource(geojson=data.to_json())\n",
    "# wi_geojson=GeoJSONDataSource(geojson=result.to_json())\n",
    "\n",
    "result = GeoDataFrame(result)\n",
    "wi_geojson=GeoJSONDataSource(geojson=result.to_json())\n",
    "\n",
    "color_mapper = LinearColorMapper(palette = brewer['RdBu'][10], low = 0, high = 1)\n",
    "color_bar = ColorBar(color_mapper=color_mapper, label_standoff=8,width = 500, height = 20,\n",
    "                     border_line_color=None,location = (0,0), orientation = 'horizontal')\n",
    "hover = HoverTool(tooltips = [ ('municipio','@municipio'),('pp', '@pp_share'),\n",
    "                               ('psoe','@psoe_share'),\n",
    "                               ('votos_totales','@votos_totales')])\n",
    "p = figure(title=\"Elecciones Madrid 2021\", tools=[hover])\n",
    "p.patches(\"xs\",\"ys\",source=wi_geojson,\n",
    "          fill_color = {'field' :'rel_psoe_share', 'transform' : color_mapper})\n",
    "p.add_layout(color_bar, 'below')\n",
    "show(p)"
   ]
  },
  {
   "cell_type": "code",
   "execution_count": null,
   "metadata": {},
   "outputs": [],
   "source": [
    "result[result['municipio']=='Madrid']['pp']"
   ]
  },
  {
   "cell_type": "code",
   "execution_count": null,
   "metadata": {},
   "outputs": [],
   "source": [
    "data[data['municipio']=='Madrid']['PP']"
   ]
  },
  {
   "cell_type": "code",
   "execution_count": null,
   "metadata": {},
   "outputs": [],
   "source": []
  },
  {
   "cell_type": "code",
   "execution_count": null,
   "metadata": {},
   "outputs": [],
   "source": []
  }
 ],
 "metadata": {
  "kernelspec": {
   "display_name": "Python 3",
   "language": "python",
   "name": "python3"
  },
  "language_info": {
   "codemirror_mode": {
    "name": "ipython",
    "version": 3
   },
   "file_extension": ".py",
   "mimetype": "text/x-python",
   "name": "python",
   "nbconvert_exporter": "python",
   "pygments_lexer": "ipython3",
   "version": "3.8.8"
  }
 },
 "nbformat": 4,
 "nbformat_minor": 2
}
