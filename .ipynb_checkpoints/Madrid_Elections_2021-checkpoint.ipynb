{
 "cells": [
  {
   "cell_type": "markdown",
   "metadata": {},
   "source": [
    "# Elecciones Madrid 2021 #\n",
    "\n",
    "## Objetivo del presente trabajo ##\n",
    "\n",
    "El presente trabajo tiene como objetivo analizar los resultados de las pasadas elecciones del 4 de mayo en Madrid. Para ello se utlizarán los resultados electorales oficiales del siguiente enlace [https://resultados2021.comunidad.madrid/Mesas/es]. Se analizarán los resultados a nivel global de la Comunidad de Madrid, para luego pasar a un análisis más pormenorizado de la siguiente forma: Madrid Ciudad, conjunto de ciudades de relevancia y el conjunto de ciudades y pueblos fuera de los principales núcleos de población.\n",
    "\n",
    "Se analizarán los datos en su conjunto para luego incidir en la distribución espacial del voto de los partidos que finalmente obtuvieron representación. Un análisis de la edad de la población en cada uno de los espacios (edad, nivel adquisitivo, etc) nos permitirá saber si exise un claro perfil de votante para cada uno de los partidos."
   ]
  },
  {
   "cell_type": "code",
   "execution_count": 1,
   "metadata": {},
   "outputs": [],
   "source": [
    "# leer csv:\n",
    "import pandas as pd\n",
    "import numpy as np"
   ]
  },
  {
   "cell_type": "code",
   "execution_count": 2,
   "metadata": {},
   "outputs": [],
   "source": [
    "data = pd.read_csv('Elecciones_Madrid_2021_Municipios.csv', delimiter=';')"
   ]
  },
  {
   "cell_type": "code",
   "execution_count": 3,
   "metadata": {},
   "outputs": [],
   "source": [
    "data = data.rename(columns={\"Codcir\":\"cpro\", \"Codmun\":\"cmun\", \"Municipio\":\"municipio\"})"
   ]
  },
  {
   "cell_type": "code",
   "execution_count": 4,
   "metadata": {},
   "outputs": [
    {
     "name": "stdout",
     "output_type": "stream",
     "text": [
      "<class 'pandas.core.frame.DataFrame'>\n",
      "RangeIndex: 179 entries, 0 to 178\n",
      "Data columns (total 33 columns):\n",
      " #   Column                      Non-Null Count  Dtype  \n",
      "---  ------                      --------------  -----  \n",
      " 0   cpro                        179 non-null    int64  \n",
      " 1   cmun                        179 non-null    int64  \n",
      " 2   municipio                   179 non-null    object \n",
      " 3   Unnamed: 3                  0 non-null      float64\n",
      " 4   Censo                       179 non-null    object \n",
      " 5   Certif. Alta                179 non-null    int64  \n",
      " 6   Censo Total                 179 non-null    object \n",
      " 7   Votos Totales               179 non-null    object \n",
      " 8   Votos Blancos               179 non-null    float64\n",
      " 9   Votos Nulos                 179 non-null    float64\n",
      " 10  Abstención                  179 non-null    float64\n",
      " 11  Votos Válidos               179 non-null    object \n",
      " 12  Votos Candidaturas          179 non-null    object \n",
      " 13  Cs                          179 non-null    float64\n",
      " 14  PUM+J                       179 non-null    float64\n",
      " 15  PCTE                        179 non-null    int64  \n",
      " 16  FE de las JONS              179 non-null    int64  \n",
      " 17  PH                          179 non-null    int64  \n",
      " 18  PACMA                       179 non-null    float64\n",
      " 19  3e en acción                179 non-null    int64  \n",
      " 20  PARTIDO AUTÓNOMOS           179 non-null    int64  \n",
      " 21  P.S.O.E.                    179 non-null    float64\n",
      " 22  PP                          179 non-null    float64\n",
      " 23  PCOE-PCPE                   179 non-null    int64  \n",
      " 24  VOLT                        179 non-null    float64\n",
      " 25  VOX                         179 non-null    float64\n",
      " 26  P-LIB                       179 non-null    int64  \n",
      " 27  POLE                        179 non-null    int64  \n",
      " 28  MÁS MADRID                  179 non-null    float64\n",
      " 29  EB                          179 non-null    float64\n",
      " 30  UDEC                        179 non-null    int64  \n",
      " 31  PODEMOS-IU                  179 non-null    float64\n",
      " 32  RECORTES CERO-PCAS-TC-GV-M  179 non-null    int64  \n",
      "dtypes: float64(14), int64(13), object(6)\n",
      "memory usage: 46.3+ KB\n"
     ]
    }
   ],
   "source": [
    "data.info()"
   ]
  },
  {
   "cell_type": "code",
   "execution_count": 5,
   "metadata": {},
   "outputs": [
    {
     "name": "stdout",
     "output_type": "stream",
     "text": [
      "<class 'pandas.core.frame.DataFrame'>\n",
      "RangeIndex: 179 entries, 0 to 178\n",
      "Data columns (total 33 columns):\n",
      " #   Column                      Non-Null Count  Dtype  \n",
      "---  ------                      --------------  -----  \n",
      " 0   cpro                        179 non-null    int64  \n",
      " 1   cmun                        179 non-null    int64  \n",
      " 2   municipio                   179 non-null    object \n",
      " 3   Unnamed: 3                  0 non-null      float64\n",
      " 4   Censo                       179 non-null    object \n",
      " 5   Certif. Alta                179 non-null    int64  \n",
      " 6   Censo Total                 179 non-null    object \n",
      " 7   Votos Totales               179 non-null    object \n",
      " 8   Votos Blancos               179 non-null    float64\n",
      " 9   Votos Nulos                 179 non-null    float64\n",
      " 10  Abstención                  179 non-null    float64\n",
      " 11  Votos Válidos               179 non-null    object \n",
      " 12  Votos Candidaturas          179 non-null    object \n",
      " 13  Cs                          179 non-null    float64\n",
      " 14  PUM+J                       179 non-null    float64\n",
      " 15  PCTE                        179 non-null    int64  \n",
      " 16  FE de las JONS              179 non-null    int64  \n",
      " 17  PH                          179 non-null    int64  \n",
      " 18  PACMA                       179 non-null    float64\n",
      " 19  3e en acción                179 non-null    int64  \n",
      " 20  PARTIDO AUTÓNOMOS           179 non-null    int64  \n",
      " 21  P.S.O.E.                    179 non-null    float64\n",
      " 22  PP                          179 non-null    float64\n",
      " 23  PCOE-PCPE                   179 non-null    int64  \n",
      " 24  VOLT                        179 non-null    float64\n",
      " 25  VOX                         179 non-null    float64\n",
      " 26  P-LIB                       179 non-null    int64  \n",
      " 27  POLE                        179 non-null    int64  \n",
      " 28  MÁS MADRID                  179 non-null    float64\n",
      " 29  EB                          179 non-null    float64\n",
      " 30  UDEC                        179 non-null    int64  \n",
      " 31  PODEMOS-IU                  179 non-null    float64\n",
      " 32  RECORTES CERO-PCAS-TC-GV-M  179 non-null    int64  \n",
      "dtypes: float64(14), int64(13), object(6)\n",
      "memory usage: 46.3+ KB\n"
     ]
    }
   ],
   "source": [
    "data['municipio']=data['municipio'].astype(str)\n",
    "data.info()"
   ]
  },
  {
   "cell_type": "code",
   "execution_count": 6,
   "metadata": {},
   "outputs": [
    {
     "data": {
      "text/html": [
       "<div>\n",
       "<style scoped>\n",
       "    .dataframe tbody tr th:only-of-type {\n",
       "        vertical-align: middle;\n",
       "    }\n",
       "\n",
       "    .dataframe tbody tr th {\n",
       "        vertical-align: top;\n",
       "    }\n",
       "\n",
       "    .dataframe thead th {\n",
       "        text-align: right;\n",
       "    }\n",
       "</style>\n",
       "<table border=\"1\" class=\"dataframe\">\n",
       "  <thead>\n",
       "    <tr style=\"text-align: right;\">\n",
       "      <th></th>\n",
       "      <th>cpro</th>\n",
       "      <th>cmun</th>\n",
       "      <th>municipio</th>\n",
       "      <th>Unnamed: 3</th>\n",
       "      <th>Censo</th>\n",
       "      <th>Certif. Alta</th>\n",
       "      <th>Censo Total</th>\n",
       "      <th>Votos Totales</th>\n",
       "      <th>Votos Blancos</th>\n",
       "      <th>Votos Nulos</th>\n",
       "      <th>...</th>\n",
       "      <th>PCOE-PCPE</th>\n",
       "      <th>VOLT</th>\n",
       "      <th>VOX</th>\n",
       "      <th>P-LIB</th>\n",
       "      <th>POLE</th>\n",
       "      <th>MÁS MADRID</th>\n",
       "      <th>EB</th>\n",
       "      <th>UDEC</th>\n",
       "      <th>PODEMOS-IU</th>\n",
       "      <th>RECORTES CERO-PCAS-TC-GV-M</th>\n",
       "    </tr>\n",
       "  </thead>\n",
       "  <tbody>\n",
       "    <tr>\n",
       "      <th>0</th>\n",
       "      <td>28</td>\n",
       "      <td>2</td>\n",
       "      <td>Ajalvir</td>\n",
       "      <td>NaN</td>\n",
       "      <td>3.251</td>\n",
       "      <td>0</td>\n",
       "      <td>3.251</td>\n",
       "      <td>2.339</td>\n",
       "      <td>10.0</td>\n",
       "      <td>15.0</td>\n",
       "      <td>...</td>\n",
       "      <td>0</td>\n",
       "      <td>0.0</td>\n",
       "      <td>340.000</td>\n",
       "      <td>1</td>\n",
       "      <td>0</td>\n",
       "      <td>330.000</td>\n",
       "      <td>1.0</td>\n",
       "      <td>1</td>\n",
       "      <td>101.000</td>\n",
       "      <td>0</td>\n",
       "    </tr>\n",
       "    <tr>\n",
       "      <th>1</th>\n",
       "      <td>28</td>\n",
       "      <td>3</td>\n",
       "      <td>Alameda del Valle</td>\n",
       "      <td>NaN</td>\n",
       "      <td>195</td>\n",
       "      <td>0</td>\n",
       "      <td>195</td>\n",
       "      <td>168</td>\n",
       "      <td>3.0</td>\n",
       "      <td>0.0</td>\n",
       "      <td>...</td>\n",
       "      <td>0</td>\n",
       "      <td>0.0</td>\n",
       "      <td>16.000</td>\n",
       "      <td>0</td>\n",
       "      <td>0</td>\n",
       "      <td>36.000</td>\n",
       "      <td>0.0</td>\n",
       "      <td>0</td>\n",
       "      <td>11.000</td>\n",
       "      <td>0</td>\n",
       "    </tr>\n",
       "    <tr>\n",
       "      <th>2</th>\n",
       "      <td>28</td>\n",
       "      <td>5</td>\n",
       "      <td>Alcalá de Henares</td>\n",
       "      <td>NaN</td>\n",
       "      <td>136.163</td>\n",
       "      <td>4</td>\n",
       "      <td>136.167</td>\n",
       "      <td>100.932</td>\n",
       "      <td>603.0</td>\n",
       "      <td>789.0</td>\n",
       "      <td>...</td>\n",
       "      <td>25</td>\n",
       "      <td>45.0</td>\n",
       "      <td>9.735</td>\n",
       "      <td>21</td>\n",
       "      <td>10</td>\n",
       "      <td>15.540</td>\n",
       "      <td>70.0</td>\n",
       "      <td>26</td>\n",
       "      <td>7.017</td>\n",
       "      <td>29</td>\n",
       "    </tr>\n",
       "    <tr>\n",
       "      <th>3</th>\n",
       "      <td>28</td>\n",
       "      <td>6</td>\n",
       "      <td>Alcobendas</td>\n",
       "      <td>NaN</td>\n",
       "      <td>80.401</td>\n",
       "      <td>2</td>\n",
       "      <td>80.403</td>\n",
       "      <td>62.036</td>\n",
       "      <td>297.0</td>\n",
       "      <td>363.0</td>\n",
       "      <td>...</td>\n",
       "      <td>12</td>\n",
       "      <td>36.0</td>\n",
       "      <td>5.533</td>\n",
       "      <td>24</td>\n",
       "      <td>8</td>\n",
       "      <td>8.212</td>\n",
       "      <td>60.0</td>\n",
       "      <td>44</td>\n",
       "      <td>3.430</td>\n",
       "      <td>26</td>\n",
       "    </tr>\n",
       "    <tr>\n",
       "      <th>4</th>\n",
       "      <td>28</td>\n",
       "      <td>7</td>\n",
       "      <td>Alcorcón</td>\n",
       "      <td>NaN</td>\n",
       "      <td>126.919</td>\n",
       "      <td>0</td>\n",
       "      <td>126.919</td>\n",
       "      <td>97.563</td>\n",
       "      <td>565.0</td>\n",
       "      <td>769.0</td>\n",
       "      <td>...</td>\n",
       "      <td>20</td>\n",
       "      <td>35.0</td>\n",
       "      <td>7.841</td>\n",
       "      <td>14</td>\n",
       "      <td>4</td>\n",
       "      <td>16.945</td>\n",
       "      <td>128.0</td>\n",
       "      <td>24</td>\n",
       "      <td>7.707</td>\n",
       "      <td>66</td>\n",
       "    </tr>\n",
       "  </tbody>\n",
       "</table>\n",
       "<p>5 rows × 33 columns</p>\n",
       "</div>"
      ],
      "text/plain": [
       "   cpro  cmun          municipio  Unnamed: 3    Censo  Certif. Alta  \\\n",
       "0    28     2            Ajalvir         NaN    3.251             0   \n",
       "1    28     3  Alameda del Valle         NaN      195             0   \n",
       "2    28     5  Alcalá de Henares         NaN  136.163             4   \n",
       "3    28     6         Alcobendas         NaN   80.401             2   \n",
       "4    28     7           Alcorcón         NaN  126.919             0   \n",
       "\n",
       "  Censo Total Votos Totales  Votos Blancos  Votos Nulos  ...  PCOE-PCPE  VOLT  \\\n",
       "0       3.251         2.339           10.0         15.0  ...          0   0.0   \n",
       "1         195           168            3.0          0.0  ...          0   0.0   \n",
       "2     136.167       100.932          603.0        789.0  ...         25  45.0   \n",
       "3      80.403        62.036          297.0        363.0  ...         12  36.0   \n",
       "4     126.919        97.563          565.0        769.0  ...         20  35.0   \n",
       "\n",
       "       VOX  P-LIB  POLE  MÁS MADRID     EB  UDEC  PODEMOS-IU  \\\n",
       "0  340.000      1     0     330.000    1.0     1     101.000   \n",
       "1   16.000      0     0      36.000    0.0     0      11.000   \n",
       "2    9.735     21    10      15.540   70.0    26       7.017   \n",
       "3    5.533     24     8       8.212   60.0    44       3.430   \n",
       "4    7.841     14     4      16.945  128.0    24       7.707   \n",
       "\n",
       "   RECORTES CERO-PCAS-TC-GV-M  \n",
       "0                           0  \n",
       "1                           0  \n",
       "2                          29  \n",
       "3                          26  \n",
       "4                          66  \n",
       "\n",
       "[5 rows x 33 columns]"
      ]
     },
     "execution_count": 6,
     "metadata": {},
     "output_type": "execute_result"
    }
   ],
   "source": [
    "data.head()"
   ]
  },
  {
   "cell_type": "code",
   "execution_count": 7,
   "metadata": {},
   "outputs": [
    {
     "data": {
      "text/plain": [
       "cpro                               28\n",
       "cmun                                2\n",
       "municipio                     Ajalvir\n",
       "Unnamed: 3                        NaN\n",
       "Censo                           3.251\n",
       "Certif. Alta                        0\n",
       "Censo Total                     3.251\n",
       "Votos Totales                   2.339\n",
       "Votos Blancos                    10.0\n",
       "Votos Nulos                      15.0\n",
       "Abstención                      912.0\n",
       "Votos Válidos                   2.324\n",
       "Votos Candidaturas              2.314\n",
       "Cs                               56.0\n",
       "PUM+J                             0.0\n",
       "PCTE                                1\n",
       "FE de las JONS                      3\n",
       "PH                                  1\n",
       "PACMA                             4.0\n",
       "3e en acción                        1\n",
       "PARTIDO AUTÓNOMOS                   1\n",
       "P.S.O.E.                        325.0\n",
       "PP                              1.148\n",
       "PCOE-PCPE                           0\n",
       "VOLT                              0.0\n",
       "VOX                             340.0\n",
       "P-LIB                               1\n",
       "POLE                                0\n",
       "MÁS MADRID                      330.0\n",
       "EB                                1.0\n",
       "UDEC                                1\n",
       "PODEMOS-IU                      101.0\n",
       "RECORTES CERO-PCAS-TC-GV-M          0\n",
       "Name: 0, dtype: object"
      ]
     },
     "execution_count": 7,
     "metadata": {},
     "output_type": "execute_result"
    }
   ],
   "source": [
    "data.iloc[0]"
   ]
  },
  {
   "cell_type": "code",
   "execution_count": 8,
   "metadata": {},
   "outputs": [],
   "source": [
    "import geopandas as gpd\n",
    "import matplotlib.pyplot as plt"
   ]
  },
  {
   "cell_type": "code",
   "execution_count": 9,
   "metadata": {},
   "outputs": [
    {
     "data": {
      "text/html": [
       "<div>\n",
       "<style scoped>\n",
       "    .dataframe tbody tr th:only-of-type {\n",
       "        vertical-align: middle;\n",
       "    }\n",
       "\n",
       "    .dataframe tbody tr th {\n",
       "        vertical-align: top;\n",
       "    }\n",
       "\n",
       "    .dataframe thead th {\n",
       "        text-align: right;\n",
       "    }\n",
       "</style>\n",
       "<table border=\"1\" class=\"dataframe\">\n",
       "  <thead>\n",
       "    <tr style=\"text-align: right;\">\n",
       "      <th></th>\n",
       "      <th>id_0</th>\n",
       "      <th>iso</th>\n",
       "      <th>pais</th>\n",
       "      <th>id_1</th>\n",
       "      <th>communidad_</th>\n",
       "      <th>id_2</th>\n",
       "      <th>provincia</th>\n",
       "      <th>id_3</th>\n",
       "      <th>name_3</th>\n",
       "      <th>id_4</th>\n",
       "      <th>...</th>\n",
       "      <th>varname_4</th>\n",
       "      <th>ccn_4</th>\n",
       "      <th>cca_4</th>\n",
       "      <th>type_4</th>\n",
       "      <th>engtype_4</th>\n",
       "      <th>cpro</th>\n",
       "      <th>cmun</th>\n",
       "      <th>dc</th>\n",
       "      <th>codigo_post</th>\n",
       "      <th>geometry</th>\n",
       "    </tr>\n",
       "  </thead>\n",
       "  <tbody>\n",
       "    <tr>\n",
       "      <th>156</th>\n",
       "      <td>215.0</td>\n",
       "      <td>ESP</td>\n",
       "      <td>Spain</td>\n",
       "      <td>8.0</td>\n",
       "      <td>Comunidad de Madrid</td>\n",
       "      <td>33.0</td>\n",
       "      <td>Madrid</td>\n",
       "      <td>234.0</td>\n",
       "      <td>n.a. (176)</td>\n",
       "      <td>5876.0</td>\n",
       "      <td>...</td>\n",
       "      <td>None</td>\n",
       "      <td>0.0</td>\n",
       "      <td>None</td>\n",
       "      <td>Municipality</td>\n",
       "      <td>Municipality</td>\n",
       "      <td>28</td>\n",
       "      <td>002</td>\n",
       "      <td>9</td>\n",
       "      <td>28002</td>\n",
       "      <td>MULTIPOLYGON (((-3.51150 40.53889, -3.50521 40...</td>\n",
       "    </tr>\n",
       "    <tr>\n",
       "      <th>58</th>\n",
       "      <td>215.0</td>\n",
       "      <td>ESP</td>\n",
       "      <td>Spain</td>\n",
       "      <td>8.0</td>\n",
       "      <td>Comunidad de Madrid</td>\n",
       "      <td>33.0</td>\n",
       "      <td>Madrid</td>\n",
       "      <td>233.0</td>\n",
       "      <td>n.a. (175)</td>\n",
       "      <td>5828.0</td>\n",
       "      <td>...</td>\n",
       "      <td>None</td>\n",
       "      <td>0.0</td>\n",
       "      <td>None</td>\n",
       "      <td>Municipality</td>\n",
       "      <td>Municipality</td>\n",
       "      <td>28</td>\n",
       "      <td>003</td>\n",
       "      <td>5</td>\n",
       "      <td>28003</td>\n",
       "      <td>MULTIPOLYGON (((-3.80596 40.89047, -3.80951 40...</td>\n",
       "    </tr>\n",
       "    <tr>\n",
       "      <th>86</th>\n",
       "      <td>215.0</td>\n",
       "      <td>ESP</td>\n",
       "      <td>Spain</td>\n",
       "      <td>8.0</td>\n",
       "      <td>Comunidad de Madrid</td>\n",
       "      <td>33.0</td>\n",
       "      <td>Madrid</td>\n",
       "      <td>234.0</td>\n",
       "      <td>n.a. (176)</td>\n",
       "      <td>5877.0</td>\n",
       "      <td>...</td>\n",
       "      <td>None</td>\n",
       "      <td>0.0</td>\n",
       "      <td>None</td>\n",
       "      <td>Municipality</td>\n",
       "      <td>Municipality</td>\n",
       "      <td>28</td>\n",
       "      <td>005</td>\n",
       "      <td>3</td>\n",
       "      <td>28005</td>\n",
       "      <td>MULTIPOLYGON (((-3.32142 40.47207, -3.32898 40...</td>\n",
       "    </tr>\n",
       "    <tr>\n",
       "      <th>168</th>\n",
       "      <td>215.0</td>\n",
       "      <td>ESP</td>\n",
       "      <td>Spain</td>\n",
       "      <td>8.0</td>\n",
       "      <td>Comunidad de Madrid</td>\n",
       "      <td>33.0</td>\n",
       "      <td>Madrid</td>\n",
       "      <td>235.0</td>\n",
       "      <td>n.a. (177)</td>\n",
       "      <td>5907.0</td>\n",
       "      <td>...</td>\n",
       "      <td>None</td>\n",
       "      <td>0.0</td>\n",
       "      <td>None</td>\n",
       "      <td>Municipality</td>\n",
       "      <td>Municipality</td>\n",
       "      <td>28</td>\n",
       "      <td>006</td>\n",
       "      <td>6</td>\n",
       "      <td>28006</td>\n",
       "      <td>MULTIPOLYGON (((-3.67417 40.58897, -3.65981 40...</td>\n",
       "    </tr>\n",
       "    <tr>\n",
       "      <th>154</th>\n",
       "      <td>215.0</td>\n",
       "      <td>ESP</td>\n",
       "      <td>Spain</td>\n",
       "      <td>8.0</td>\n",
       "      <td>Comunidad de Madrid</td>\n",
       "      <td>33.0</td>\n",
       "      <td>Madrid</td>\n",
       "      <td>235.0</td>\n",
       "      <td>n.a. (177)</td>\n",
       "      <td>5908.0</td>\n",
       "      <td>...</td>\n",
       "      <td>None</td>\n",
       "      <td>0.0</td>\n",
       "      <td>None</td>\n",
       "      <td>Municipality</td>\n",
       "      <td>Municipality</td>\n",
       "      <td>28</td>\n",
       "      <td>007</td>\n",
       "      <td>2</td>\n",
       "      <td>28007</td>\n",
       "      <td>MULTIPOLYGON (((-3.78781 40.35875, -3.79893 40...</td>\n",
       "    </tr>\n",
       "  </tbody>\n",
       "</table>\n",
       "<p>5 rows × 21 columns</p>\n",
       "</div>"
      ],
      "text/plain": [
       "      id_0  iso   pais  id_1          communidad_  id_2 provincia   id_3  \\\n",
       "156  215.0  ESP  Spain   8.0  Comunidad de Madrid  33.0    Madrid  234.0   \n",
       "58   215.0  ESP  Spain   8.0  Comunidad de Madrid  33.0    Madrid  233.0   \n",
       "86   215.0  ESP  Spain   8.0  Comunidad de Madrid  33.0    Madrid  234.0   \n",
       "168  215.0  ESP  Spain   8.0  Comunidad de Madrid  33.0    Madrid  235.0   \n",
       "154  215.0  ESP  Spain   8.0  Comunidad de Madrid  33.0    Madrid  235.0   \n",
       "\n",
       "         name_3    id_4  ... varname_4 ccn_4  cca_4        type_4  \\\n",
       "156  n.a. (176)  5876.0  ...      None   0.0   None  Municipality   \n",
       "58   n.a. (175)  5828.0  ...      None   0.0   None  Municipality   \n",
       "86   n.a. (176)  5877.0  ...      None   0.0   None  Municipality   \n",
       "168  n.a. (177)  5907.0  ...      None   0.0   None  Municipality   \n",
       "154  n.a. (177)  5908.0  ...      None   0.0   None  Municipality   \n",
       "\n",
       "        engtype_4 cpro cmun dc codigo_post  \\\n",
       "156  Municipality   28  002  9       28002   \n",
       "58   Municipality   28  003  5       28003   \n",
       "86   Municipality   28  005  3       28005   \n",
       "168  Municipality   28  006  6       28006   \n",
       "154  Municipality   28  007  2       28007   \n",
       "\n",
       "                                              geometry  \n",
       "156  MULTIPOLYGON (((-3.51150 40.53889, -3.50521 40...  \n",
       "58   MULTIPOLYGON (((-3.80596 40.89047, -3.80951 40...  \n",
       "86   MULTIPOLYGON (((-3.32142 40.47207, -3.32898 40...  \n",
       "168  MULTIPOLYGON (((-3.67417 40.58897, -3.65981 40...  \n",
       "154  MULTIPOLYGON (((-3.78781 40.35875, -3.79893 40...  \n",
       "\n",
       "[5 rows x 21 columns]"
      ]
     },
     "execution_count": 9,
     "metadata": {},
     "output_type": "execute_result"
    }
   ],
   "source": [
    "municipios = 'https://raw.githubusercontent.com/FMullor/TopoJson/master/MadridMunicipios.geojson'\n",
    "map_municipios = gpd.read_file(municipios)\n",
    "map_municipios = map_municipios.sort_values('municipio')\n",
    "map_municipios.head()"
   ]
  },
  {
   "cell_type": "code",
   "execution_count": 10,
   "metadata": {},
   "outputs": [
    {
     "name": "stdout",
     "output_type": "stream",
     "text": [
      "<class 'geopandas.geodataframe.GeoDataFrame'>\n",
      "Int64Index: 182 entries, 156 to 70\n",
      "Data columns (total 21 columns):\n",
      " #   Column       Non-Null Count  Dtype   \n",
      "---  ------       --------------  -----   \n",
      " 0   id_0         182 non-null    float64 \n",
      " 1   iso          182 non-null    object  \n",
      " 2   pais         182 non-null    object  \n",
      " 3   id_1         182 non-null    float64 \n",
      " 4   communidad_  182 non-null    object  \n",
      " 5   id_2         182 non-null    float64 \n",
      " 6   provincia    182 non-null    object  \n",
      " 7   id_3         182 non-null    float64 \n",
      " 8   name_3       182 non-null    object  \n",
      " 9   id_4         182 non-null    float64 \n",
      " 10  municipio    182 non-null    object  \n",
      " 11  varname_4    2 non-null      object  \n",
      " 12  ccn_4        182 non-null    float64 \n",
      " 13  cca_4        0 non-null      object  \n",
      " 14  type_4       182 non-null    object  \n",
      " 15  engtype_4    182 non-null    object  \n",
      " 16  cpro         164 non-null    object  \n",
      " 17  cmun         164 non-null    object  \n",
      " 18  dc           164 non-null    object  \n",
      " 19  codigo_post  164 non-null    object  \n",
      " 20  geometry     182 non-null    geometry\n",
      "dtypes: float64(6), geometry(1), object(14)\n",
      "memory usage: 31.3+ KB\n"
     ]
    }
   ],
   "source": [
    "map_municipios.info()"
   ]
  },
  {
   "cell_type": "code",
   "execution_count": 11,
   "metadata": {},
   "outputs": [
    {
     "name": "stdout",
     "output_type": "stream",
     "text": [
      "<class 'geopandas.geodataframe.GeoDataFrame'>\n",
      "Int64Index: 182 entries, 156 to 70\n",
      "Data columns (total 2 columns):\n",
      " #   Column     Non-Null Count  Dtype   \n",
      "---  ------     --------------  -----   \n",
      " 0   municipio  182 non-null    object  \n",
      " 1   geometry   182 non-null    geometry\n",
      "dtypes: geometry(1), object(1)\n",
      "memory usage: 4.3+ KB\n"
     ]
    }
   ],
   "source": [
    "map_municipios = map_municipios[['municipio', 'geometry']]\n",
    "\n",
    "# pruebas\n",
    "# map_municipios['municipio'] = data['municipio']\n",
    "# pruebas\n",
    "\n",
    "map_municipios.info()"
   ]
  },
  {
   "cell_type": "code",
   "execution_count": 12,
   "metadata": {},
   "outputs": [
    {
     "name": "stdout",
     "output_type": "stream",
     "text": [
      "<class 'geopandas.geodataframe.GeoDataFrame'>\n",
      "Int64Index: 182 entries, 156 to 70\n",
      "Data columns (total 2 columns):\n",
      " #   Column     Non-Null Count  Dtype   \n",
      "---  ------     --------------  -----   \n",
      " 0   municipio  182 non-null    object  \n",
      " 1   geometry   182 non-null    geometry\n",
      "dtypes: geometry(1), object(1)\n",
      "memory usage: 4.3+ KB\n"
     ]
    }
   ],
   "source": [
    "map_municipios = map_municipios.fillna(0)\n",
    "map_municipios['municipio']=map_municipios['municipio'].astype(str)\n",
    "#map_municipios['cpro']=map_municipios['cpro'].astype('int64')\n",
    "#map_municipios['cmun']=map_municipios['cmun'].astype('int64')\n",
    "\n",
    "map_municipios.info()"
   ]
  },
  {
   "cell_type": "code",
   "execution_count": 13,
   "metadata": {},
   "outputs": [
    {
     "data": {
      "text/plain": [
       "municipio                                              Ajalvir\n",
       "geometry     (POLYGON ((-3.511504888534432 40.5388908386231...\n",
       "Name: 156, dtype: object"
      ]
     },
     "execution_count": 13,
     "metadata": {},
     "output_type": "execute_result"
    }
   ],
   "source": [
    "map_municipios.iloc[0]"
   ]
  },
  {
   "cell_type": "code",
   "execution_count": 14,
   "metadata": {},
   "outputs": [
    {
     "data": {
      "text/plain": [
       "municipio                                            Zarzalejo\n",
       "geometry     (POLYGON ((-4.153540134429932 40.5314445495606...\n",
       "Name: 70, dtype: object"
      ]
     },
     "execution_count": 14,
     "metadata": {},
     "output_type": "execute_result"
    }
   ],
   "source": [
    "map_municipios.iloc[-1]"
   ]
  },
  {
   "cell_type": "code",
   "execution_count": 15,
   "metadata": {},
   "outputs": [
    {
     "ename": "KeyError",
     "evalue": "'id_0'",
     "output_type": "error",
     "traceback": [
      "\u001b[0;31m---------------------------------------------------------------------------\u001b[0m",
      "\u001b[0;31mKeyError\u001b[0m                                  Traceback (most recent call last)",
      "\u001b[0;32m~/anaconda3/lib/python3.8/site-packages/pandas/core/indexes/base.py\u001b[0m in \u001b[0;36mget_loc\u001b[0;34m(self, key, method, tolerance)\u001b[0m\n\u001b[1;32m   3079\u001b[0m             \u001b[0;32mtry\u001b[0m\u001b[0;34m:\u001b[0m\u001b[0;34m\u001b[0m\u001b[0;34m\u001b[0m\u001b[0m\n\u001b[0;32m-> 3080\u001b[0;31m                 \u001b[0;32mreturn\u001b[0m \u001b[0mself\u001b[0m\u001b[0;34m.\u001b[0m\u001b[0m_engine\u001b[0m\u001b[0;34m.\u001b[0m\u001b[0mget_loc\u001b[0m\u001b[0;34m(\u001b[0m\u001b[0mcasted_key\u001b[0m\u001b[0;34m)\u001b[0m\u001b[0;34m\u001b[0m\u001b[0;34m\u001b[0m\u001b[0m\n\u001b[0m\u001b[1;32m   3081\u001b[0m             \u001b[0;32mexcept\u001b[0m \u001b[0mKeyError\u001b[0m \u001b[0;32mas\u001b[0m \u001b[0merr\u001b[0m\u001b[0;34m:\u001b[0m\u001b[0;34m\u001b[0m\u001b[0;34m\u001b[0m\u001b[0m\n",
      "\u001b[0;32mpandas/_libs/index.pyx\u001b[0m in \u001b[0;36mpandas._libs.index.IndexEngine.get_loc\u001b[0;34m()\u001b[0m\n",
      "\u001b[0;32mpandas/_libs/index.pyx\u001b[0m in \u001b[0;36mpandas._libs.index.IndexEngine.get_loc\u001b[0;34m()\u001b[0m\n",
      "\u001b[0;32mpandas/_libs/hashtable_class_helper.pxi\u001b[0m in \u001b[0;36mpandas._libs.hashtable.PyObjectHashTable.get_item\u001b[0;34m()\u001b[0m\n",
      "\u001b[0;32mpandas/_libs/hashtable_class_helper.pxi\u001b[0m in \u001b[0;36mpandas._libs.hashtable.PyObjectHashTable.get_item\u001b[0;34m()\u001b[0m\n",
      "\u001b[0;31mKeyError\u001b[0m: 'id_0'",
      "\nThe above exception was the direct cause of the following exception:\n",
      "\u001b[0;31mKeyError\u001b[0m                                  Traceback (most recent call last)",
      "\u001b[0;32m<ipython-input-15-5ea126ad122c>\u001b[0m in \u001b[0;36m<module>\u001b[0;34m\u001b[0m\n\u001b[1;32m     10\u001b[0m \u001b[0;34m\u001b[0m\u001b[0m\n\u001b[1;32m     11\u001b[0m \u001b[0;31m# Mostrar el mapa finalizado\u001b[0m\u001b[0;34m\u001b[0m\u001b[0;34m\u001b[0m\u001b[0;34m\u001b[0m\u001b[0m\n\u001b[0;32m---> 12\u001b[0;31m \u001b[0mmap_municipios\u001b[0m\u001b[0;34m.\u001b[0m\u001b[0mplot\u001b[0m\u001b[0;34m(\u001b[0m\u001b[0mcolumn\u001b[0m\u001b[0;34m=\u001b[0m\u001b[0;34m'id_0'\u001b[0m\u001b[0;34m,\u001b[0m \u001b[0mcmap\u001b[0m\u001b[0;34m=\u001b[0m\u001b[0;34m'plasma'\u001b[0m\u001b[0;34m,\u001b[0m \u001b[0max\u001b[0m\u001b[0;34m=\u001b[0m\u001b[0max\u001b[0m\u001b[0;34m,\u001b[0m \u001b[0mzorder\u001b[0m\u001b[0;34m=\u001b[0m\u001b[0;36m5\u001b[0m\u001b[0;34m)\u001b[0m\u001b[0;34m\u001b[0m\u001b[0;34m\u001b[0m\u001b[0m\n\u001b[0m",
      "\u001b[0;32m~/anaconda3/lib/python3.8/site-packages/geopandas/plotting.py\u001b[0m in \u001b[0;36m__call__\u001b[0;34m(self, *args, **kwargs)\u001b[0m\n\u001b[1;32m    923\u001b[0m             \u001b[0mkind\u001b[0m \u001b[0;34m=\u001b[0m \u001b[0mkwargs\u001b[0m\u001b[0;34m.\u001b[0m\u001b[0mpop\u001b[0m\u001b[0;34m(\u001b[0m\u001b[0;34m\"kind\"\u001b[0m\u001b[0;34m,\u001b[0m \u001b[0;34m\"geo\"\u001b[0m\u001b[0;34m)\u001b[0m\u001b[0;34m\u001b[0m\u001b[0;34m\u001b[0m\u001b[0m\n\u001b[1;32m    924\u001b[0m             \u001b[0;32mif\u001b[0m \u001b[0mkind\u001b[0m \u001b[0;34m==\u001b[0m \u001b[0;34m\"geo\"\u001b[0m\u001b[0;34m:\u001b[0m\u001b[0;34m\u001b[0m\u001b[0;34m\u001b[0m\u001b[0m\n\u001b[0;32m--> 925\u001b[0;31m                 \u001b[0;32mreturn\u001b[0m \u001b[0mplot_dataframe\u001b[0m\u001b[0;34m(\u001b[0m\u001b[0mdata\u001b[0m\u001b[0;34m,\u001b[0m \u001b[0;34m*\u001b[0m\u001b[0margs\u001b[0m\u001b[0;34m,\u001b[0m \u001b[0;34m**\u001b[0m\u001b[0mkwargs\u001b[0m\u001b[0;34m)\u001b[0m\u001b[0;34m\u001b[0m\u001b[0;34m\u001b[0m\u001b[0m\n\u001b[0m\u001b[1;32m    926\u001b[0m             \u001b[0;32mif\u001b[0m \u001b[0mkind\u001b[0m \u001b[0;32min\u001b[0m \u001b[0mself\u001b[0m\u001b[0;34m.\u001b[0m\u001b[0m_pandas_kinds\u001b[0m\u001b[0;34m:\u001b[0m\u001b[0;34m\u001b[0m\u001b[0;34m\u001b[0m\u001b[0m\n\u001b[1;32m    927\u001b[0m                 \u001b[0;31m# Access pandas plots\u001b[0m\u001b[0;34m\u001b[0m\u001b[0;34m\u001b[0m\u001b[0;34m\u001b[0m\u001b[0m\n",
      "\u001b[0;32m~/anaconda3/lib/python3.8/site-packages/geopandas/plotting.py\u001b[0m in \u001b[0;36mplot_dataframe\u001b[0;34m(df, column, cmap, color, ax, cax, categorical, legend, scheme, k, vmin, vmax, markersize, figsize, legend_kwds, categories, classification_kwds, missing_kwds, aspect, **style_kwds)\u001b[0m\n\u001b[1;32m    711\u001b[0m                 \u001b[0mvalues\u001b[0m \u001b[0;34m=\u001b[0m \u001b[0mvalues\u001b[0m\u001b[0;34m.\u001b[0m\u001b[0mreindex\u001b[0m\u001b[0;34m(\u001b[0m\u001b[0mdf\u001b[0m\u001b[0;34m.\u001b[0m\u001b[0mindex\u001b[0m\u001b[0;34m)\u001b[0m\u001b[0;34m\u001b[0m\u001b[0;34m\u001b[0m\u001b[0m\n\u001b[1;32m    712\u001b[0m     \u001b[0;32melse\u001b[0m\u001b[0;34m:\u001b[0m\u001b[0;34m\u001b[0m\u001b[0;34m\u001b[0m\u001b[0m\n\u001b[0;32m--> 713\u001b[0;31m         \u001b[0mvalues\u001b[0m \u001b[0;34m=\u001b[0m \u001b[0mdf\u001b[0m\u001b[0;34m[\u001b[0m\u001b[0mcolumn\u001b[0m\u001b[0;34m]\u001b[0m\u001b[0;34m\u001b[0m\u001b[0;34m\u001b[0m\u001b[0m\n\u001b[0m\u001b[1;32m    714\u001b[0m \u001b[0;34m\u001b[0m\u001b[0m\n\u001b[1;32m    715\u001b[0m     \u001b[0;32mif\u001b[0m \u001b[0mpd\u001b[0m\u001b[0;34m.\u001b[0m\u001b[0mapi\u001b[0m\u001b[0;34m.\u001b[0m\u001b[0mtypes\u001b[0m\u001b[0;34m.\u001b[0m\u001b[0mis_categorical_dtype\u001b[0m\u001b[0;34m(\u001b[0m\u001b[0mvalues\u001b[0m\u001b[0;34m.\u001b[0m\u001b[0mdtype\u001b[0m\u001b[0;34m)\u001b[0m\u001b[0;34m:\u001b[0m\u001b[0;34m\u001b[0m\u001b[0;34m\u001b[0m\u001b[0m\n",
      "\u001b[0;32m~/anaconda3/lib/python3.8/site-packages/geopandas/geodataframe.py\u001b[0m in \u001b[0;36m__getitem__\u001b[0;34m(self, key)\u001b[0m\n\u001b[1;32m   1297\u001b[0m         \u001b[0mGeoDataFrame\u001b[0m\u001b[0;34m.\u001b[0m\u001b[0;34m\u001b[0m\u001b[0;34m\u001b[0m\u001b[0m\n\u001b[1;32m   1298\u001b[0m         \"\"\"\n\u001b[0;32m-> 1299\u001b[0;31m         \u001b[0mresult\u001b[0m \u001b[0;34m=\u001b[0m \u001b[0msuper\u001b[0m\u001b[0;34m(\u001b[0m\u001b[0mGeoDataFrame\u001b[0m\u001b[0;34m,\u001b[0m \u001b[0mself\u001b[0m\u001b[0;34m)\u001b[0m\u001b[0;34m.\u001b[0m\u001b[0m__getitem__\u001b[0m\u001b[0;34m(\u001b[0m\u001b[0mkey\u001b[0m\u001b[0;34m)\u001b[0m\u001b[0;34m\u001b[0m\u001b[0;34m\u001b[0m\u001b[0m\n\u001b[0m\u001b[1;32m   1300\u001b[0m         \u001b[0mgeo_col\u001b[0m \u001b[0;34m=\u001b[0m \u001b[0mself\u001b[0m\u001b[0;34m.\u001b[0m\u001b[0m_geometry_column_name\u001b[0m\u001b[0;34m\u001b[0m\u001b[0;34m\u001b[0m\u001b[0m\n\u001b[1;32m   1301\u001b[0m         \u001b[0;32mif\u001b[0m \u001b[0misinstance\u001b[0m\u001b[0;34m(\u001b[0m\u001b[0mresult\u001b[0m\u001b[0;34m,\u001b[0m \u001b[0mSeries\u001b[0m\u001b[0;34m)\u001b[0m \u001b[0;32mand\u001b[0m \u001b[0misinstance\u001b[0m\u001b[0;34m(\u001b[0m\u001b[0mresult\u001b[0m\u001b[0;34m.\u001b[0m\u001b[0mdtype\u001b[0m\u001b[0;34m,\u001b[0m \u001b[0mGeometryDtype\u001b[0m\u001b[0;34m)\u001b[0m\u001b[0;34m:\u001b[0m\u001b[0;34m\u001b[0m\u001b[0;34m\u001b[0m\u001b[0m\n",
      "\u001b[0;32m~/anaconda3/lib/python3.8/site-packages/pandas/core/frame.py\u001b[0m in \u001b[0;36m__getitem__\u001b[0;34m(self, key)\u001b[0m\n\u001b[1;32m   3022\u001b[0m             \u001b[0;32mif\u001b[0m \u001b[0mself\u001b[0m\u001b[0;34m.\u001b[0m\u001b[0mcolumns\u001b[0m\u001b[0;34m.\u001b[0m\u001b[0mnlevels\u001b[0m \u001b[0;34m>\u001b[0m \u001b[0;36m1\u001b[0m\u001b[0;34m:\u001b[0m\u001b[0;34m\u001b[0m\u001b[0;34m\u001b[0m\u001b[0m\n\u001b[1;32m   3023\u001b[0m                 \u001b[0;32mreturn\u001b[0m \u001b[0mself\u001b[0m\u001b[0;34m.\u001b[0m\u001b[0m_getitem_multilevel\u001b[0m\u001b[0;34m(\u001b[0m\u001b[0mkey\u001b[0m\u001b[0;34m)\u001b[0m\u001b[0;34m\u001b[0m\u001b[0;34m\u001b[0m\u001b[0m\n\u001b[0;32m-> 3024\u001b[0;31m             \u001b[0mindexer\u001b[0m \u001b[0;34m=\u001b[0m \u001b[0mself\u001b[0m\u001b[0;34m.\u001b[0m\u001b[0mcolumns\u001b[0m\u001b[0;34m.\u001b[0m\u001b[0mget_loc\u001b[0m\u001b[0;34m(\u001b[0m\u001b[0mkey\u001b[0m\u001b[0;34m)\u001b[0m\u001b[0;34m\u001b[0m\u001b[0;34m\u001b[0m\u001b[0m\n\u001b[0m\u001b[1;32m   3025\u001b[0m             \u001b[0;32mif\u001b[0m \u001b[0mis_integer\u001b[0m\u001b[0;34m(\u001b[0m\u001b[0mindexer\u001b[0m\u001b[0;34m)\u001b[0m\u001b[0;34m:\u001b[0m\u001b[0;34m\u001b[0m\u001b[0;34m\u001b[0m\u001b[0m\n\u001b[1;32m   3026\u001b[0m                 \u001b[0mindexer\u001b[0m \u001b[0;34m=\u001b[0m \u001b[0;34m[\u001b[0m\u001b[0mindexer\u001b[0m\u001b[0;34m]\u001b[0m\u001b[0;34m\u001b[0m\u001b[0;34m\u001b[0m\u001b[0m\n",
      "\u001b[0;32m~/anaconda3/lib/python3.8/site-packages/pandas/core/indexes/base.py\u001b[0m in \u001b[0;36mget_loc\u001b[0;34m(self, key, method, tolerance)\u001b[0m\n\u001b[1;32m   3080\u001b[0m                 \u001b[0;32mreturn\u001b[0m \u001b[0mself\u001b[0m\u001b[0;34m.\u001b[0m\u001b[0m_engine\u001b[0m\u001b[0;34m.\u001b[0m\u001b[0mget_loc\u001b[0m\u001b[0;34m(\u001b[0m\u001b[0mcasted_key\u001b[0m\u001b[0;34m)\u001b[0m\u001b[0;34m\u001b[0m\u001b[0;34m\u001b[0m\u001b[0m\n\u001b[1;32m   3081\u001b[0m             \u001b[0;32mexcept\u001b[0m \u001b[0mKeyError\u001b[0m \u001b[0;32mas\u001b[0m \u001b[0merr\u001b[0m\u001b[0;34m:\u001b[0m\u001b[0;34m\u001b[0m\u001b[0;34m\u001b[0m\u001b[0m\n\u001b[0;32m-> 3082\u001b[0;31m                 \u001b[0;32mraise\u001b[0m \u001b[0mKeyError\u001b[0m\u001b[0;34m(\u001b[0m\u001b[0mkey\u001b[0m\u001b[0;34m)\u001b[0m \u001b[0;32mfrom\u001b[0m \u001b[0merr\u001b[0m\u001b[0;34m\u001b[0m\u001b[0;34m\u001b[0m\u001b[0m\n\u001b[0m\u001b[1;32m   3083\u001b[0m \u001b[0;34m\u001b[0m\u001b[0m\n\u001b[1;32m   3084\u001b[0m         \u001b[0;32mif\u001b[0m \u001b[0mtolerance\u001b[0m \u001b[0;32mis\u001b[0m \u001b[0;32mnot\u001b[0m \u001b[0;32mNone\u001b[0m\u001b[0;34m:\u001b[0m\u001b[0;34m\u001b[0m\u001b[0;34m\u001b[0m\u001b[0m\n",
      "\u001b[0;31mKeyError\u001b[0m: 'id_0'"
     ]
    },
    {
     "data": {
      "image/png": "[encoded data removed]",
      "text/plain": [
       "<Figure size 720x720 with 1 Axes>"
      ]
     },
     "metadata": {
      "needs_background": "light"
     },
     "output_type": "display_data"
    }
   ],
   "source": [
    "# Control del tamaño de la figura del mapa\n",
    "fig, ax = plt.subplots(figsize=(10, 10))\n",
    " \n",
    "# Control del título y los ejes\n",
    "ax.set_title('Municipios Madrid', \n",
    "             pad = 20, \n",
    "             fontdict={'fontsize':20, 'color': '#4873ab'})\n",
    "ax.set_xlabel('Longitud')\n",
    "ax.set_ylabel('Latitud')\n",
    " \n",
    "# Mostrar el mapa finalizado\n",
    "map_municipios.plot(column='id_0', cmap='plasma', ax=ax, zorder=5)"
   ]
  },
  {
   "cell_type": "code",
   "execution_count": 16,
   "metadata": {},
   "outputs": [
    {
     "ename": "KeyError",
     "evalue": "'cpro'",
     "output_type": "error",
     "traceback": [
      "\u001b[0;31m---------------------------------------------------------------------------\u001b[0m",
      "\u001b[0;31mKeyError\u001b[0m                                  Traceback (most recent call last)",
      "\u001b[0;32m~/anaconda3/lib/python3.8/site-packages/pandas/core/indexes/base.py\u001b[0m in \u001b[0;36mget_loc\u001b[0;34m(self, key, method, tolerance)\u001b[0m\n\u001b[1;32m   3079\u001b[0m             \u001b[0;32mtry\u001b[0m\u001b[0;34m:\u001b[0m\u001b[0;34m\u001b[0m\u001b[0;34m\u001b[0m\u001b[0m\n\u001b[0;32m-> 3080\u001b[0;31m                 \u001b[0;32mreturn\u001b[0m \u001b[0mself\u001b[0m\u001b[0;34m.\u001b[0m\u001b[0m_engine\u001b[0m\u001b[0;34m.\u001b[0m\u001b[0mget_loc\u001b[0m\u001b[0;34m(\u001b[0m\u001b[0mcasted_key\u001b[0m\u001b[0;34m)\u001b[0m\u001b[0;34m\u001b[0m\u001b[0;34m\u001b[0m\u001b[0m\n\u001b[0m\u001b[1;32m   3081\u001b[0m             \u001b[0;32mexcept\u001b[0m \u001b[0mKeyError\u001b[0m \u001b[0;32mas\u001b[0m \u001b[0merr\u001b[0m\u001b[0;34m:\u001b[0m\u001b[0;34m\u001b[0m\u001b[0;34m\u001b[0m\u001b[0m\n",
      "\u001b[0;32mpandas/_libs/index.pyx\u001b[0m in \u001b[0;36mpandas._libs.index.IndexEngine.get_loc\u001b[0;34m()\u001b[0m\n",
      "\u001b[0;32mpandas/_libs/index.pyx\u001b[0m in \u001b[0;36mpandas._libs.index.IndexEngine.get_loc\u001b[0;34m()\u001b[0m\n",
      "\u001b[0;32mpandas/_libs/hashtable_class_helper.pxi\u001b[0m in \u001b[0;36mpandas._libs.hashtable.PyObjectHashTable.get_item\u001b[0;34m()\u001b[0m\n",
      "\u001b[0;32mpandas/_libs/hashtable_class_helper.pxi\u001b[0m in \u001b[0;36mpandas._libs.hashtable.PyObjectHashTable.get_item\u001b[0;34m()\u001b[0m\n",
      "\u001b[0;31mKeyError\u001b[0m: 'cpro'",
      "\nThe above exception was the direct cause of the following exception:\n",
      "\u001b[0;31mKeyError\u001b[0m                                  Traceback (most recent call last)",
      "\u001b[0;32m<ipython-input-16-461c8ef4e493>\u001b[0m in \u001b[0;36m<module>\u001b[0;34m\u001b[0m\n\u001b[1;32m      6\u001b[0m \u001b[0mdata\u001b[0m\u001b[0;34m[\u001b[0m\u001b[0;34m'cpro'\u001b[0m\u001b[0;34m]\u001b[0m \u001b[0;34m=\u001b[0m \u001b[0mpd\u001b[0m\u001b[0;34m.\u001b[0m\u001b[0mto_numeric\u001b[0m\u001b[0;34m(\u001b[0m\u001b[0mdata\u001b[0m\u001b[0;34m[\u001b[0m\u001b[0;34m'cpro'\u001b[0m\u001b[0;34m]\u001b[0m\u001b[0;34m)\u001b[0m\u001b[0;34m\u001b[0m\u001b[0;34m\u001b[0m\u001b[0m\n\u001b[1;32m      7\u001b[0m \u001b[0;34m\u001b[0m\u001b[0m\n\u001b[0;32m----> 8\u001b[0;31m \u001b[0mmap_municipios\u001b[0m\u001b[0;34m[\u001b[0m\u001b[0;34m'cpro'\u001b[0m\u001b[0;34m]\u001b[0m \u001b[0;34m=\u001b[0m \u001b[0mpd\u001b[0m\u001b[0;34m.\u001b[0m\u001b[0mto_numeric\u001b[0m\u001b[0;34m(\u001b[0m\u001b[0mmap_municipios\u001b[0m\u001b[0;34m[\u001b[0m\u001b[0;34m'cpro'\u001b[0m\u001b[0;34m]\u001b[0m\u001b[0;34m)\u001b[0m\u001b[0;34m\u001b[0m\u001b[0;34m\u001b[0m\u001b[0m\n\u001b[0m\u001b[1;32m      9\u001b[0m \u001b[0mmap_municipios\u001b[0m\u001b[0;34m[\u001b[0m\u001b[0;34m'cmun'\u001b[0m\u001b[0;34m]\u001b[0m \u001b[0;34m=\u001b[0m \u001b[0mpd\u001b[0m\u001b[0;34m.\u001b[0m\u001b[0mto_numeric\u001b[0m\u001b[0;34m(\u001b[0m\u001b[0mmap_municipios\u001b[0m\u001b[0;34m[\u001b[0m\u001b[0;34m'cmun'\u001b[0m\u001b[0;34m]\u001b[0m\u001b[0;34m)\u001b[0m\u001b[0;34m\u001b[0m\u001b[0;34m\u001b[0m\u001b[0m\n\u001b[1;32m     10\u001b[0m \u001b[0;34m\u001b[0m\u001b[0m\n",
      "\u001b[0;32m~/anaconda3/lib/python3.8/site-packages/geopandas/geodataframe.py\u001b[0m in \u001b[0;36m__getitem__\u001b[0;34m(self, key)\u001b[0m\n\u001b[1;32m   1297\u001b[0m         \u001b[0mGeoDataFrame\u001b[0m\u001b[0;34m.\u001b[0m\u001b[0;34m\u001b[0m\u001b[0;34m\u001b[0m\u001b[0m\n\u001b[1;32m   1298\u001b[0m         \"\"\"\n\u001b[0;32m-> 1299\u001b[0;31m         \u001b[0mresult\u001b[0m \u001b[0;34m=\u001b[0m \u001b[0msuper\u001b[0m\u001b[0;34m(\u001b[0m\u001b[0mGeoDataFrame\u001b[0m\u001b[0;34m,\u001b[0m \u001b[0mself\u001b[0m\u001b[0;34m)\u001b[0m\u001b[0;34m.\u001b[0m\u001b[0m__getitem__\u001b[0m\u001b[0;34m(\u001b[0m\u001b[0mkey\u001b[0m\u001b[0;34m)\u001b[0m\u001b[0;34m\u001b[0m\u001b[0;34m\u001b[0m\u001b[0m\n\u001b[0m\u001b[1;32m   1300\u001b[0m         \u001b[0mgeo_col\u001b[0m \u001b[0;34m=\u001b[0m \u001b[0mself\u001b[0m\u001b[0;34m.\u001b[0m\u001b[0m_geometry_column_name\u001b[0m\u001b[0;34m\u001b[0m\u001b[0;34m\u001b[0m\u001b[0m\n\u001b[1;32m   1301\u001b[0m         \u001b[0;32mif\u001b[0m \u001b[0misinstance\u001b[0m\u001b[0;34m(\u001b[0m\u001b[0mresult\u001b[0m\u001b[0;34m,\u001b[0m \u001b[0mSeries\u001b[0m\u001b[0;34m)\u001b[0m \u001b[0;32mand\u001b[0m \u001b[0misinstance\u001b[0m\u001b[0;34m(\u001b[0m\u001b[0mresult\u001b[0m\u001b[0;34m.\u001b[0m\u001b[0mdtype\u001b[0m\u001b[0;34m,\u001b[0m \u001b[0mGeometryDtype\u001b[0m\u001b[0;34m)\u001b[0m\u001b[0;34m:\u001b[0m\u001b[0;34m\u001b[0m\u001b[0;34m\u001b[0m\u001b[0m\n",
      "\u001b[0;32m~/anaconda3/lib/python3.8/site-packages/pandas/core/frame.py\u001b[0m in \u001b[0;36m__getitem__\u001b[0;34m(self, key)\u001b[0m\n\u001b[1;32m   3022\u001b[0m             \u001b[0;32mif\u001b[0m \u001b[0mself\u001b[0m\u001b[0;34m.\u001b[0m\u001b[0mcolumns\u001b[0m\u001b[0;34m.\u001b[0m\u001b[0mnlevels\u001b[0m \u001b[0;34m>\u001b[0m \u001b[0;36m1\u001b[0m\u001b[0;34m:\u001b[0m\u001b[0;34m\u001b[0m\u001b[0;34m\u001b[0m\u001b[0m\n\u001b[1;32m   3023\u001b[0m                 \u001b[0;32mreturn\u001b[0m \u001b[0mself\u001b[0m\u001b[0;34m.\u001b[0m\u001b[0m_getitem_multilevel\u001b[0m\u001b[0;34m(\u001b[0m\u001b[0mkey\u001b[0m\u001b[0;34m)\u001b[0m\u001b[0;34m\u001b[0m\u001b[0;34m\u001b[0m\u001b[0m\n\u001b[0;32m-> 3024\u001b[0;31m             \u001b[0mindexer\u001b[0m \u001b[0;34m=\u001b[0m \u001b[0mself\u001b[0m\u001b[0;34m.\u001b[0m\u001b[0mcolumns\u001b[0m\u001b[0;34m.\u001b[0m\u001b[0mget_loc\u001b[0m\u001b[0;34m(\u001b[0m\u001b[0mkey\u001b[0m\u001b[0;34m)\u001b[0m\u001b[0;34m\u001b[0m\u001b[0;34m\u001b[0m\u001b[0m\n\u001b[0m\u001b[1;32m   3025\u001b[0m             \u001b[0;32mif\u001b[0m \u001b[0mis_integer\u001b[0m\u001b[0;34m(\u001b[0m\u001b[0mindexer\u001b[0m\u001b[0;34m)\u001b[0m\u001b[0;34m:\u001b[0m\u001b[0;34m\u001b[0m\u001b[0;34m\u001b[0m\u001b[0m\n\u001b[1;32m   3026\u001b[0m                 \u001b[0mindexer\u001b[0m \u001b[0;34m=\u001b[0m \u001b[0;34m[\u001b[0m\u001b[0mindexer\u001b[0m\u001b[0;34m]\u001b[0m\u001b[0;34m\u001b[0m\u001b[0;34m\u001b[0m\u001b[0m\n",
      "\u001b[0;32m~/anaconda3/lib/python3.8/site-packages/pandas/core/indexes/base.py\u001b[0m in \u001b[0;36mget_loc\u001b[0;34m(self, key, method, tolerance)\u001b[0m\n\u001b[1;32m   3080\u001b[0m                 \u001b[0;32mreturn\u001b[0m \u001b[0mself\u001b[0m\u001b[0;34m.\u001b[0m\u001b[0m_engine\u001b[0m\u001b[0;34m.\u001b[0m\u001b[0mget_loc\u001b[0m\u001b[0;34m(\u001b[0m\u001b[0mcasted_key\u001b[0m\u001b[0;34m)\u001b[0m\u001b[0;34m\u001b[0m\u001b[0;34m\u001b[0m\u001b[0m\n\u001b[1;32m   3081\u001b[0m             \u001b[0;32mexcept\u001b[0m \u001b[0mKeyError\u001b[0m \u001b[0;32mas\u001b[0m \u001b[0merr\u001b[0m\u001b[0;34m:\u001b[0m\u001b[0;34m\u001b[0m\u001b[0;34m\u001b[0m\u001b[0m\n\u001b[0;32m-> 3082\u001b[0;31m                 \u001b[0;32mraise\u001b[0m \u001b[0mKeyError\u001b[0m\u001b[0;34m(\u001b[0m\u001b[0mkey\u001b[0m\u001b[0;34m)\u001b[0m \u001b[0;32mfrom\u001b[0m \u001b[0merr\u001b[0m\u001b[0;34m\u001b[0m\u001b[0;34m\u001b[0m\u001b[0m\n\u001b[0m\u001b[1;32m   3083\u001b[0m \u001b[0;34m\u001b[0m\u001b[0m\n\u001b[1;32m   3084\u001b[0m         \u001b[0;32mif\u001b[0m \u001b[0mtolerance\u001b[0m \u001b[0;32mis\u001b[0m \u001b[0;32mnot\u001b[0m \u001b[0;32mNone\u001b[0m\u001b[0;34m:\u001b[0m\u001b[0;34m\u001b[0m\u001b[0;34m\u001b[0m\u001b[0m\n",
      "\u001b[0;31mKeyError\u001b[0m: 'cpro'"
     ]
    }
   ],
   "source": [
    "# pruebas elecciones\n",
    "# siguiente paso: añadirle al dataframe \"data\" la columna 'geometry' de \"map_municipios\" \n",
    "# agrupando por código postal, código de municipio, etc\n",
    "\n",
    "# pasamos a numeric columnas de los datasets:\n",
    "data['cpro'] = pd.to_numeric(data['cpro'])\n",
    "\n",
    "map_municipios['cpro'] = pd.to_numeric(map_municipios['cpro'])\n",
    "map_municipios['cmun'] = pd.to_numeric(map_municipios['cmun'])\n",
    "\n",
    "#pruebas: cogemos cervera de buitrago en ambos datasets y juntamos la info.\n",
    "\n",
    "# cervera_data = data[data['Codcir'] == '28']\n",
    "# cervera_data = data[data['Municipio'] == 'Cervera de Buitrago']\n",
    "# cervera_data"
   ]
  },
  {
   "cell_type": "code",
   "execution_count": 17,
   "metadata": {},
   "outputs": [
    {
     "data": {
      "text/html": [
       "<div>\n",
       "<style scoped>\n",
       "    .dataframe tbody tr th:only-of-type {\n",
       "        vertical-align: middle;\n",
       "    }\n",
       "\n",
       "    .dataframe tbody tr th {\n",
       "        vertical-align: top;\n",
       "    }\n",
       "\n",
       "    .dataframe thead th {\n",
       "        text-align: right;\n",
       "    }\n",
       "</style>\n",
       "<table border=\"1\" class=\"dataframe\">\n",
       "  <thead>\n",
       "    <tr style=\"text-align: right;\">\n",
       "      <th></th>\n",
       "      <th>municipio</th>\n",
       "      <th>geometry</th>\n",
       "    </tr>\n",
       "  </thead>\n",
       "  <tbody>\n",
       "    <tr>\n",
       "      <th>156</th>\n",
       "      <td>Ajalvir</td>\n",
       "      <td>MULTIPOLYGON (((-3.51150 40.53889, -3.50521 40...</td>\n",
       "    </tr>\n",
       "    <tr>\n",
       "      <th>58</th>\n",
       "      <td>Alameda del Valle</td>\n",
       "      <td>MULTIPOLYGON (((-3.80596 40.89047, -3.80951 40...</td>\n",
       "    </tr>\n",
       "    <tr>\n",
       "      <th>86</th>\n",
       "      <td>AlcalÃ¡ de Henares</td>\n",
       "      <td>MULTIPOLYGON (((-3.32142 40.47207, -3.32898 40...</td>\n",
       "    </tr>\n",
       "    <tr>\n",
       "      <th>168</th>\n",
       "      <td>Alcobendas</td>\n",
       "      <td>MULTIPOLYGON (((-3.67417 40.58897, -3.65981 40...</td>\n",
       "    </tr>\n",
       "    <tr>\n",
       "      <th>154</th>\n",
       "      <td>AlcorcÃ³n</td>\n",
       "      <td>MULTIPOLYGON (((-3.78781 40.35875, -3.79893 40...</td>\n",
       "    </tr>\n",
       "  </tbody>\n",
       "</table>\n",
       "</div>"
      ],
      "text/plain": [
       "              municipio                                           geometry\n",
       "156             Ajalvir  MULTIPOLYGON (((-3.51150 40.53889, -3.50521 40...\n",
       "58    Alameda del Valle  MULTIPOLYGON (((-3.80596 40.89047, -3.80951 40...\n",
       "86   AlcalÃ¡ de Henares  MULTIPOLYGON (((-3.32142 40.47207, -3.32898 40...\n",
       "168          Alcobendas  MULTIPOLYGON (((-3.67417 40.58897, -3.65981 40...\n",
       "154           AlcorcÃ³n  MULTIPOLYGON (((-3.78781 40.35875, -3.79893 40..."
      ]
     },
     "execution_count": 17,
     "metadata": {},
     "output_type": "execute_result"
    }
   ],
   "source": [
    "map_municipios.head()"
   ]
  },
  {
   "cell_type": "code",
   "execution_count": 18,
   "metadata": {},
   "outputs": [
    {
     "data": {
      "text/plain": [
       "179"
      ]
     },
     "execution_count": 18,
     "metadata": {},
     "output_type": "execute_result"
    }
   ],
   "source": [
    "len(data)"
   ]
  },
  {
   "cell_type": "code",
   "execution_count": 19,
   "metadata": {},
   "outputs": [
    {
     "data": {
      "text/plain": [
       "182"
      ]
     },
     "execution_count": 19,
     "metadata": {},
     "output_type": "execute_result"
    }
   ],
   "source": [
    "len(map_municipios)"
   ]
  },
  {
   "cell_type": "code",
   "execution_count": 22,
   "metadata": {},
   "outputs": [
    {
     "data": {
      "text/plain": [
       "143"
      ]
     },
     "execution_count": 22,
     "metadata": {},
     "output_type": "execute_result"
    }
   ],
   "source": [
    "# comprobar valores diferentes de municipios\n",
    "# 1.- valores comunes: el resultado es 143 que coincide después con los 144 valores de geometry que aparecen después\n",
    "# CONCLUSIÓN: \n",
    "# 1.-tenemos que corregir los valores de 'municipio' en map_municipio\n",
    "# 2.-buscar cuáles son los 3 valores de más que tiene map_municipio sobre data\n",
    "# intersection_data = set(data['municipio']).intersection(set(map_municipios['municipio']))\n",
    "# len(intersection_data)\n",
    "\n",
    "intersection_map = set(map_municipios['municipio']).intersection(set(data['municipio']))\n",
    "len(intersection_map)"
   ]
  },
  {
   "cell_type": "code",
   "execution_count": 25,
   "metadata": {},
   "outputs": [
    {
     "data": {
      "text/plain": [
       "{'AlcalÃ¡ de Henares',\n",
       " 'AlcorcÃ³n',\n",
       " 'CarabaÃ±a',\n",
       " 'ChapinerÃ\\xada',\n",
       " 'ChinchÃ³n',\n",
       " 'CobeÃ±a',\n",
       " 'El VellÃ³n',\n",
       " 'El Ã\\x81lamo',\n",
       " 'FuentidueÃ±a de Tajo',\n",
       " 'GriÃ±Ã³n',\n",
       " 'Horcajo de la Sierra',\n",
       " 'JurisdicciÃ³n Macomunada de El Boalo y Manzanares el Real (El Chaparral)',\n",
       " 'JurisdicciÃ³n Mancomunada de Cerdedilla y Navacerrada',\n",
       " 'LeganÃ©s',\n",
       " 'Morata de TajuÃ±a',\n",
       " 'MÃ³stoles',\n",
       " 'Navarredonda y San MamÃ©s',\n",
       " 'Nuevo BaztÃ¡n',\n",
       " 'Orusco de TajuÃ±a',\n",
       " 'Perales de TajuÃ±a',\n",
       " 'PinuÃ©car-Gandullas',\n",
       " 'Pozuelo de AlarcÃ³n',\n",
       " 'PrÃ¡dena del RincÃ³n',\n",
       " 'RascafrÃ\\xada',\n",
       " 'RedueÃ±a',\n",
       " 'San AgustÃ\\xadn del Guadalix',\n",
       " 'San MartÃ\\xadn de Valdeiglesias',\n",
       " 'San MartÃ\\xadn de la Vega',\n",
       " 'San SebastiÃ¡n de los Reyes',\n",
       " 'Santa MarÃ\\xada de la Alameda',\n",
       " 'TorrejÃ³n de Ardoz',\n",
       " 'TorrejÃ³n de Velasco',\n",
       " 'TorrejÃ³n de la Calzada',\n",
       " 'ValdepiÃ©lagos',\n",
       " 'Valverde de AlcalÃ¡',\n",
       " 'Villanueva de la CaÃ±ada',\n",
       " 'Villarejo de SalvanÃ©s',\n",
       " 'Villaviciosa de OdÃ³n'}"
      ]
     },
     "execution_count": 25,
     "metadata": {},
     "output_type": "execute_result"
    }
   ],
   "source": [
    "# no_intersection_data = set(data['municipio']).difference(set(map_municipios['municipio']))\n",
    "# len(no_intersection_data)\n",
    "# no_intersection_data\n",
    "\n",
    "# los valores que salen aquí hay que corregirlos para que sean iguales que en data\n",
    "no_intersection_map = set(map_municipios['municipio']).difference(set(data['municipio']))\n",
    "len(no_intersection_map)\n",
    "no_intersection_map"
   ]
  },
  {
   "cell_type": "code",
   "execution_count": null,
   "metadata": {},
   "outputs": [],
   "source": [
    "# sale ok, pero con len(result)=163\n",
    "# result = data.merge(map_municipios, on=['cpro', 'cmun'])\n",
    "\n",
    "# sale ok, pero con len(result)=182\n",
    "# result = pd.merge(data, map_municipios, left_index=True , right_index=True, how='outer')\n",
    "\n",
    "# sale ok, pero con len(result)=179  ----> después falla a la hora de representar el mapa, no sé por qué\n",
    "# result = pd.merge(data, map_municipios, how='inner', on=[\"cpro\", \"cmun\"])\n",
    "result = pd.merge(data, map_municipios, how='left', on='municipio')\n",
    "\n",
    "# como en el ejemplo de maps:\n",
    "# result = map_municipios.merge(data, left_on=\"municipio\", right_on=\"municipio\", how=\"inner\")\n",
    "\n",
    "data['municipio'] = data['municipio'].str.title()\n",
    "data['municipio'] = data['municipio'].str.strip()\n",
    "map_municipios['municipio'] = map_municipios['municipio'].str.title()\n",
    "map_municipios['municipio'] = map_municipios['municipio'].str.strip()\n",
    "\n",
    "# result = map_municipios.merge(data, left_on=\"cpro\", right_on=\"cmun\", how=\"inner\")\n",
    "# result = data.merge(map_municipios, left_on=\"municipio\", right_on=\"cmun\", how=\"inner\")\n",
    "\n",
    "# sale ok, pero con len(result)=179\n",
    "# result = pd.merge(data, map_municipios, left_index=True , right_index=True, how='inner')"
   ]
  },
  {
   "cell_type": "code",
   "execution_count": null,
   "metadata": {},
   "outputs": [],
   "source": [
    "result.iloc[-1]"
   ]
  },
  {
   "cell_type": "code",
   "execution_count": null,
   "metadata": {},
   "outputs": [],
   "source": [
    "len(result)"
   ]
  },
  {
   "cell_type": "code",
   "execution_count": null,
   "metadata": {},
   "outputs": [],
   "source": [
    "result.info()"
   ]
  },
  {
   "cell_type": "code",
   "execution_count": null,
   "metadata": {},
   "outputs": [],
   "source": [
    "# clean columns no needed\n",
    "result.drop(columns=[\n",
    "                'geometry_x', 'id_0', 'iso', 'pais', 'id_1', 'communidad_', 'id_2', 'provincia', \n",
    "                'id_3', 'name_3', 'id_4', #'municipio_y',\n",
    "                'varname_4', 'ccn_4', 'cca_4', 'type_4', 'engtype_4', \n",
    "                ]\n",
    "           )\n",
    "\n",
    "result.rename(columns={'geometry_y':'geometry'}, inplace=True)"
   ]
  },
  {
   "cell_type": "code",
   "execution_count": null,
   "metadata": {},
   "outputs": [],
   "source": [
    "result.info()"
   ]
  },
  {
   "cell_type": "code",
   "execution_count": null,
   "metadata": {},
   "outputs": [],
   "source": [
    "# data['municipio'] = map_municipios['municipios']\n",
    "\n",
    "#data['cpro'] = map_municipios['cpro']\n",
    "#data['cmun'] = map_municipios['cmun']\n",
    "\n",
    "# data['geometry'] = np.where(\n",
    "    #(data['municipio'].equals(map_municipios['municipios'])) & \n",
    "#    (data['cpro'].equals(map_municipios['cpro'])) & \n",
    "#    (data['cmun'].equals(map_municipios['cmun'])), \n",
    "#    map_municipios['geometry'], 0\n",
    "#)"
   ]
  },
  {
   "cell_type": "code",
   "execution_count": null,
   "metadata": {},
   "outputs": [],
   "source": [
    "#data['geometry'] = pd.Series(np.where(\n",
    "#    (data['cpro'].equals(map_municipios['cpro'])) & \n",
    "#    (data['cmun'].equals(map_municipios['cmun'])), \n",
    "#    map_municipios['geometry'], 0\n",
    "#))"
   ]
  },
  {
   "cell_type": "code",
   "execution_count": null,
   "metadata": {},
   "outputs": [],
   "source": [
    "data.head()"
   ]
  },
  {
   "cell_type": "code",
   "execution_count": null,
   "metadata": {},
   "outputs": [],
   "source": [
    "data.info()"
   ]
  },
  {
   "cell_type": "code",
   "execution_count": null,
   "metadata": {},
   "outputs": [],
   "source": []
  },
  {
   "cell_type": "code",
   "execution_count": null,
   "metadata": {},
   "outputs": [],
   "source": [
    "data['geometry'] = map_municipios['geometry']"
   ]
  },
  {
   "cell_type": "code",
   "execution_count": null,
   "metadata": {},
   "outputs": [],
   "source": [
    "from geopandas import GeoDataFrame\n",
    "data = GeoDataFrame(data)\n",
    "\n",
    "# result = GeoDataFrame(result)"
   ]
  },
  {
   "cell_type": "code",
   "execution_count": null,
   "metadata": {},
   "outputs": [],
   "source": [
    "result.head()"
   ]
  },
  {
   "cell_type": "code",
   "execution_count": null,
   "metadata": {},
   "outputs": [],
   "source": [
    "# Control del tamaño de la figura del mapa\n",
    "fig, ax = plt.subplots(figsize=(10, 10))\n",
    " \n",
    "# Control del título y los ejes\n",
    "ax.set_title('Municipios Madrid', \n",
    "             pad = 20, \n",
    "             fontdict={'fontsize':20, 'color': '#4873ab'})\n",
    "ax.set_xlabel('Longitud')\n",
    "ax.set_ylabel('Latitud')\n",
    "\n",
    "# Añadir la leyenda separada del mapa\n",
    "from mpl_toolkits.axes_grid1 import make_axes_locatable\n",
    "divider = make_axes_locatable(ax)\n",
    "cax = divider.append_axes(\"right\", size=\"5%\", pad=0.2)\n",
    " \n",
    "# Mostrar el mapa finalizado\n",
    "data.plot(column='PODEMOS-IU', cmap='plasma',legend=True, cax=cax, ax=ax, zorder=5)"
   ]
  },
  {
   "cell_type": "code",
   "execution_count": null,
   "metadata": {},
   "outputs": [],
   "source": [
    "from urllib.request import urlopen\n",
    "import json\n",
    "with urlopen('https://raw.githubusercontent.com/FMullor/TopoJson/master/MadridMunicipios.geojson') as response:\n",
    "    municipalities = json.load(response)\n",
    "\n",
    "import plotly.express as px\n",
    "\n",
    "fig = px.choropleth_mapbox( \n",
    "                           result\n",
    "                           geojson=municipalities, \n",
    "                           locations='Municipio', \n",
    "                           color='PP',\n",
    "                           featureidkey=\"properties.municipios\",\n",
    "                           color_continuous_scale=\"Viridis\",\n",
    "                           range_color=(0, 12),\n",
    "                           mapbox_style=\"carto-positron\",\n",
    "                           zoom=3, \n",
    "                           center = {\"lat\": 40.6, \"lon\": -3.8},\n",
    "                           opacity=0.5,\n",
    "                           labels={'PP':'PP'}\n",
    "                          )\n",
    "fig.update_layout(margin={\"r\":0,\"t\":0,\"l\":0,\"b\":0})\n",
    "fig.show()"
   ]
  },
  {
   "cell_type": "code",
   "execution_count": null,
   "metadata": {},
   "outputs": [],
   "source": [
    "from bokeh.io import output_notebook\n",
    "from bokeh.plotting import figure, ColumnDataSource\n",
    "from bokeh.io import output_notebook, show, output_file\n",
    "from bokeh.plotting import figure\n",
    "from bokeh.models import GeoJSONDataSource, LinearColorMapper, ColorBar, HoverTool\n",
    "from bokeh.palettes import brewer\n",
    "output_notebook()\n",
    "import json\n",
    "\n",
    "\n",
    "#Convert data to geojson for bokeh\n",
    "wi_geojson=GeoJSONDataSource(geojson=data.to_json())\n",
    "\n",
    "#wi_geojson=GeoJSONDataSource(geojson=result.to_json())\n",
    "\n",
    "#wi_geojson=GeoJSONDataSource(geojson=map_municipios.to_json())"
   ]
  },
  {
   "cell_type": "code",
   "execution_count": null,
   "metadata": {},
   "outputs": [],
   "source": [
    "color_mapper = LinearColorMapper(palette = brewer['RdBu'][10], low = 0, high = 1)\n",
    "color_bar = ColorBar(color_mapper=color_mapper, label_standoff=8,width = 500, height = 20,\n",
    "                     border_line_color=None,location = (0,0), orientation = 'horizontal')\n",
    "hover = HoverTool(tooltips = [ ('municipio_x','@municipio_x'),('PP', '@PP'),\n",
    "                               ('P.S.O.E.','@P.S.O.E.'),\n",
    "                               ('Votos Totales','@Votos Totales')])\n",
    "p = figure(title=\"Elecciones Madrid 2021\", tools=[hover])\n",
    "p.patches(\"xs\",\"ys\",source=wi_geojson,\n",
    "          fill_color = {'field' :'PP', 'transform' : color_mapper})\n",
    "p.add_layout(color_bar, 'below')\n",
    "show(p)"
   ]
  },
  {
   "cell_type": "code",
   "execution_count": null,
   "metadata": {},
   "outputs": [],
   "source": [
    "# map_municipios\n",
    "from bokeh.io import output_notebook\n",
    "from bokeh.plotting import figure, ColumnDataSource\n",
    "from bokeh.io import output_notebook, show, output_file\n",
    "from bokeh.plotting import figure\n",
    "from bokeh.models import GeoJSONDataSource, LinearColorMapper, ColorBar, HoverTool\n",
    "from bokeh.palettes import brewer\n",
    "output_notebook()\n",
    "import json\n",
    "\n",
    "\n",
    "#Convert data to geojson for bokeh\n",
    "# wi_geojson=GeoJSONDataSource(geojson=data.to_json())\n",
    "# wi_geojson=GeoJSONDataSource(geojson=result.to_json())\n",
    "\n",
    "wi_geojson=GeoJSONDataSource(geojson=map_municipios.to_json())\n",
    "\n",
    "color_mapper = LinearColorMapper(palette = brewer['RdBu'][10], low = 0, high = 1)\n",
    "color_bar = ColorBar(color_mapper=color_mapper, label_standoff=8,width = 500, height = 20,\n",
    "                     border_line_color=None,location = (0,0), orientation = 'horizontal')\n",
    "hover = HoverTool(tooltips = [ ('municipio','@municipio'),('PP', '@PP'),\n",
    "                               ('P.S.O.E.','@P.S.O.E.'),\n",
    "                               ('Votos Totales','@Votos Totales')])\n",
    "p = figure(title=\"Elecciones Madrid 2021\", tools=[hover])\n",
    "p.patches(\"xs\",\"ys\",source=wi_geojson,\n",
    "          fill_color = {'field' :'PP', 'transform' : color_mapper})\n",
    "p.add_layout(color_bar, 'below')\n",
    "show(p)"
   ]
  },
  {
   "cell_type": "code",
   "execution_count": null,
   "metadata": {},
   "outputs": [],
   "source": [
    "# result\n",
    "from bokeh.io import output_notebook\n",
    "from bokeh.plotting import figure, ColumnDataSource\n",
    "from bokeh.io import output_notebook, show, output_file\n",
    "from bokeh.plotting import figure\n",
    "from bokeh.models import GeoJSONDataSource, LinearColorMapper, ColorBar, HoverTool\n",
    "from bokeh.palettes import brewer\n",
    "output_notebook()\n",
    "import json\n",
    "\n",
    "\n",
    "#Convert data to geojson for bokeh\n",
    "# wi_geojson=GeoJSONDataSource(geojson=data.to_json())\n",
    "# wi_geojson=GeoJSONDataSource(geojson=result.to_json())\n",
    "\n",
    "result = GeoDataFrame(result)\n",
    "wi_geojson=GeoJSONDataSource(geojson=result.to_json())\n",
    "\n",
    "color_mapper = LinearColorMapper(palette = brewer['RdBu'][10], low = 0, high = 1)\n",
    "color_bar = ColorBar(color_mapper=color_mapper, label_standoff=8,width = 500, height = 20,\n",
    "                     border_line_color=None,location = (0,0), orientation = 'horizontal')\n",
    "hover = HoverTool(tooltips = [ ('municipio','@municipio'),('PP', '@PP'),\n",
    "                               ('P.S.O.E.','@P.S.O.E.'),\n",
    "                               ('Votos Totales','@Votos Totales')])\n",
    "p = figure(title=\"Elecciones Madrid 2021\", tools=[hover])\n",
    "p.patches(\"xs\",\"ys\",source=wi_geojson,\n",
    "          fill_color = {'field' :'PP', 'transform' : color_mapper})\n",
    "p.add_layout(color_bar, 'below')\n",
    "show(p)"
   ]
  },
  {
   "cell_type": "code",
   "execution_count": null,
   "metadata": {},
   "outputs": [],
   "source": [
    "result[result['municipio']=='Madrid']['PP']"
   ]
  },
  {
   "cell_type": "code",
   "execution_count": null,
   "metadata": {},
   "outputs": [],
   "source": [
    "data[data['municipio']=='Madrid']['PP']"
   ]
  },
  {
   "cell_type": "code",
   "execution_count": null,
   "metadata": {},
   "outputs": [],
   "source": []
  }
 ],
 "metadata": {
  "kernelspec": {
   "display_name": "Python 3",
   "language": "python",
   "name": "python3"
  },
  "language_info": {
   "codemirror_mode": {
    "name": "ipython",
    "version": 3
   },
   "file_extension": ".py",
   "mimetype": "text/x-python",
   "name": "python",
   "nbconvert_exporter": "python",
   "pygments_lexer": "ipython3",
   "version": "3.8.8"
  }
 },
 "nbformat": 4,
 "nbformat_minor": 2
}
