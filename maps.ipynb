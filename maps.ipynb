{
 "cells": [
  {
   "cell_type": "markdown",
   "metadata": {},
   "source": [
    "# Mapping in Python\n",
    "\n",
    "> **Co-author**\n",
    "- [Kim Ruhl *University of Wisconsin*](http://kimjruhl.com)\n",
    "\n",
    "\n",
    "**Prerequisites**\n",
    "\n",
    "- [matplotlib Introduction](../pandas/matplotlib.ipynb)  \n",
    "- [Visualization Rules](visualization_rules.ipynb)  \n",
    "\n",
    "\n",
    "**Outcomes**\n",
    "\n",
    "- Use geopandas to create maps  "
   ]
  },
  {
   "cell_type": "markdown",
   "metadata": {},
   "source": [
    "## Outline\n",
    "\n",
    "- [Mapping in Python](#Mapping-in-Python)  \n",
    "  - [Mapping in Python](#Mapping-in-Python)  \n",
    "  - [Case Study: Voting in Wisconsin](#Case-Study:-Voting-in-Wisconsin)  "
   ]
  },
  {
   "cell_type": "code",
   "execution_count": 1,
   "metadata": {
    "hide-output": false
   },
   "outputs": [],
   "source": [
    "# Uncomment following line to install on colab\n",
    "#! pip install qeds fiona geopandas xgboost gensim folium pyLDAvis descartes"
   ]
  },
  {
   "cell_type": "code",
   "execution_count": 2,
   "metadata": {
    "hide-output": false
   },
   "outputs": [
    {
     "ename": "ModuleNotFoundError",
     "evalue": "No module named 'qeds'",
     "output_type": "error",
     "traceback": [
      "\u001b[0;31m---------------------------------------------------------------------------\u001b[0m",
      "\u001b[0;31mModuleNotFoundError\u001b[0m                       Traceback (most recent call last)",
      "\u001b[0;32m<ipython-input-2-bec52452648a>\u001b[0m in \u001b[0;36m<module>\u001b[0;34m\u001b[0m\n\u001b[1;32m      7\u001b[0m \u001b[0mget_ipython\u001b[0m\u001b[0;34m(\u001b[0m\u001b[0;34m)\u001b[0m\u001b[0;34m.\u001b[0m\u001b[0mrun_line_magic\u001b[0m\u001b[0;34m(\u001b[0m\u001b[0;34m'matplotlib'\u001b[0m\u001b[0;34m,\u001b[0m \u001b[0;34m'inline'\u001b[0m\u001b[0;34m)\u001b[0m\u001b[0;34m\u001b[0m\u001b[0;34m\u001b[0m\u001b[0m\n\u001b[1;32m      8\u001b[0m \u001b[0;31m# activate plot theme\u001b[0m\u001b[0;34m\u001b[0m\u001b[0;34m\u001b[0m\u001b[0;34m\u001b[0m\u001b[0m\n\u001b[0;32m----> 9\u001b[0;31m \u001b[0;32mimport\u001b[0m \u001b[0mqeds\u001b[0m\u001b[0;34m\u001b[0m\u001b[0;34m\u001b[0m\u001b[0m\n\u001b[0m\u001b[1;32m     10\u001b[0m \u001b[0mqeds\u001b[0m\u001b[0;34m.\u001b[0m\u001b[0mthemes\u001b[0m\u001b[0;34m.\u001b[0m\u001b[0mmpl_style\u001b[0m\u001b[0;34m(\u001b[0m\u001b[0;34m)\u001b[0m\u001b[0;34m;\u001b[0m\u001b[0;34m\u001b[0m\u001b[0;34m\u001b[0m\u001b[0m\n",
      "\u001b[0;31mModuleNotFoundError\u001b[0m: No module named 'qeds'"
     ]
    }
   ],
   "source": [
    "import geopandas as gpd\n",
    "import matplotlib.pyplot as plt\n",
    "import pandas as pd\n",
    "\n",
    "from shapely.geometry import Point\n",
    "\n",
    "%matplotlib inline\n",
    "# activate plot theme\n",
    "import qeds\n",
    "qeds.themes.mpl_style();"
   ]
  },
  {
   "cell_type": "markdown",
   "metadata": {},
   "source": [
    "## Mapping in Python\n",
    "\n",
    "In this lecture, we will use a new package, `geopandas`, to create maps.\n",
    "\n",
    "Maps are really quite complicated… We are trying to project a spherical surface onto a flat figure, which is an\n",
    "inherently complicated endeavor.\n",
    "\n",
    "Luckily, `geopandas` will do most of the heavy lifting for us.\n",
    "\n",
    "Let’s start with a DataFrame that has the latitude and longitude coordinates of various South American cities.\n",
    "\n",
    "Our goal is to turn them into something we can plot – in this case, a `GeoDataFrame`."
   ]
  },
  {
   "cell_type": "code",
   "execution_count": null,
   "metadata": {
    "hide-output": false
   },
   "outputs": [],
   "source": [
    "df = pd.DataFrame({\n",
    "    'City': ['Buenos Aires', 'Brasilia', 'Santiago', 'Bogota', 'Caracas'],\n",
    "    'Country': ['Argentina', 'Brazil', 'Chile', 'Colombia', 'Venezuela'],\n",
    "    'Latitude': [-34.58, -15.78, -33.45, 4.60, 10.48],\n",
    "    'Longitude': [-58.66, -47.91, -70.66, -74.08, -66.86]\n",
    "})"
   ]
  },
  {
   "cell_type": "markdown",
   "metadata": {},
   "source": [
    "In order to map the cities, we need tuples of coordinates.\n",
    "\n",
    "We generate them by zipping the latitude and longitude together to store them in a new column named `Coordinates`."
   ]
  },
  {
   "cell_type": "code",
   "execution_count": null,
   "metadata": {
    "hide-output": false
   },
   "outputs": [],
   "source": [
    "df[\"Coordinates\"] = list(zip(df.Longitude, df.Latitude))\n",
    "df.head()"
   ]
  },
  {
   "cell_type": "markdown",
   "metadata": {},
   "source": [
    "Our next step is to turn the tuple into a `Shapely` `Point` object.\n",
    "\n",
    "We will do this by applying Shapely’s `Point` method to the `Coordinates` column."
   ]
  },
  {
   "cell_type": "code",
   "execution_count": null,
   "metadata": {
    "hide-output": false
   },
   "outputs": [],
   "source": [
    "df[\"Coordinates\"] = df[\"Coordinates\"].apply(Point)\n",
    "df.head()"
   ]
  },
  {
   "cell_type": "markdown",
   "metadata": {},
   "source": [
    "Finally, we will convert our DataFrame into a GeoDataFrame by calling the\n",
    "geopandas.DataFrame method.\n",
    "\n",
    "Conveniently, a GeoDataFrame is a data structure with the convenience of a\n",
    "normal DataFrame but also an understanding of how to plot maps.\n",
    "\n",
    "In the code below, we must specify the column that contains the geometry data.\n",
    "\n",
    "See this excerpt from the docs\n",
    "\n",
    "> The most important property of a GeoDataFrame is that it always has one GeoSeries column that\n",
    "holds a special status. This GeoSeries is referred to as the GeoDataFrame’s “geometry”. When a\n",
    "spatial method is applied to a GeoDataFrame (or a spatial attribute like area is called), this\n",
    "commands will always act on the “geometry” column."
   ]
  },
  {
   "cell_type": "code",
   "execution_count": null,
   "metadata": {
    "hide-output": false
   },
   "outputs": [],
   "source": [
    "gdf = gpd.GeoDataFrame(df, geometry=\"Coordinates\")\n",
    "gdf.head()"
   ]
  },
  {
   "cell_type": "code",
   "execution_count": null,
   "metadata": {
    "hide-output": false
   },
   "outputs": [],
   "source": [
    "# Doesn't look different than a vanilla DataFrame...let's make sure we have what we want\n",
    "print('gdf is of type:', type(gdf))\n",
    "\n",
    "# And how can we tell which column is the geometry column?\n",
    "print('\\nThe geometry column is:', gdf.geometry.name)"
   ]
  },
  {
   "cell_type": "markdown",
   "metadata": {},
   "source": [
    "### Plotting a Map\n",
    "\n",
    "Great, now we have our points in the GeoDataFrame.\n",
    "\n",
    "Let’s plot the locations on a map.\n",
    "\n",
    "This will require 3 steps\n",
    "\n",
    "1. Get the map  \n",
    "1. Plot the map  \n",
    "1. Plot the points (our cities) on the map  "
   ]
  },
  {
   "cell_type": "markdown",
   "metadata": {},
   "source": [
    "#### 1. Get the map\n",
    "\n",
    "An organization called [Natural Earth](https://www.naturalearthdata.com/) compiled the map data\n",
    "that we use here.\n",
    "\n",
    "The file provides the outlines of countries, over which we’ll plot the city locations\n",
    "from our GeoDataFrame.\n",
    "\n",
    "Luckily, `geopandas` already comes bundled with this data, so we don’t\n",
    "have to hunt it down!"
   ]
  },
  {
   "cell_type": "code",
   "execution_count": null,
   "metadata": {
    "hide-output": false
   },
   "outputs": [],
   "source": [
    "# Grab low resolution world file\n",
    "world = gpd.read_file(gpd.datasets.get_path(\"naturalearth_lowres\"))\n",
    "world = world.set_index(\"iso_a3\")\n",
    "\n",
    "world.head()"
   ]
  },
  {
   "cell_type": "markdown",
   "metadata": {},
   "source": [
    "`world` is a GeoDataFrame with the following columns:\n",
    "\n",
    "- `pop_est`: Contains a population estimate for the country  \n",
    "- `continent`: The country’s continent  \n",
    "- `name`: The country’s name  \n",
    "- `iso_a3`: The country’s 3 letter abbreviation (we made this the index)  \n",
    "- `gdp_md_est`: An estimate of country’s GDP  \n",
    "- `geometry`: A `POLYGON` for each country (we will learn more about these soon)  "
   ]
  },
  {
   "cell_type": "code",
   "execution_count": null,
   "metadata": {
    "hide-output": false
   },
   "outputs": [],
   "source": [
    "world.geometry.name"
   ]
  },
  {
   "cell_type": "markdown",
   "metadata": {},
   "source": [
    "Notice that the geometry for this GeoDataFrame is stored in the `geometry` column.\n",
    "\n",
    "**A quick note about polygons**\n",
    "\n",
    "Instead of points (as our cities are), the geometry objects are now polygons.\n",
    "\n",
    "A polygon is what you already likely think it is – a collection of ordered points\n",
    "connected by straight lines.\n",
    "\n",
    "The smaller the distance between the points, the more readily the polygon can approximate\n",
    "non-linear shapes.\n",
    "\n",
    "Let’s see an example of a polygon."
   ]
  },
  {
   "cell_type": "code",
   "execution_count": null,
   "metadata": {
    "hide-output": false
   },
   "outputs": [],
   "source": [
    "world.loc[\"ALB\", 'geometry']"
   ]
  },
  {
   "cell_type": "markdown",
   "metadata": {},
   "source": [
    "Notice that it displayed the country of Albania."
   ]
  },
  {
   "cell_type": "code",
   "execution_count": null,
   "metadata": {
    "hide-output": false
   },
   "outputs": [],
   "source": [
    "# Returns two arrays that hold the x and y coordinates of the points that define the polygon's exterior.\n",
    "x, y = world.loc[\"ALB\", \"geometry\"].exterior.coords.xy\n",
    "\n",
    "# How many points?\n",
    "print('Points in the exterior of Albania:', len(x))"
   ]
  },
  {
   "cell_type": "markdown",
   "metadata": {},
   "source": [
    "Let’s see another"
   ]
  },
  {
   "cell_type": "code",
   "execution_count": null,
   "metadata": {
    "hide-output": false
   },
   "outputs": [],
   "source": [
    "world.loc[\"AFG\", \"geometry\"]"
   ]
  },
  {
   "cell_type": "code",
   "execution_count": null,
   "metadata": {
    "hide-output": false
   },
   "outputs": [],
   "source": [
    "# Returns two arrays that hold the x and y coordinates of the points that define the polygon's exterior.\n",
    "x, y = world.loc[\"AFG\", 'geometry'].exterior.coords.xy\n",
    "\n",
    "# How many points?\n",
    "print('Points in the exterior of Afghanistan:', len(x))"
   ]
  },
  {
   "cell_type": "markdown",
   "metadata": {},
   "source": [
    "Notice that we’ve now displayed Afghanistan.\n",
    "\n",
    "This is a more complex shape than Albania and thus required more points."
   ]
  },
  {
   "cell_type": "markdown",
   "metadata": {},
   "source": [
    "#### 2. Plotting the map"
   ]
  },
  {
   "cell_type": "code",
   "execution_count": null,
   "metadata": {
    "hide-output": false
   },
   "outputs": [],
   "source": [
    "fig, gax = plt.subplots(figsize=(10,10))\n",
    "\n",
    "# By only plotting rows in which the continent is 'South America' we only plot SA.\n",
    "world.query(\"continent == 'South America'\").plot(ax=gax, edgecolor='black',color='white')\n",
    "\n",
    "# By the way, if you haven't read the book 'longitude' by Dava Sobel, you should...\n",
    "gax.set_xlabel('longitude')\n",
    "gax.set_ylabel('latitude')\n",
    "\n",
    "gax.spines['top'].set_visible(False)\n",
    "gax.spines['right'].set_visible(False)\n",
    "\n",
    "plt.show()"
   ]
  },
  {
   "cell_type": "markdown",
   "metadata": {},
   "source": [
    "Creating this map may have been easier than you expected!\n",
    "\n",
    "In reality, a lot of heavy lifting is going on behind the scenes.\n",
    "\n",
    "Entire university classes (and even majors!) focus on the theory and thought\n",
    "that goes into creating maps, but, for now, we are happy to rely on the work done by the\n",
    "experts behind `geopandas` and its related libraries."
   ]
  },
  {
   "cell_type": "markdown",
   "metadata": {},
   "source": [
    "#### 3. Plot the cities\n",
    "\n",
    "In the code below, we run the same commands as before to plot the South American countries, but\n",
    ", now, we also plot the data in `gdf`, which contains the location of South American cities."
   ]
  },
  {
   "cell_type": "code",
   "execution_count": null,
   "metadata": {
    "hide-output": false
   },
   "outputs": [],
   "source": [
    "# Step 3: Plot the cities onto the map\n",
    "# We mostly use the code from before --- we still want the country borders plotted --- and we\n",
    "# add a command to plot the cities\n",
    "fig, gax = plt.subplots(figsize=(10,10))\n",
    "\n",
    "# By only plotting rows in which the continent is 'South America' we only plot, well,\n",
    "# South America.\n",
    "world.query(\"continent == 'South America'\").plot(ax = gax, edgecolor='black', color='white')\n",
    "\n",
    "# This plot the cities. It's the same syntax, but we are plotting from a different GeoDataFrame.\n",
    "# I want the cities as pale red dots.\n",
    "gdf.plot(ax=gax, color='red', alpha = 0.5)\n",
    "\n",
    "gax.set_xlabel('longitude')\n",
    "gax.set_ylabel('latitude')\n",
    "gax.set_title('South America')\n",
    "\n",
    "gax.spines['top'].set_visible(False)\n",
    "gax.spines['right'].set_visible(False)\n",
    "\n",
    "plt.show()"
   ]
  },
  {
   "cell_type": "markdown",
   "metadata": {},
   "source": [
    "**Adding labels to points**.\n",
    "\n",
    "Finally, we might want to consider annotating the cities so we know which cities are which."
   ]
  },
  {
   "cell_type": "code",
   "execution_count": null,
   "metadata": {
    "hide-output": false
   },
   "outputs": [],
   "source": [
    "# Step 3: Plot the cities onto the map\n",
    "# We mostly use the code from before --- we still want the country borders plotted --- and we add a command to plot the cities\n",
    "fig, gax = plt.subplots(figsize=(10,10))\n",
    "\n",
    "# By only plotting rows in which the continent is 'South America' we only plot, well, South America.\n",
    "world.query(\"continent == 'South America'\").plot(ax = gax, edgecolor='black', color='white')\n",
    "\n",
    "# This plot the cities. It's the same syntax, but we are plotting from a different GeoDataFrame. I want the\n",
    "# cities as pale red dots.\n",
    "gdf.plot(ax=gax, color='red', alpha = 0.5)\n",
    "\n",
    "gax.set_xlabel('longitude')\n",
    "gax.set_ylabel('latitude')\n",
    "gax.set_title('South America')\n",
    "\n",
    "# Kill the spines...\n",
    "gax.spines['top'].set_visible(False)\n",
    "gax.spines['right'].set_visible(False)\n",
    "\n",
    "# ...or get rid of all the axis. Is it important to know the lat and long?\n",
    "# plt.axis('off')\n",
    "\n",
    "\n",
    "# Label the cities\n",
    "for x, y, label in zip(gdf['Coordinates'].x, gdf['Coordinates'].y, gdf['City']):\n",
    "    gax.annotate(label, xy=(x,y), xytext=(4,4), textcoords='offset points')\n",
    "\n",
    "plt.show()"
   ]
  },
  {
   "cell_type": "markdown",
   "metadata": {},
   "source": [
    "## Case Study: Voting in Wisconsin\n",
    "\n",
    "In the example that follows, we will demonstrate how each county in Wisconsin voted during the 2016\n",
    "Presidential Election.\n",
    "\n",
    "Along the way, we will learn a couple of valuable lessons:\n",
    "\n",
    "1. Where to find shape files for US states and counties  \n",
    "1. How to match census style data to shape files  "
   ]
  },
  {
   "cell_type": "markdown",
   "metadata": {},
   "source": [
    "### Find and Plot State Border\n",
    "\n",
    "Our first step will be to find the border for the state of interest. This can be found on the [US\n",
    "Census’s website here](https://www.census.gov/geo/maps-data/data/cbf/cbf_state.html).\n",
    "\n",
    "You can download the `cb_2016_us_state_5m.zip` by hand, or simply allow `geopandas` to extract\n",
    "the relevant information from the zip file online."
   ]
  },
  {
   "cell_type": "code",
   "execution_count": 4,
   "metadata": {
    "hide-output": false
   },
   "outputs": [
    {
     "data": {
      "text/html": [
       "<div>\n",
       "<style scoped>\n",
       "    .dataframe tbody tr th:only-of-type {\n",
       "        vertical-align: middle;\n",
       "    }\n",
       "\n",
       "    .dataframe tbody tr th {\n",
       "        vertical-align: top;\n",
       "    }\n",
       "\n",
       "    .dataframe thead th {\n",
       "        text-align: right;\n",
       "    }\n",
       "</style>\n",
       "<table border=\"1\" class=\"dataframe\">\n",
       "  <thead>\n",
       "    <tr style=\"text-align: right;\">\n",
       "      <th></th>\n",
       "      <th>STATEFP</th>\n",
       "      <th>STATENS</th>\n",
       "      <th>AFFGEOID</th>\n",
       "      <th>GEOID</th>\n",
       "      <th>STUSPS</th>\n",
       "      <th>NAME</th>\n",
       "      <th>LSAD</th>\n",
       "      <th>ALAND</th>\n",
       "      <th>AWATER</th>\n",
       "      <th>geometry</th>\n",
       "    </tr>\n",
       "  </thead>\n",
       "  <tbody>\n",
       "    <tr>\n",
       "      <td>0</td>\n",
       "      <td>01</td>\n",
       "      <td>01779775</td>\n",
       "      <td>0400000US01</td>\n",
       "      <td>01</td>\n",
       "      <td>AL</td>\n",
       "      <td>Alabama</td>\n",
       "      <td>00</td>\n",
       "      <td>131173688951</td>\n",
       "      <td>4593686489</td>\n",
       "      <td>MULTIPOLYGON (((-88.04374 30.51742, -88.03661 ...</td>\n",
       "    </tr>\n",
       "    <tr>\n",
       "      <td>1</td>\n",
       "      <td>02</td>\n",
       "      <td>01785533</td>\n",
       "      <td>0400000US02</td>\n",
       "      <td>02</td>\n",
       "      <td>AK</td>\n",
       "      <td>Alaska</td>\n",
       "      <td>00</td>\n",
       "      <td>1477946266785</td>\n",
       "      <td>245390495931</td>\n",
       "      <td>MULTIPOLYGON (((-133.65582 55.62562, -133.6249...</td>\n",
       "    </tr>\n",
       "    <tr>\n",
       "      <td>2</td>\n",
       "      <td>04</td>\n",
       "      <td>01779777</td>\n",
       "      <td>0400000US04</td>\n",
       "      <td>04</td>\n",
       "      <td>AZ</td>\n",
       "      <td>Arizona</td>\n",
       "      <td>00</td>\n",
       "      <td>294198560125</td>\n",
       "      <td>1027346486</td>\n",
       "      <td>POLYGON ((-114.79968 32.59362, -114.80939 32.6...</td>\n",
       "    </tr>\n",
       "    <tr>\n",
       "      <td>3</td>\n",
       "      <td>08</td>\n",
       "      <td>01779779</td>\n",
       "      <td>0400000US08</td>\n",
       "      <td>08</td>\n",
       "      <td>CO</td>\n",
       "      <td>Colorado</td>\n",
       "      <td>00</td>\n",
       "      <td>268429343790</td>\n",
       "      <td>1175112870</td>\n",
       "      <td>POLYGON ((-109.06025 38.59933, -109.05954 38.7...</td>\n",
       "    </tr>\n",
       "    <tr>\n",
       "      <td>4</td>\n",
       "      <td>09</td>\n",
       "      <td>01779780</td>\n",
       "      <td>0400000US09</td>\n",
       "      <td>09</td>\n",
       "      <td>CT</td>\n",
       "      <td>Connecticut</td>\n",
       "      <td>00</td>\n",
       "      <td>12542638347</td>\n",
       "      <td>1815476291</td>\n",
       "      <td>POLYGON ((-73.72777 41.10070, -73.69595 41.115...</td>\n",
       "    </tr>\n",
       "  </tbody>\n",
       "</table>\n",
       "</div>"
      ],
      "text/plain": [
       "  STATEFP   STATENS     AFFGEOID GEOID STUSPS         NAME LSAD  \\\n",
       "0      01  01779775  0400000US01    01     AL      Alabama   00   \n",
       "1      02  01785533  0400000US02    02     AK       Alaska   00   \n",
       "2      04  01779777  0400000US04    04     AZ      Arizona   00   \n",
       "3      08  01779779  0400000US08    08     CO     Colorado   00   \n",
       "4      09  01779780  0400000US09    09     CT  Connecticut   00   \n",
       "\n",
       "           ALAND        AWATER  \\\n",
       "0   131173688951    4593686489   \n",
       "1  1477946266785  245390495931   \n",
       "2   294198560125    1027346486   \n",
       "3   268429343790    1175112870   \n",
       "4    12542638347    1815476291   \n",
       "\n",
       "                                            geometry  \n",
       "0  MULTIPOLYGON (((-88.04374 30.51742, -88.03661 ...  \n",
       "1  MULTIPOLYGON (((-133.65582 55.62562, -133.6249...  \n",
       "2  POLYGON ((-114.79968 32.59362, -114.80939 32.6...  \n",
       "3  POLYGON ((-109.06025 38.59933, -109.05954 38.7...  \n",
       "4  POLYGON ((-73.72777 41.10070, -73.69595 41.115...  "
      ]
     },
     "execution_count": 4,
     "metadata": {},
     "output_type": "execute_result"
    }
   ],
   "source": [
    "state_df = gpd.read_file(\"http://www2.census.gov/geo/tiger/GENZ2016/shp/cb_2016_us_state_5m.zip\")\n",
    "state_df.head()"
   ]
  },
  {
   "cell_type": "code",
   "execution_count": 5,
   "metadata": {
    "hide-output": false
   },
   "outputs": [
    {
     "name": "stdout",
     "output_type": "stream",
     "text": [
      "Index(['STATEFP', 'STATENS', 'AFFGEOID', 'GEOID', 'STUSPS', 'NAME', 'LSAD',\n",
      "       'ALAND', 'AWATER', 'geometry'],\n",
      "      dtype='object')\n"
     ]
    }
   ],
   "source": [
    "print(state_df.columns)"
   ]
  },
  {
   "cell_type": "markdown",
   "metadata": {},
   "source": [
    "We have various columns, but, most importantly, we can find the right geometry by filtering by name."
   ]
  },
  {
   "cell_type": "code",
   "execution_count": 6,
   "metadata": {
    "hide-output": false
   },
   "outputs": [
    {
     "data": {
      "image/png": "[encoded data removed]",
      "text/plain": [
       "<Figure size 720x720 with 1 Axes>"
      ]
     },
     "metadata": {
      "needs_background": "light"
     },
     "output_type": "display_data"
    }
   ],
   "source": [
    "fig, gax = plt.subplots(figsize=(10, 10))\n",
    "state_df.query(\"NAME == 'Wisconsin'\").plot(ax=gax, edgecolor=\"black\", color=\"white\")\n",
    "plt.show()"
   ]
  },
  {
   "cell_type": "markdown",
   "metadata": {},
   "source": [
    "### Find and Plot County Borders\n",
    "\n",
    "Next, we will add the county borders to our map.\n",
    "\n",
    "The county shape files (for the entire US) can be found on the [Census\n",
    "site](https://www.census.gov/geo/maps-data/data/cbf/cbf_counties.html).\n",
    "\n",
    "Once again, we will use the 5m resolution."
   ]
  },
  {
   "cell_type": "code",
   "execution_count": 7,
   "metadata": {
    "hide-output": false
   },
   "outputs": [
    {
     "data": {
      "text/html": [
       "<div>\n",
       "<style scoped>\n",
       "    .dataframe tbody tr th:only-of-type {\n",
       "        vertical-align: middle;\n",
       "    }\n",
       "\n",
       "    .dataframe tbody tr th {\n",
       "        vertical-align: top;\n",
       "    }\n",
       "\n",
       "    .dataframe thead th {\n",
       "        text-align: right;\n",
       "    }\n",
       "</style>\n",
       "<table border=\"1\" class=\"dataframe\">\n",
       "  <thead>\n",
       "    <tr style=\"text-align: right;\">\n",
       "      <th></th>\n",
       "      <th>STATEFP</th>\n",
       "      <th>COUNTYFP</th>\n",
       "      <th>COUNTYNS</th>\n",
       "      <th>AFFGEOID</th>\n",
       "      <th>GEOID</th>\n",
       "      <th>NAME</th>\n",
       "      <th>LSAD</th>\n",
       "      <th>ALAND</th>\n",
       "      <th>AWATER</th>\n",
       "      <th>geometry</th>\n",
       "    </tr>\n",
       "  </thead>\n",
       "  <tbody>\n",
       "    <tr>\n",
       "      <td>0</td>\n",
       "      <td>04</td>\n",
       "      <td>015</td>\n",
       "      <td>00025445</td>\n",
       "      <td>0500000US04015</td>\n",
       "      <td>04015</td>\n",
       "      <td>Mohave</td>\n",
       "      <td>06</td>\n",
       "      <td>34475567011</td>\n",
       "      <td>387344307</td>\n",
       "      <td>POLYGON ((-114.75562 36.08717, -114.75364 36.0...</td>\n",
       "    </tr>\n",
       "    <tr>\n",
       "      <td>1</td>\n",
       "      <td>12</td>\n",
       "      <td>035</td>\n",
       "      <td>00308547</td>\n",
       "      <td>0500000US12035</td>\n",
       "      <td>12035</td>\n",
       "      <td>Flagler</td>\n",
       "      <td>06</td>\n",
       "      <td>1257365642</td>\n",
       "      <td>221047161</td>\n",
       "      <td>POLYGON ((-81.52366 29.62243, -81.32406 29.625...</td>\n",
       "    </tr>\n",
       "    <tr>\n",
       "      <td>2</td>\n",
       "      <td>20</td>\n",
       "      <td>129</td>\n",
       "      <td>00485135</td>\n",
       "      <td>0500000US20129</td>\n",
       "      <td>20129</td>\n",
       "      <td>Morton</td>\n",
       "      <td>06</td>\n",
       "      <td>1889993251</td>\n",
       "      <td>507796</td>\n",
       "      <td>POLYGON ((-102.04195 37.02474, -102.04195 37.0...</td>\n",
       "    </tr>\n",
       "    <tr>\n",
       "      <td>3</td>\n",
       "      <td>28</td>\n",
       "      <td>093</td>\n",
       "      <td>00695770</td>\n",
       "      <td>0500000US28093</td>\n",
       "      <td>28093</td>\n",
       "      <td>Marshall</td>\n",
       "      <td>06</td>\n",
       "      <td>1828989833</td>\n",
       "      <td>9195190</td>\n",
       "      <td>POLYGON ((-89.72432 34.99521, -89.64428 34.995...</td>\n",
       "    </tr>\n",
       "    <tr>\n",
       "      <td>4</td>\n",
       "      <td>29</td>\n",
       "      <td>510</td>\n",
       "      <td>00767557</td>\n",
       "      <td>0500000US29510</td>\n",
       "      <td>29510</td>\n",
       "      <td>St. Louis</td>\n",
       "      <td>25</td>\n",
       "      <td>160458044</td>\n",
       "      <td>10670040</td>\n",
       "      <td>POLYGON ((-90.31821 38.60002, -90.30183 38.655...</td>\n",
       "    </tr>\n",
       "  </tbody>\n",
       "</table>\n",
       "</div>"
      ],
      "text/plain": [
       "  STATEFP COUNTYFP  COUNTYNS        AFFGEOID  GEOID       NAME LSAD  \\\n",
       "0      04      015  00025445  0500000US04015  04015     Mohave   06   \n",
       "1      12      035  00308547  0500000US12035  12035    Flagler   06   \n",
       "2      20      129  00485135  0500000US20129  20129     Morton   06   \n",
       "3      28      093  00695770  0500000US28093  28093   Marshall   06   \n",
       "4      29      510  00767557  0500000US29510  29510  St. Louis   25   \n",
       "\n",
       "         ALAND     AWATER                                           geometry  \n",
       "0  34475567011  387344307  POLYGON ((-114.75562 36.08717, -114.75364 36.0...  \n",
       "1   1257365642  221047161  POLYGON ((-81.52366 29.62243, -81.32406 29.625...  \n",
       "2   1889993251     507796  POLYGON ((-102.04195 37.02474, -102.04195 37.0...  \n",
       "3   1828989833    9195190  POLYGON ((-89.72432 34.99521, -89.64428 34.995...  \n",
       "4    160458044   10670040  POLYGON ((-90.31821 38.60002, -90.30183 38.655...  "
      ]
     },
     "execution_count": 7,
     "metadata": {},
     "output_type": "execute_result"
    }
   ],
   "source": [
    "county_df = gpd.read_file(\"http://www2.census.gov/geo/tiger/GENZ2016/shp/cb_2016_us_county_5m.zip\")\n",
    "county_df.head()"
   ]
  },
  {
   "cell_type": "code",
   "execution_count": 8,
   "metadata": {
    "hide-output": false
   },
   "outputs": [
    {
     "name": "stdout",
     "output_type": "stream",
     "text": [
      "Index(['STATEFP', 'COUNTYFP', 'COUNTYNS', 'AFFGEOID', 'GEOID', 'NAME', 'LSAD',\n",
      "       'ALAND', 'AWATER', 'geometry'],\n",
      "      dtype='object')\n"
     ]
    }
   ],
   "source": [
    "print(county_df.columns)"
   ]
  },
  {
   "cell_type": "markdown",
   "metadata": {},
   "source": [
    "Wisconsin’s FIPS code is 55 so we will make sure that we only keep those counties."
   ]
  },
  {
   "cell_type": "code",
   "execution_count": 9,
   "metadata": {
    "hide-output": false
   },
   "outputs": [],
   "source": [
    "county_df = county_df.query(\"STATEFP == '55'\")"
   ]
  },
  {
   "cell_type": "markdown",
   "metadata": {},
   "source": [
    "Now we can plot all counties in Wisconsin."
   ]
  },
  {
   "cell_type": "code",
   "execution_count": 10,
   "metadata": {
    "hide-output": false
   },
   "outputs": [
    {
     "data": {
      "image/png": "[encoded data removed]",
      "text/plain": [
       "<Figure size 720x720 with 1 Axes>"
      ]
     },
     "metadata": {
      "needs_background": "light"
     },
     "output_type": "display_data"
    }
   ],
   "source": [
    "fig, gax = plt.subplots(figsize=(10, 10))\n",
    "\n",
    "state_df.query(\"NAME == 'Wisconsin'\").plot(ax=gax, edgecolor=\"black\", color=\"white\")\n",
    "county_df.plot(ax=gax, edgecolor=\"black\", color=\"white\")\n",
    "\n",
    "plt.show()"
   ]
  },
  {
   "cell_type": "markdown",
   "metadata": {},
   "source": [
    "### Get Vote Data\n",
    "\n",
    "The final step is to get the vote data, which can be found online on [this site](https://elections.wi.gov/elections-voting/results/2016/fall-general).\n",
    "\n",
    "Our friend Kim says,\n",
    "\n",
    "> Go ahead and open up the file. It’s a mess! I saved a cleaned up version of the file to\n",
    "`results.csv` which we can use to save the hassle with cleaning the data. For fun, you should\n",
    "load the raw data and try beating it into shape. That’s what you normally would have to do…\n",
    "and it’s fun.\n",
    "\n",
    "\n",
    "We’d like to add that such an exercise is also “good for you” (similar to how vegetables are good for you).\n",
    "\n",
    "But, for the example in class, we’ll simply start with his cleaned data."
   ]
  },
  {
   "cell_type": "code",
   "execution_count": 11,
   "metadata": {
    "hide-output": false
   },
   "outputs": [
    {
     "data": {
      "text/html": [
       "<div>\n",
       "<style scoped>\n",
       "    .dataframe tbody tr th:only-of-type {\n",
       "        vertical-align: middle;\n",
       "    }\n",
       "\n",
       "    .dataframe tbody tr th {\n",
       "        vertical-align: top;\n",
       "    }\n",
       "\n",
       "    .dataframe thead th {\n",
       "        text-align: right;\n",
       "    }\n",
       "</style>\n",
       "<table border=\"1\" class=\"dataframe\">\n",
       "  <thead>\n",
       "    <tr style=\"text-align: right;\">\n",
       "      <th></th>\n",
       "      <th>county</th>\n",
       "      <th>total</th>\n",
       "      <th>trump</th>\n",
       "      <th>clinton</th>\n",
       "    </tr>\n",
       "  </thead>\n",
       "  <tbody>\n",
       "    <tr>\n",
       "      <td>0</td>\n",
       "      <td>ADAMS</td>\n",
       "      <td>10130</td>\n",
       "      <td>5966</td>\n",
       "      <td>3745</td>\n",
       "    </tr>\n",
       "    <tr>\n",
       "      <td>1</td>\n",
       "      <td>ASHLAND</td>\n",
       "      <td>8032</td>\n",
       "      <td>3303</td>\n",
       "      <td>4226</td>\n",
       "    </tr>\n",
       "    <tr>\n",
       "      <td>2</td>\n",
       "      <td>BARRON</td>\n",
       "      <td>22671</td>\n",
       "      <td>13614</td>\n",
       "      <td>7889</td>\n",
       "    </tr>\n",
       "    <tr>\n",
       "      <td>3</td>\n",
       "      <td>BAYFIELD</td>\n",
       "      <td>9612</td>\n",
       "      <td>4124</td>\n",
       "      <td>4953</td>\n",
       "    </tr>\n",
       "    <tr>\n",
       "      <td>4</td>\n",
       "      <td>BROWN</td>\n",
       "      <td>129011</td>\n",
       "      <td>67210</td>\n",
       "      <td>53382</td>\n",
       "    </tr>\n",
       "  </tbody>\n",
       "</table>\n",
       "</div>"
      ],
      "text/plain": [
       "      county   total  trump  clinton\n",
       "0     ADAMS    10130   5966     3745\n",
       "1   ASHLAND     8032   3303     4226\n",
       "2    BARRON    22671  13614     7889\n",
       "3  BAYFIELD     9612   4124     4953\n",
       "4     BROWN   129011  67210    53382"
      ]
     },
     "execution_count": 11,
     "metadata": {},
     "output_type": "execute_result"
    }
   ],
   "source": [
    "results = pd.read_csv(\"https://datascience.quantecon.org/assets/data/ruhl_cleaned_results.csv\", thousands=\",\")\n",
    "results.head()"
   ]
  },
  {
   "cell_type": "markdown",
   "metadata": {},
   "source": [
    "Notice that this is NOT a GeoDataFrame; it has no geographical information.\n",
    "\n",
    "But it does have the names of each county.\n",
    "\n",
    "We will be able to use this to match to the counties from `county_df`.\n",
    "\n",
    "First, we need to finish up the data cleaning."
   ]
  },
  {
   "cell_type": "code",
   "execution_count": 12,
   "metadata": {
    "hide-output": false
   },
   "outputs": [],
   "source": [
    "results[\"county\"] = results[\"county\"].str.title()\n",
    "results[\"county\"] = results[\"county\"].str.strip()\n",
    "county_df[\"NAME\"] = county_df[\"NAME\"].str.title()\n",
    "county_df[\"NAME\"] = county_df[\"NAME\"].str.strip()"
   ]
  },
  {
   "cell_type": "markdown",
   "metadata": {},
   "source": [
    "Then, we can merge election results with the county data."
   ]
  },
  {
   "cell_type": "code",
   "execution_count": 13,
   "metadata": {
    "hide-output": false
   },
   "outputs": [],
   "source": [
    "res_w_states = county_df.merge(results, left_on=\"NAME\", right_on=\"county\", how=\"inner\")"
   ]
  },
  {
   "cell_type": "markdown",
   "metadata": {},
   "source": [
    "Next, we’ll create a new variable called `trump_share`, which will denote the percentage of votes that\n",
    "Donald Trump won during the election."
   ]
  },
  {
   "cell_type": "code",
   "execution_count": 14,
   "metadata": {
    "hide-output": false
   },
   "outputs": [
    {
     "data": {
      "text/html": [
       "<div>\n",
       "<style scoped>\n",
       "    .dataframe tbody tr th:only-of-type {\n",
       "        vertical-align: middle;\n",
       "    }\n",
       "\n",
       "    .dataframe tbody tr th {\n",
       "        vertical-align: top;\n",
       "    }\n",
       "\n",
       "    .dataframe thead th {\n",
       "        text-align: right;\n",
       "    }\n",
       "</style>\n",
       "<table border=\"1\" class=\"dataframe\">\n",
       "  <thead>\n",
       "    <tr style=\"text-align: right;\">\n",
       "      <th></th>\n",
       "      <th>STATEFP</th>\n",
       "      <th>COUNTYFP</th>\n",
       "      <th>COUNTYNS</th>\n",
       "      <th>AFFGEOID</th>\n",
       "      <th>GEOID</th>\n",
       "      <th>NAME</th>\n",
       "      <th>LSAD</th>\n",
       "      <th>ALAND</th>\n",
       "      <th>AWATER</th>\n",
       "      <th>geometry</th>\n",
       "      <th>county</th>\n",
       "      <th>total</th>\n",
       "      <th>trump</th>\n",
       "      <th>clinton</th>\n",
       "      <th>trump_share</th>\n",
       "      <th>rel_trump_share</th>\n",
       "    </tr>\n",
       "  </thead>\n",
       "  <tbody>\n",
       "    <tr>\n",
       "      <td>0</td>\n",
       "      <td>55</td>\n",
       "      <td>035</td>\n",
       "      <td>01581077</td>\n",
       "      <td>0500000US55035</td>\n",
       "      <td>55035</td>\n",
       "      <td>Eau Claire</td>\n",
       "      <td>06</td>\n",
       "      <td>1652211310</td>\n",
       "      <td>18848512</td>\n",
       "      <td>POLYGON ((-91.65045 44.85595, -90.92225 44.857...</td>\n",
       "      <td>Eau Claire</td>\n",
       "      <td>55025</td>\n",
       "      <td>23331</td>\n",
       "      <td>27340</td>\n",
       "      <td>0.424007</td>\n",
       "      <td>0.460441</td>\n",
       "    </tr>\n",
       "    <tr>\n",
       "      <td>1</td>\n",
       "      <td>55</td>\n",
       "      <td>113</td>\n",
       "      <td>01581116</td>\n",
       "      <td>0500000US55113</td>\n",
       "      <td>55113</td>\n",
       "      <td>Sawyer</td>\n",
       "      <td>06</td>\n",
       "      <td>3256410077</td>\n",
       "      <td>240690443</td>\n",
       "      <td>POLYGON ((-91.55128 46.15704, -91.23838 46.157...</td>\n",
       "      <td>Sawyer</td>\n",
       "      <td>9137</td>\n",
       "      <td>5185</td>\n",
       "      <td>3503</td>\n",
       "      <td>0.567473</td>\n",
       "      <td>0.596800</td>\n",
       "    </tr>\n",
       "    <tr>\n",
       "      <td>2</td>\n",
       "      <td>55</td>\n",
       "      <td>101</td>\n",
       "      <td>01581111</td>\n",
       "      <td>0500000US55101</td>\n",
       "      <td>55101</td>\n",
       "      <td>Racine</td>\n",
       "      <td>06</td>\n",
       "      <td>861267826</td>\n",
       "      <td>1190381762</td>\n",
       "      <td>POLYGON ((-88.30638 42.84210, -88.06992 42.843...</td>\n",
       "      <td>Racine</td>\n",
       "      <td>94302</td>\n",
       "      <td>46681</td>\n",
       "      <td>42641</td>\n",
       "      <td>0.495016</td>\n",
       "      <td>0.522615</td>\n",
       "    </tr>\n",
       "    <tr>\n",
       "      <td>3</td>\n",
       "      <td>55</td>\n",
       "      <td>097</td>\n",
       "      <td>01581109</td>\n",
       "      <td>0500000US55097</td>\n",
       "      <td>55097</td>\n",
       "      <td>Portage</td>\n",
       "      <td>06</td>\n",
       "      <td>2074100548</td>\n",
       "      <td>56938133</td>\n",
       "      <td>POLYGON ((-89.84493 44.68494, -89.34592 44.681...</td>\n",
       "      <td>Portage</td>\n",
       "      <td>38589</td>\n",
       "      <td>17305</td>\n",
       "      <td>18529</td>\n",
       "      <td>0.448444</td>\n",
       "      <td>0.482921</td>\n",
       "    </tr>\n",
       "    <tr>\n",
       "      <td>4</td>\n",
       "      <td>55</td>\n",
       "      <td>135</td>\n",
       "      <td>01581127</td>\n",
       "      <td>0500000US55135</td>\n",
       "      <td>55135</td>\n",
       "      <td>Waupaca</td>\n",
       "      <td>06</td>\n",
       "      <td>1936525696</td>\n",
       "      <td>45266211</td>\n",
       "      <td>POLYGON ((-89.22374 44.68136, -88.60516 44.678...</td>\n",
       "      <td>Waupaca</td>\n",
       "      <td>26095</td>\n",
       "      <td>16209</td>\n",
       "      <td>8451</td>\n",
       "      <td>0.621153</td>\n",
       "      <td>0.657299</td>\n",
       "    </tr>\n",
       "  </tbody>\n",
       "</table>\n",
       "</div>"
      ],
      "text/plain": [
       "  STATEFP COUNTYFP  COUNTYNS        AFFGEOID  GEOID        NAME LSAD  \\\n",
       "0      55      035  01581077  0500000US55035  55035  Eau Claire   06   \n",
       "1      55      113  01581116  0500000US55113  55113      Sawyer   06   \n",
       "2      55      101  01581111  0500000US55101  55101      Racine   06   \n",
       "3      55      097  01581109  0500000US55097  55097     Portage   06   \n",
       "4      55      135  01581127  0500000US55135  55135     Waupaca   06   \n",
       "\n",
       "        ALAND      AWATER                                           geometry  \\\n",
       "0  1652211310    18848512  POLYGON ((-91.65045 44.85595, -90.92225 44.857...   \n",
       "1  3256410077   240690443  POLYGON ((-91.55128 46.15704, -91.23838 46.157...   \n",
       "2   861267826  1190381762  POLYGON ((-88.30638 42.84210, -88.06992 42.843...   \n",
       "3  2074100548    56938133  POLYGON ((-89.84493 44.68494, -89.34592 44.681...   \n",
       "4  1936525696    45266211  POLYGON ((-89.22374 44.68136, -88.60516 44.678...   \n",
       "\n",
       "       county  total  trump  clinton  trump_share  rel_trump_share  \n",
       "0  Eau Claire  55025  23331    27340     0.424007         0.460441  \n",
       "1      Sawyer   9137   5185     3503     0.567473         0.596800  \n",
       "2      Racine  94302  46681    42641     0.495016         0.522615  \n",
       "3     Portage  38589  17305    18529     0.448444         0.482921  \n",
       "4     Waupaca  26095  16209     8451     0.621153         0.657299  "
      ]
     },
     "execution_count": 14,
     "metadata": {},
     "output_type": "execute_result"
    }
   ],
   "source": [
    "res_w_states[\"trump_share\"] = res_w_states[\"trump\"] / (res_w_states[\"total\"])\n",
    "res_w_states[\"rel_trump_share\"] = res_w_states[\"trump\"] / (res_w_states[\"trump\"]+res_w_states[\"clinton\"])\n",
    "res_w_states.head()"
   ]
  },
  {
   "cell_type": "markdown",
   "metadata": {},
   "source": [
    "Finally, we can create our map."
   ]
  },
  {
   "cell_type": "code",
   "execution_count": 15,
   "metadata": {
    "hide-output": false
   },
   "outputs": [
    {
     "data": {
      "image/png": "[encoded data removed]",
      "text/plain": [
       "<Figure size 720x576 with 2 Axes>"
      ]
     },
     "metadata": {
      "needs_background": "light"
     },
     "output_type": "display_data"
    }
   ],
   "source": [
    "fig, gax = plt.subplots(figsize = (10,8))\n",
    "\n",
    "# Plot the state\n",
    "state_df[state_df['NAME'] == 'Wisconsin'].plot(ax = gax, edgecolor='black',color='white')\n",
    "\n",
    "# Plot the counties and pass 'rel_trump_share' as the data to color\n",
    "res_w_states.plot(\n",
    "    ax=gax, edgecolor='black', column='rel_trump_share', legend=True, cmap='RdBu_r',\n",
    "    vmin=0.2, vmax=0.8\n",
    ")\n",
    "\n",
    "# Add text to let people know what we are plotting\n",
    "gax.annotate('Republican vote share',xy=(0.76, 0.06),  xycoords='figure fraction')\n",
    "\n",
    "# I don't want the axis with long and lat\n",
    "plt.axis('off')\n",
    "\n",
    "plt.show()"
   ]
  },
  {
   "cell_type": "markdown",
   "metadata": {},
   "source": [
    "What do you see from this map?\n",
    "\n",
    "How many counties did Trump win? How many did Clinton win?"
   ]
  },
  {
   "cell_type": "code",
   "execution_count": 16,
   "metadata": {
    "hide-output": false
   },
   "outputs": [
    {
     "data": {
      "text/plain": [
       "60"
      ]
     },
     "execution_count": 16,
     "metadata": {},
     "output_type": "execute_result"
    }
   ],
   "source": [
    "res_w_states.eval(\"trump > clinton\").sum()"
   ]
  },
  {
   "cell_type": "code",
   "execution_count": 17,
   "metadata": {
    "hide-output": false
   },
   "outputs": [
    {
     "data": {
      "text/plain": [
       "12"
      ]
     },
     "execution_count": 17,
     "metadata": {},
     "output_type": "execute_result"
    }
   ],
   "source": [
    "res_w_states.eval(\"clinton > trump\").sum()"
   ]
  },
  {
   "cell_type": "markdown",
   "metadata": {},
   "source": [
    "Who had more votes? Do you think a comparison in counties won or votes won is more reasonable? Why\n",
    "do you think they diverge?"
   ]
  },
  {
   "cell_type": "code",
   "execution_count": 18,
   "metadata": {
    "hide-output": false
   },
   "outputs": [
    {
     "data": {
      "text/plain": [
       "1405284"
      ]
     },
     "execution_count": 18,
     "metadata": {},
     "output_type": "execute_result"
    }
   ],
   "source": [
    "res_w_states[\"trump\"].sum()"
   ]
  },
  {
   "cell_type": "code",
   "execution_count": 19,
   "metadata": {
    "hide-output": false
   },
   "outputs": [
    {
     "data": {
      "text/plain": [
       "1382536"
      ]
     },
     "execution_count": 19,
     "metadata": {},
     "output_type": "execute_result"
    }
   ],
   "source": [
    "res_w_states[\"clinton\"].sum()"
   ]
  },
  {
   "cell_type": "markdown",
   "metadata": {},
   "source": [
    "What story could you tell about this divergence?"
   ]
  },
  {
   "cell_type": "markdown",
   "metadata": {},
   "source": [
    "### Interactivity\n",
    "\n",
    "Multiple Python libraries can help create interactive figures.\n",
    "\n",
    "Here, we will see an example using bokeh.\n",
    "\n",
    "In the another lecture, we will see an example with folium."
   ]
  },
  {
   "cell_type": "code",
   "execution_count": 20,
   "metadata": {
    "hide-output": false
   },
   "outputs": [
    {
     "data": {
      "text/html": [
       "\n",
       "    <div class=\"bk-root\">\n",
       "        <a href=\"https://bokeh.pydata.org\" target=\"_blank\" class=\"bk-logo bk-logo-small bk-logo-notebook\"></a>\n",
       "        <span id=\"1002\">Loading BokehJS ...</span>\n",
       "    </div>"
      ]
     },
     "metadata": {},
     "output_type": "display_data"
    },
    {
     "data": {
      "application/javascript": [
       "\n",
       "(function(root) {\n",
       "  function now() {\n",
       "    return new Date();\n",
       "  }\n",
       "\n",
       "  var force = true;\n",
       "\n",
       "  if (typeof root._bokeh_onload_callbacks === \"undefined\" || force === true) {\n",
       "    root._bokeh_onload_callbacks = [];\n",
       "    root._bokeh_is_loading = undefined;\n",
       "  }\n",
       "\n",
       "  var JS_MIME_TYPE = 'application/javascript';\n",
       "  var HTML_MIME_TYPE = 'text/html';\n",
       "  var EXEC_MIME_TYPE = 'application/vnd.bokehjs_exec.v0+json';\n",
       "  var CLASS_NAME = 'output_bokeh rendered_html';\n",
       "\n",
       "  /**\n",
       "   * Render data to the DOM node\n",
       "   */\n",
       "  function render(props, node) {\n",
       "    var script = document.createElement(\"script\");\n",
       "    node.appendChild(script);\n",
       "  }\n",
       "\n",
       "  /**\n",
       "   * Handle when an output is cleared or removed\n",
       "   */\n",
       "  function handleClearOutput(event, handle) {\n",
       "    var cell = handle.cell;\n",
       "\n",
       "    var id = cell.output_area._bokeh_element_id;\n",
       "    var server_id = cell.output_area._bokeh_server_id;\n",
       "    // Clean up Bokeh references\n",
       "    if (id != null && id in Bokeh.index) {\n",
       "      Bokeh.index[id].model.document.clear();\n",
       "      delete Bokeh.index[id];\n",
       "    }\n",
       "\n",
       "    if (server_id !== undefined) {\n",
       "      // Clean up Bokeh references\n",
       "      var cmd = \"from bokeh.io.state import curstate; print(curstate().uuid_to_server['\" + server_id + \"'].get_sessions()[0].document.roots[0]._id)\";\n",
       "      cell.notebook.kernel.execute(cmd, {\n",
       "        iopub: {\n",
       "          output: function(msg) {\n",
       "            var id = msg.content.text.trim();\n",
       "            if (id in Bokeh.index) {\n",
       "              Bokeh.index[id].model.document.clear();\n",
       "              delete Bokeh.index[id];\n",
       "            }\n",
       "          }\n",
       "        }\n",
       "      });\n",
       "      // Destroy server and session\n",
       "      var cmd = \"import bokeh.io.notebook as ion; ion.destroy_server('\" + server_id + \"')\";\n",
       "      cell.notebook.kernel.execute(cmd);\n",
       "    }\n",
       "  }\n",
       "\n",
       "  /**\n",
       "   * Handle when a new output is added\n",
       "   */\n",
       "  function handleAddOutput(event, handle) {\n",
       "    var output_area = handle.output_area;\n",
       "    var output = handle.output;\n",
       "\n",
       "    // limit handleAddOutput to display_data with EXEC_MIME_TYPE content only\n",
       "    if ((output.output_type != \"display_data\") || (!output.data.hasOwnProperty(EXEC_MIME_TYPE))) {\n",
       "      return\n",
       "    }\n",
       "\n",
       "    var toinsert = output_area.element.find(\".\" + CLASS_NAME.split(' ')[0]);\n",
       "\n",
       "    if (output.metadata[EXEC_MIME_TYPE][\"id\"] !== undefined) {\n",
       "      toinsert[toinsert.length - 1].firstChild.textContent = output.data[JS_MIME_TYPE];\n",
       "      // store reference to embed id on output_area\n",
       "      output_area._bokeh_element_id = output.metadata[EXEC_MIME_TYPE][\"id\"];\n",
       "    }\n",
       "    if (output.metadata[EXEC_MIME_TYPE][\"server_id\"] !== undefined) {\n",
       "      var bk_div = document.createElement(\"div\");\n",
       "      bk_div.innerHTML = output.data[HTML_MIME_TYPE];\n",
       "      var script_attrs = bk_div.children[0].attributes;\n",
       "      for (var i = 0; i < script_attrs.length; i++) {\n",
       "        toinsert[toinsert.length - 1].firstChild.setAttribute(script_attrs[i].name, script_attrs[i].value);\n",
       "      }\n",
       "      // store reference to server id on output_area\n",
       "      output_area._bokeh_server_id = output.metadata[EXEC_MIME_TYPE][\"server_id\"];\n",
       "    }\n",
       "  }\n",
       "\n",
       "  function register_renderer(events, OutputArea) {\n",
       "\n",
       "    function append_mime(data, metadata, element) {\n",
       "      // create a DOM node to render to\n",
       "      var toinsert = this.create_output_subarea(\n",
       "        metadata,\n",
       "        CLASS_NAME,\n",
       "        EXEC_MIME_TYPE\n",
       "      );\n",
       "      this.keyboard_manager.register_events(toinsert);\n",
       "      // Render to node\n",
       "      var props = {data: data, metadata: metadata[EXEC_MIME_TYPE]};\n",
       "      render(props, toinsert[toinsert.length - 1]);\n",
       "      element.append(toinsert);\n",
       "      return toinsert\n",
       "    }\n",
       "\n",
       "    /* Handle when an output is cleared or removed */\n",
       "    events.on('clear_output.CodeCell', handleClearOutput);\n",
       "    events.on('delete.Cell', handleClearOutput);\n",
       "\n",
       "    /* Handle when a new output is added */\n",
       "    events.on('output_added.OutputArea', handleAddOutput);\n",
       "\n",
       "    /**\n",
       "     * Register the mime type and append_mime function with output_area\n",
       "     */\n",
       "    OutputArea.prototype.register_mime_type(EXEC_MIME_TYPE, append_mime, {\n",
       "      /* Is output safe? */\n",
       "      safe: true,\n",
       "      /* Index of renderer in `output_area.display_order` */\n",
       "      index: 0\n",
       "    });\n",
       "  }\n",
       "\n",
       "  // register the mime type if in Jupyter Notebook environment and previously unregistered\n",
       "  if (root.Jupyter !== undefined) {\n",
       "    var events = require('base/js/events');\n",
       "    var OutputArea = require('notebook/js/outputarea').OutputArea;\n",
       "\n",
       "    if (OutputArea.prototype.mime_types().indexOf(EXEC_MIME_TYPE) == -1) {\n",
       "      register_renderer(events, OutputArea);\n",
       "    }\n",
       "  }\n",
       "\n",
       "  \n",
       "  if (typeof (root._bokeh_timeout) === \"undefined\" || force === true) {\n",
       "    root._bokeh_timeout = Date.now() + 5000;\n",
       "    root._bokeh_failed_load = false;\n",
       "  }\n",
       "\n",
       "  var NB_LOAD_WARNING = {'data': {'text/html':\n",
       "     \"<div style='background-color: #fdd'>\\n\"+\n",
       "     \"<p>\\n\"+\n",
       "     \"BokehJS does not appear to have successfully loaded. If loading BokehJS from CDN, this \\n\"+\n",
       "     \"may be due to a slow or bad network connection. Possible fixes:\\n\"+\n",
       "     \"</p>\\n\"+\n",
       "     \"<ul>\\n\"+\n",
       "     \"<li>re-rerun `output_notebook()` to attempt to load from CDN again, or</li>\\n\"+\n",
       "     \"<li>use INLINE resources instead, as so:</li>\\n\"+\n",
       "     \"</ul>\\n\"+\n",
       "     \"<code>\\n\"+\n",
       "     \"from bokeh.resources import INLINE\\n\"+\n",
       "     \"output_notebook(resources=INLINE)\\n\"+\n",
       "     \"</code>\\n\"+\n",
       "     \"</div>\"}};\n",
       "\n",
       "  function display_loaded() {\n",
       "    var el = document.getElementById(\"1002\");\n",
       "    if (el != null) {\n",
       "      el.textContent = \"BokehJS is loading...\";\n",
       "    }\n",
       "    if (root.Bokeh !== undefined) {\n",
       "      if (el != null) {\n",
       "        el.textContent = \"BokehJS \" + root.Bokeh.version + \" successfully loaded.\";\n",
       "      }\n",
       "    } else if (Date.now() < root._bokeh_timeout) {\n",
       "      setTimeout(display_loaded, 100)\n",
       "    }\n",
       "  }\n",
       "\n",
       "\n",
       "  function run_callbacks() {\n",
       "    try {\n",
       "      root._bokeh_onload_callbacks.forEach(function(callback) {\n",
       "        if (callback != null)\n",
       "          callback();\n",
       "      });\n",
       "    } finally {\n",
       "      delete root._bokeh_onload_callbacks\n",
       "    }\n",
       "    console.debug(\"Bokeh: all callbacks have finished\");\n",
       "  }\n",
       "\n",
       "  function load_libs(css_urls, js_urls, callback) {\n",
       "    if (css_urls == null) css_urls = [];\n",
       "    if (js_urls == null) js_urls = [];\n",
       "\n",
       "    root._bokeh_onload_callbacks.push(callback);\n",
       "    if (root._bokeh_is_loading > 0) {\n",
       "      console.debug(\"Bokeh: BokehJS is being loaded, scheduling callback at\", now());\n",
       "      return null;\n",
       "    }\n",
       "    if (js_urls == null || js_urls.length === 0) {\n",
       "      run_callbacks();\n",
       "      return null;\n",
       "    }\n",
       "    console.debug(\"Bokeh: BokehJS not loaded, scheduling load and callback at\", now());\n",
       "    root._bokeh_is_loading = css_urls.length + js_urls.length;\n",
       "\n",
       "    function on_load() {\n",
       "      root._bokeh_is_loading--;\n",
       "      if (root._bokeh_is_loading === 0) {\n",
       "        console.debug(\"Bokeh: all BokehJS libraries/stylesheets loaded\");\n",
       "        run_callbacks()\n",
       "      }\n",
       "    }\n",
       "\n",
       "    function on_error() {\n",
       "      console.error(\"failed to load \" + url);\n",
       "    }\n",
       "\n",
       "    for (var i = 0; i < css_urls.length; i++) {\n",
       "      var url = css_urls[i];\n",
       "      const element = document.createElement(\"link\");\n",
       "      element.onload = on_load;\n",
       "      element.onerror = on_error;\n",
       "      element.rel = \"stylesheet\";\n",
       "      element.type = \"text/css\";\n",
       "      element.href = url;\n",
       "      console.debug(\"Bokeh: injecting link tag for BokehJS stylesheet: \", url);\n",
       "      document.body.appendChild(element);\n",
       "    }\n",
       "\n",
       "    for (var i = 0; i < js_urls.length; i++) {\n",
       "      var url = js_urls[i];\n",
       "      var element = document.createElement('script');\n",
       "      element.onload = on_load;\n",
       "      element.onerror = on_error;\n",
       "      element.async = false;\n",
       "      element.src = url;\n",
       "      console.debug(\"Bokeh: injecting script tag for BokehJS library: \", url);\n",
       "      document.head.appendChild(element);\n",
       "    }\n",
       "  };var element = document.getElementById(\"1002\");\n",
       "  if (element == null) {\n",
       "    console.error(\"Bokeh: ERROR: autoload.js configured with elementid '1002' but no matching script tag was found. \")\n",
       "    return false;\n",
       "  }\n",
       "\n",
       "  function inject_raw_css(css) {\n",
       "    const element = document.createElement(\"style\");\n",
       "    element.appendChild(document.createTextNode(css));\n",
       "    document.body.appendChild(element);\n",
       "  }\n",
       "\n",
       "  var js_urls = [\"https://cdn.pydata.org/bokeh/release/bokeh-1.3.4.min.js\", \"https://cdn.pydata.org/bokeh/release/bokeh-widgets-1.3.4.min.js\", \"https://cdn.pydata.org/bokeh/release/bokeh-tables-1.3.4.min.js\", \"https://cdn.pydata.org/bokeh/release/bokeh-gl-1.3.4.min.js\"];\n",
       "  var css_urls = [];\n",
       "\n",
       "  var inline_js = [\n",
       "    function(Bokeh) {\n",
       "      Bokeh.set_log_level(\"info\");\n",
       "    },\n",
       "    \n",
       "    function(Bokeh) {\n",
       "      \n",
       "    },\n",
       "    function(Bokeh) {} // ensure no trailing comma for IE\n",
       "  ];\n",
       "\n",
       "  function run_inline_js() {\n",
       "    \n",
       "    if ((root.Bokeh !== undefined) || (force === true)) {\n",
       "      for (var i = 0; i < inline_js.length; i++) {\n",
       "        inline_js[i].call(root, root.Bokeh);\n",
       "      }if (force === true) {\n",
       "        display_loaded();\n",
       "      }} else if (Date.now() < root._bokeh_timeout) {\n",
       "      setTimeout(run_inline_js, 100);\n",
       "    } else if (!root._bokeh_failed_load) {\n",
       "      console.log(\"Bokeh: BokehJS failed to load within specified timeout.\");\n",
       "      root._bokeh_failed_load = true;\n",
       "    } else if (force !== true) {\n",
       "      var cell = $(document.getElementById(\"1002\")).parents('.cell').data().cell;\n",
       "      cell.output_area.append_execute_result(NB_LOAD_WARNING)\n",
       "    }\n",
       "\n",
       "  }\n",
       "\n",
       "  if (root._bokeh_is_loading === 0) {\n",
       "    console.debug(\"Bokeh: BokehJS loaded, going straight to plotting\");\n",
       "    run_inline_js();\n",
       "  } else {\n",
       "    load_libs(css_urls, js_urls, function() {\n",
       "      console.debug(\"Bokeh: BokehJS plotting callback run at\", now());\n",
       "      run_inline_js();\n",
       "    });\n",
       "  }\n",
       "}(window));"
      ],
      "application/vnd.bokehjs_load.v0+json": "\n(function(root) {\n  function now() {\n    return new Date();\n  }\n\n  var force = true;\n\n  if (typeof root._bokeh_onload_callbacks === \"undefined\" || force === true) {\n    root._bokeh_onload_callbacks = [];\n    root._bokeh_is_loading = undefined;\n  }\n\n  \n\n  \n  if (typeof (root._bokeh_timeout) === \"undefined\" || force === true) {\n    root._bokeh_timeout = Date.now() + 5000;\n    root._bokeh_failed_load = false;\n  }\n\n  var NB_LOAD_WARNING = {'data': {'text/html':\n     \"<div style='background-color: #fdd'>\\n\"+\n     \"<p>\\n\"+\n     \"BokehJS does not appear to have successfully loaded. If loading BokehJS from CDN, this \\n\"+\n     \"may be due to a slow or bad network connection. Possible fixes:\\n\"+\n     \"</p>\\n\"+\n     \"<ul>\\n\"+\n     \"<li>re-rerun `output_notebook()` to attempt to load from CDN again, or</li>\\n\"+\n     \"<li>use INLINE resources instead, as so:</li>\\n\"+\n     \"</ul>\\n\"+\n     \"<code>\\n\"+\n     \"from bokeh.resources import INLINE\\n\"+\n     \"output_notebook(resources=INLINE)\\n\"+\n     \"</code>\\n\"+\n     \"</div>\"}};\n\n  function display_loaded() {\n    var el = document.getElementById(\"1002\");\n    if (el != null) {\n      el.textContent = \"BokehJS is loading...\";\n    }\n    if (root.Bokeh !== undefined) {\n      if (el != null) {\n        el.textContent = \"BokehJS \" + root.Bokeh.version + \" successfully loaded.\";\n      }\n    } else if (Date.now() < root._bokeh_timeout) {\n      setTimeout(display_loaded, 100)\n    }\n  }\n\n\n  function run_callbacks() {\n    try {\n      root._bokeh_onload_callbacks.forEach(function(callback) {\n        if (callback != null)\n          callback();\n      });\n    } finally {\n      delete root._bokeh_onload_callbacks\n    }\n    console.debug(\"Bokeh: all callbacks have finished\");\n  }\n\n  function load_libs(css_urls, js_urls, callback) {\n    if (css_urls == null) css_urls = [];\n    if (js_urls == null) js_urls = [];\n\n    root._bokeh_onload_callbacks.push(callback);\n    if (root._bokeh_is_loading > 0) {\n      console.debug(\"Bokeh: BokehJS is being loaded, scheduling callback at\", now());\n      return null;\n    }\n    if (js_urls == null || js_urls.length === 0) {\n      run_callbacks();\n      return null;\n    }\n    console.debug(\"Bokeh: BokehJS not loaded, scheduling load and callback at\", now());\n    root._bokeh_is_loading = css_urls.length + js_urls.length;\n\n    function on_load() {\n      root._bokeh_is_loading--;\n      if (root._bokeh_is_loading === 0) {\n        console.debug(\"Bokeh: all BokehJS libraries/stylesheets loaded\");\n        run_callbacks()\n      }\n    }\n\n    function on_error() {\n      console.error(\"failed to load \" + url);\n    }\n\n    for (var i = 0; i < css_urls.length; i++) {\n      var url = css_urls[i];\n      const element = document.createElement(\"link\");\n      element.onload = on_load;\n      element.onerror = on_error;\n      element.rel = \"stylesheet\";\n      element.type = \"text/css\";\n      element.href = url;\n      console.debug(\"Bokeh: injecting link tag for BokehJS stylesheet: \", url);\n      document.body.appendChild(element);\n    }\n\n    for (var i = 0; i < js_urls.length; i++) {\n      var url = js_urls[i];\n      var element = document.createElement('script');\n      element.onload = on_load;\n      element.onerror = on_error;\n      element.async = false;\n      element.src = url;\n      console.debug(\"Bokeh: injecting script tag for BokehJS library: \", url);\n      document.head.appendChild(element);\n    }\n  };var element = document.getElementById(\"1002\");\n  if (element == null) {\n    console.error(\"Bokeh: ERROR: autoload.js configured with elementid '1002' but no matching script tag was found. \")\n    return false;\n  }\n\n  function inject_raw_css(css) {\n    const element = document.createElement(\"style\");\n    element.appendChild(document.createTextNode(css));\n    document.body.appendChild(element);\n  }\n\n  var js_urls = [\"https://cdn.pydata.org/bokeh/release/bokeh-1.3.4.min.js\", \"https://cdn.pydata.org/bokeh/release/bokeh-widgets-1.3.4.min.js\", \"https://cdn.pydata.org/bokeh/release/bokeh-tables-1.3.4.min.js\", \"https://cdn.pydata.org/bokeh/release/bokeh-gl-1.3.4.min.js\"];\n  var css_urls = [];\n\n  var inline_js = [\n    function(Bokeh) {\n      Bokeh.set_log_level(\"info\");\n    },\n    \n    function(Bokeh) {\n      \n    },\n    function(Bokeh) {} // ensure no trailing comma for IE\n  ];\n\n  function run_inline_js() {\n    \n    if ((root.Bokeh !== undefined) || (force === true)) {\n      for (var i = 0; i < inline_js.length; i++) {\n        inline_js[i].call(root, root.Bokeh);\n      }if (force === true) {\n        display_loaded();\n      }} else if (Date.now() < root._bokeh_timeout) {\n      setTimeout(run_inline_js, 100);\n    } else if (!root._bokeh_failed_load) {\n      console.log(\"Bokeh: BokehJS failed to load within specified timeout.\");\n      root._bokeh_failed_load = true;\n    } else if (force !== true) {\n      var cell = $(document.getElementById(\"1002\")).parents('.cell').data().cell;\n      cell.output_area.append_execute_result(NB_LOAD_WARNING)\n    }\n\n  }\n\n  if (root._bokeh_is_loading === 0) {\n    console.debug(\"Bokeh: BokehJS loaded, going straight to plotting\");\n    run_inline_js();\n  } else {\n    load_libs(css_urls, js_urls, function() {\n      console.debug(\"Bokeh: BokehJS plotting callback run at\", now());\n      run_inline_js();\n    });\n  }\n}(window));"
     },
     "metadata": {},
     "output_type": "display_data"
    }
   ],
   "source": [
    "from bokeh.io import output_notebook\n",
    "from bokeh.plotting import figure, ColumnDataSource\n",
    "from bokeh.io import output_notebook, show, output_file\n",
    "from bokeh.plotting import figure\n",
    "from bokeh.models import GeoJSONDataSource, LinearColorMapper, ColorBar, HoverTool\n",
    "from bokeh.palettes import brewer\n",
    "output_notebook()\n",
    "import json\n",
    "res_w_states[\"clinton_share\"] = res_w_states[\"clinton\"] / res_w_states[\"total\"]\n",
    "#Convert data to geojson for bokeh\n",
    "wi_geojson=GeoJSONDataSource(geojson=res_w_states.to_json())"
   ]
  },
  {
   "cell_type": "code",
   "execution_count": 21,
   "metadata": {
    "hide-output": false
   },
   "outputs": [
    {
     "data": {
      "text/html": [
       "\n",
       "\n",
       "\n",
       "\n",
       "\n",
       "\n",
       "  <div class=\"bk-root\" id=\"4f88f387-70dd-4676-914a-6a730b177902\" data-root-id=\"1007\"></div>\n"
      ]
     },
     "metadata": {},
     "output_type": "display_data"
    },
    {
     "data": {
      "application/javascript": [
       "(function(root) {\n",
       "  function embed_document(root) {\n",
       "    \n",
       "  var docs_json = {\"4ba2db48-6fb7-4cae-8eb4-e4f52a535bd5\":{\"roots\":{\"references\":[{\"attributes\":{\"below\":[{\"id\":\"1018\",\"type\":\"LinearAxis\"},{\"id\":\"1005\",\"type\":\"ColorBar\"}],\"center\":[{\"id\":\"1022\",\"type\":\"Grid\"},{\"id\":\"1027\",\"type\":\"Grid\"}],\"left\":[{\"id\":\"1023\",\"type\":\"LinearAxis\"}],\"renderers\":[{\"id\":\"1033\",\"type\":\"GlyphRenderer\"}],\"title\":{\"id\":\"1008\",\"type\":\"Title\"},\"toolbar\":{\"id\":\"1028\",\"type\":\"Toolbar\"},\"x_range\":{\"id\":\"1010\",\"type\":\"DataRange1d\"},\"x_scale\":{\"id\":\"1014\",\"type\":\"LinearScale\"},\"y_range\":{\"id\":\"1012\",\"type\":\"DataRange1d\"},\"y_scale\":{\"id\":\"1016\",\"type\":\"LinearScale\"}},\"id\":\"1007\",\"subtype\":\"Figure\",\"type\":\"Plot\"},{\"attributes\":{\"formatter\":{\"id\":\"1036\",\"type\":\"BasicTickFormatter\"},\"ticker\":{\"id\":\"1024\",\"type\":\"BasicTicker\"}},\"id\":\"1023\",\"type\":\"LinearAxis\"},{\"attributes\":{},\"id\":\"1024\",\"type\":\"BasicTicker\"},{\"attributes\":{\"color_mapper\":{\"id\":\"1004\",\"type\":\"LinearColorMapper\"},\"formatter\":{\"id\":\"1040\",\"type\":\"BasicTickFormatter\"},\"height\":20,\"label_standoff\":8,\"location\":[0,0],\"orientation\":\"horizontal\",\"ticker\":{\"id\":\"1041\",\"type\":\"BasicTicker\"},\"width\":500},\"id\":\"1005\",\"type\":\"ColorBar\"},{\"attributes\":{\"high\":1,\"low\":0,\"palette\":[\"#053061\",\"#2166ac\",\"#4393c3\",\"#92c5de\",\"#d1e5f0\",\"#fddbc7\",\"#f4a582\",\"#d6604d\",\"#b2182b\",\"#67001f\"]},\"id\":\"1004\",\"type\":\"LinearColorMapper\"},{\"attributes\":{},\"id\":\"1041\",\"type\":\"BasicTicker\"},{\"attributes\":{\"dimension\":1,\"ticker\":{\"id\":\"1024\",\"type\":\"BasicTicker\"}},\"id\":\"1027\",\"type\":\"Grid\"},{\"attributes\":{\"text\":\"Wisconsin Voting in 2016 Presidential Election\"},\"id\":\"1008\",\"type\":\"Title\"},{\"attributes\":{\"data_source\":{\"id\":\"1003\",\"type\":\"GeoJSONDataSource\"},\"glyph\":{\"id\":\"1031\",\"type\":\"Patches\"},\"hover_glyph\":null,\"muted_glyph\":null,\"nonselection_glyph\":{\"id\":\"1032\",\"type\":\"Patches\"},\"selection_glyph\":null,\"view\":{\"id\":\"1034\",\"type\":\"CDSView\"}},\"id\":\"1033\",\"type\":\"GlyphRenderer\"},{\"attributes\":{\"callback\":null,\"geojson\":\"{\\\"type\\\": \\\"FeatureCollection\\\", \\\"features\\\": [{\\\"id\\\": \\\"0\\\", \\\"type\\\": \\\"Feature\\\", \\\"properties\\\": {\\\"AFFGEOID\\\": \\\"0500000US55035\\\", \\\"ALAND\\\": 1652211310, \\\"AWATER\\\": 18848512, \\\"COUNTYFP\\\": \\\"035\\\", \\\"COUNTYNS\\\": \\\"01581077\\\", \\\"GEOID\\\": \\\"55035\\\", \\\"LSAD\\\": \\\"06\\\", \\\"NAME\\\": \\\"Eau Claire\\\", \\\"STATEFP\\\": \\\"55\\\", \\\"clinton\\\": 27340, \\\"clinton_share\\\": 0.4968650613357565, \\\"county\\\": \\\"Eau Claire\\\", \\\"rel_trump_share\\\": 0.46044088334550337, \\\"total\\\": 55025, \\\"trump\\\": 23331, \\\"trump_share\\\": 0.42400726942298955}, \\\"geometry\\\": {\\\"type\\\": \\\"Polygon\\\", \\\"coordinates\\\": [[[-91.650455, 44.855951], [-90.922247, 44.857309], [-90.92235, 44.596292999999996], [-91.043815, 44.59664], [-91.16561899999999, 44.596987], [-91.529101, 44.596197], [-91.65024799999999, 44.596649], [-91.65036099999999, 44.683633], [-91.650455, 44.855951]]]}}, {\\\"id\\\": \\\"1\\\", \\\"type\\\": \\\"Feature\\\", \\\"properties\\\": {\\\"AFFGEOID\\\": \\\"0500000US55113\\\", \\\"ALAND\\\": 3256410077, \\\"AWATER\\\": 240690443, \\\"COUNTYFP\\\": \\\"113\\\", \\\"COUNTYNS\\\": \\\"01581116\\\", \\\"GEOID\\\": \\\"55113\\\", \\\"LSAD\\\": \\\"06\\\", \\\"NAME\\\": \\\"Sawyer\\\", \\\"STATEFP\\\": \\\"55\\\", \\\"clinton\\\": 3503, \\\"clinton_share\\\": 0.3833862318047499, \\\"county\\\": \\\"Sawyer\\\", \\\"rel_trump_share\\\": 0.5968001841620626, \\\"total\\\": 9137, \\\"trump\\\": 5185, \\\"trump_share\\\": 0.5674729123344643}, \\\"geometry\\\": {\\\"type\\\": \\\"Polygon\\\", \\\"coordinates\\\": [[[-91.551282, 46.157045], [-91.23838099999999, 46.157908], [-90.924583, 46.154616], [-90.925174, 45.981055], [-90.676968, 45.981553999999996], [-90.67866599999999, 45.953154999999995], [-90.678749, 45.638264], [-91.540294, 45.637605], [-91.541806, 45.982586], [-91.551805, 45.983292999999996], [-91.551282, 46.157045]]]}}, {\\\"id\\\": \\\"2\\\", \\\"type\\\": \\\"Feature\\\", \\\"properties\\\": {\\\"AFFGEOID\\\": \\\"0500000US55101\\\", \\\"ALAND\\\": 861267826, \\\"AWATER\\\": 1190381762, \\\"COUNTYFP\\\": \\\"101\\\", \\\"COUNTYNS\\\": \\\"01581111\\\", \\\"GEOID\\\": \\\"55101\\\", \\\"LSAD\\\": \\\"06\\\", \\\"NAME\\\": \\\"Racine\\\", \\\"STATEFP\\\": \\\"55\\\", \\\"clinton\\\": 42641, \\\"clinton_share\\\": 0.4521749273610316, \\\"county\\\": \\\"Racine\\\", \\\"rel_trump_share\\\": 0.5226148093414836, \\\"total\\\": 94302, \\\"trump\\\": 46681, \\\"trump_share\\\": 0.49501601238573945}, \\\"geometry\\\": {\\\"type\\\": \\\"Polygon\\\", \\\"coordinates\\\": [[[-88.306384, 42.842095], [-88.069924, 42.843323], [-87.8270210768063, 42.8422224134625], [-87.823278, 42.835318], [-87.793976, 42.806218], [-87.773699, 42.793481], [-87.76667499999999, 42.784895999999996], [-87.769774, 42.773719], [-87.77817399999999, 42.762819], [-87.782174, 42.747719], [-87.778627, 42.727298999999995], [-87.78237399999999, 42.708219], [-87.785074, 42.700818999999996], [-87.786774, 42.700719], [-87.794874, 42.689918999999996], [-87.803074, 42.675419], [-87.80576775106981, 42.6681275267379], [-88.188306, 42.669709], [-88.18817299999999, 42.611456], [-88.305891, 42.610817], [-88.306384, 42.842095]]]}}, {\\\"id\\\": \\\"3\\\", \\\"type\\\": \\\"Feature\\\", \\\"properties\\\": {\\\"AFFGEOID\\\": \\\"0500000US55097\\\", \\\"ALAND\\\": 2074100548, \\\"AWATER\\\": 56938133, \\\"COUNTYFP\\\": \\\"097\\\", \\\"COUNTYNS\\\": \\\"01581109\\\", \\\"GEOID\\\": \\\"55097\\\", \\\"LSAD\\\": \\\"06\\\", \\\"NAME\\\": \\\"Portage\\\", \\\"STATEFP\\\": \\\"55\\\", \\\"clinton\\\": 18529, \\\"clinton_share\\\": 0.4801627406773951, \\\"county\\\": \\\"Portage\\\", \\\"rel_trump_share\\\": 0.4829212479767818, \\\"total\\\": 38589, \\\"trump\\\": 17305, \\\"trump_share\\\": 0.4484438570577107}, \\\"geometry\\\": {\\\"type\\\": \\\"Polygon\\\", \\\"coordinates\\\": [[[-89.844931, 44.684945], [-89.345917, 44.68138], [-89.223745, 44.681365], [-89.224813, 44.243393], [-89.59797999999999, 44.245725], [-89.724746, 44.247678], [-89.72662199999999, 44.511191], [-89.84441, 44.511542], [-89.844931, 44.684945]]]}}, {\\\"id\\\": \\\"4\\\", \\\"type\\\": \\\"Feature\\\", \\\"properties\\\": {\\\"AFFGEOID\\\": \\\"0500000US55135\\\", \\\"ALAND\\\": 1936525696, \\\"AWATER\\\": 45266211, \\\"COUNTYFP\\\": \\\"135\\\", \\\"COUNTYNS\\\": \\\"01581127\\\", \\\"GEOID\\\": \\\"55135\\\", \\\"LSAD\\\": \\\"06\\\", \\\"NAME\\\": \\\"Waupaca\\\", \\\"STATEFP\\\": \\\"55\\\", \\\"clinton\\\": 8451, \\\"clinton_share\\\": 0.32385514466372867, \\\"county\\\": \\\"Waupaca\\\", \\\"rel_trump_share\\\": 0.6572992700729927, \\\"total\\\": 26095, \\\"trump\\\": 16209, \\\"trump_share\\\": 0.621153477677716}, \\\"geometry\\\": {\\\"type\\\": \\\"Polygon\\\", \\\"coordinates\\\": [[[-89.223745, 44.681365], [-88.605159, 44.678331], [-88.606083, 44.590514999999996], [-88.736802, 44.590605], [-88.73977, 44.243303], [-88.7662, 44.243365999999995], [-88.886673, 44.242622], [-89.224813, 44.243393], [-89.223745, 44.681365]]]}}, {\\\"id\\\": \\\"5\\\", \\\"type\\\": \\\"Feature\\\", \\\"properties\\\": {\\\"AFFGEOID\\\": \\\"0500000US55129\\\", \\\"ALAND\\\": 2064513289, \\\"AWATER\\\": 145566485, \\\"COUNTYFP\\\": \\\"129\\\", \\\"COUNTYNS\\\": \\\"01581124\\\", \\\"GEOID\\\": \\\"55129\\\", \\\"LSAD\\\": \\\"06\\\", \\\"NAME\\\": \\\"Washburn\\\", \\\"STATEFP\\\": \\\"55\\\", \\\"clinton\\\": 3282, \\\"clinton_share\\\": 0.35701076906341783, \\\"county\\\": \\\"Washburn\\\", \\\"rel_trump_share\\\": 0.6235375086028906, \\\"total\\\": 9193, \\\"trump\\\": 5436, \\\"trump_share\\\": 0.5913194822147286}, \\\"geometry\\\": {\\\"type\\\": \\\"Polygon\\\", \\\"coordinates\\\": [[[-92.04963599999999, 46.157596999999996], [-91.561684, 46.157846], [-91.551282, 46.157045], [-91.551805, 45.983292999999996], [-91.541806, 45.982586], [-91.540294, 45.637605], [-92.03141699999999, 45.639928], [-92.03340399999999, 45.983869999999996], [-92.050647, 45.983920999999995], [-92.04963599999999, 46.157596999999996]]]}}, {\\\"id\\\": \\\"6\\\", \\\"type\\\": \\\"Feature\\\", \\\"properties\\\": {\\\"AFFGEOID\\\": \\\"0500000US55133\\\", \\\"ALAND\\\": 1423666848, \\\"AWATER\\\": 79858781, \\\"COUNTYFP\\\": \\\"133\\\", \\\"COUNTYNS\\\": \\\"01581126\\\", \\\"GEOID\\\": \\\"55133\\\", \\\"LSAD\\\": \\\"06\\\", \\\"NAME\\\": \\\"Waukesha\\\", \\\"STATEFP\\\": \\\"55\\\", \\\"clinton\\\": 79224, \\\"clinton_share\\\": 0.3334441671261359, \\\"county\\\": \\\"Waukesha\\\", \\\"rel_trump_share\\\": 0.6427601942579374, \\\"total\\\": 237593, \\\"trump\\\": 142543, \\\"trump_share\\\": 0.5999461263589415}, \\\"geometry\\\": {\\\"type\\\": \\\"Polygon\\\", \\\"coordinates\\\": [[[-88.541578, 43.019208], [-88.535843, 43.196048], [-88.417987, 43.194697], [-88.06335299999999, 43.192116999999996], [-88.065621, 43.125386999999996], [-88.065589, 43.120591], [-88.066025, 43.104220999999995], [-88.06924699999999, 42.959179], [-88.06929, 42.952374], [-88.069924, 42.843323], [-88.306384, 42.842095], [-88.541535, 42.842996], [-88.541578, 43.019208]]]}}, {\\\"id\\\": \\\"7\\\", \\\"type\\\": \\\"Feature\\\", \\\"properties\\\": {\\\"AFFGEOID\\\": \\\"0500000US55027\\\", \\\"ALAND\\\": 2267985236, \\\"AWATER\\\": 81403926, \\\"COUNTYFP\\\": \\\"027\\\", \\\"COUNTYNS\\\": \\\"01581073\\\", \\\"GEOID\\\": \\\"55027\\\", \\\"LSAD\\\": \\\"06\\\", \\\"NAME\\\": \\\"Dodge\\\", \\\"STATEFP\\\": \\\"55\\\", \\\"clinton\\\": 13968, \\\"clinton_share\\\": 0.32424903663122706, \\\"county\\\": \\\"Dodge\\\", \\\"rel_trump_share\\\": 0.6559860108858951, \\\"total\\\": 43078, \\\"trump\\\": 26635, \\\"trump_share\\\": 0.6182970425739357}, \\\"geometry\\\": {\\\"type\\\": \\\"Polygon\\\", \\\"coordinates\\\": [[[-89.00913899999999, 43.28483], [-89.008828, 43.371637], [-89.00611699999999, 43.458759], [-89.00684799999999, 43.633044999999996], [-88.88605199999999, 43.633539999999996], [-88.40104099999999, 43.630933], [-88.400426, 43.543532], [-88.401544, 43.370028999999995], [-88.41843899999999, 43.370174999999996], [-88.417987, 43.194697], [-88.535843, 43.196048], [-89.00891999999999, 43.197721], [-89.00913899999999, 43.28483]]]}}, {\\\"id\\\": \\\"8\\\", \\\"type\\\": \\\"Feature\\\", \\\"properties\\\": {\\\"AFFGEOID\\\": \\\"0500000US55099\\\", \\\"ALAND\\\": 3247818570, \\\"AWATER\\\": 62268239, \\\"COUNTYFP\\\": \\\"099\\\", \\\"COUNTYNS\\\": \\\"01581110\\\", \\\"GEOID\\\": \\\"55099\\\", \\\"LSAD\\\": \\\"06\\\", \\\"NAME\\\": \\\"Price\\\", \\\"STATEFP\\\": \\\"55\\\", \\\"clinton\\\": 2667, \\\"clinton_share\\\": 0.35240486257928116, \\\"county\\\": \\\"Price\\\", \\\"rel_trump_share\\\": 0.6309161361749239, \\\"total\\\": 7568, \\\"trump\\\": 4559, \\\"trump_share\\\": 0.6024048625792812}, \\\"geometry\\\": {\\\"type\\\": \\\"Polygon\\\", \\\"coordinates\\\": [[[-90.678749, 45.638264], [-90.67866599999999, 45.953154999999995], [-90.676968, 45.981553999999996], [-90.30206299999999, 45.981348999999994], [-90.04395799999999, 45.981947999999996], [-90.042857, 45.897262999999995], [-90.043414, 45.555082], [-90.042273, 45.381865999999995], [-90.67877299999999, 45.377907], [-90.67797999999999, 45.493629999999996], [-90.67980999999999, 45.53769], [-90.678749, 45.638264]]]}}, {\\\"id\\\": \\\"9\\\", \\\"type\\\": \\\"Feature\\\", \\\"properties\\\": {\\\"AFFGEOID\\\": \\\"0500000US55075\\\", \\\"ALAND\\\": 3624348568, \\\"AWATER\\\": 390127612, \\\"COUNTYFP\\\": \\\"075\\\", \\\"COUNTYNS\\\": \\\"01581097\\\", \\\"GEOID\\\": \\\"55075\\\", \\\"LSAD\\\": \\\"06\\\", \\\"NAME\\\": \\\"Marinette\\\", \\\"STATEFP\\\": \\\"55\\\", \\\"clinton\\\": 6409, \\\"clinton_share\\\": 0.3150469448950499, \\\"county\\\": \\\"Marinette\\\", \\\"rel_trump_share\\\": 0.6718549997439968, \\\"total\\\": 20343, \\\"trump\\\": 13122, \\\"trump_share\\\": 0.6450376050729981}, \\\"geometry\\\": {\\\"type\\\": \\\"Polygon\\\", \\\"coordinates\\\": [[[-88.425302, 45.722426], [-88.059246, 45.713063], [-88.0582559967311, 45.7807194372151], [-88.050634, 45.780972], [-88.048514, 45.782548999999996], [-88.044697, 45.783718], [-88.040892, 45.786452], [-88.040221, 45.789235999999995], [-88.039729, 45.789626], [-88.033568, 45.789815999999995], [-88.03112399999999, 45.789232999999996], [-88.027228, 45.78919], [-88.0236, 45.790093999999996], [-88.01758799999999, 45.792455], [-88.007043, 45.792192], [-88.001593, 45.794090999999995], [-87.995876, 45.795435], [-87.991447, 45.795393], [-87.989831, 45.794827], [-87.98794199999999, 45.793074999999995], [-87.98261699999999, 45.782944], [-87.98087, 45.776976999999995], [-87.98178899999999, 45.775081], [-87.983392, 45.774696], [-87.986429, 45.769596], [-87.976835, 45.767015], [-87.97245099999999, 45.766318999999996], [-87.96696999999999, 45.764021], [-87.963996, 45.760794], [-87.964725, 45.759460999999995], [-87.96345199999999, 45.75822], [-87.959277, 45.757366999999995], [-87.954459, 45.758413999999995], [-87.944113, 45.757422], [-87.934585, 45.758094], [-87.92913, 45.760363999999996], [-87.926611, 45.759589999999996], [-87.921999, 45.756989], [-87.90893299999999, 45.758297], [-87.907771, 45.75928], [-87.905873, 45.759364], [-87.904657, 45.759163], [-87.90270699999999, 45.757932], [-87.901299, 45.756553], [-87.900005, 45.753496999999996], [-87.89836299999999, 45.752503], [-87.89603199999999, 45.752285], [-87.891905, 45.754055], [-87.882261, 45.754779], [-87.879812, 45.754843], [-87.875813, 45.753887999999996], [-87.873339, 45.750439], [-87.868111, 45.749477], [-87.86414099999999, 45.745697], [-87.86305, 45.743089999999995], [-87.863874, 45.74266], [-87.86431999999999, 45.737139], [-87.85548, 45.726943], [-87.846816947262, 45.7221550835504], [-87.83734299999999, 45.716919], [-87.831442, 45.714938], [-87.812338, 45.711303], [-87.810144, 45.710229999999996], [-87.80586699999999, 45.706841], [-87.805081, 45.704974], [-87.805076, 45.703556], [-87.809181, 45.700337], [-87.80907499999999, 45.699717], [-87.804993, 45.695796], [-87.80188, 45.693861999999996], [-87.78772699999999, 45.68718], [-87.782226, 45.683053], [-87.780808, 45.680349], [-87.780737, 45.675458], [-87.781007, 45.673933999999996], [-87.781623, 45.67328], [-87.795355, 45.671333999999995], [-87.798903, 45.670139999999996], [-87.80328999999999, 45.666494], [-87.82316399999999, 45.662732], [-87.82386799999999, 45.661919999999995], [-87.823672, 45.659817], [-87.822425, 45.658012], [-87.822693, 45.656076999999996], [-87.824676, 45.653211], [-87.824102, 45.647138], [-87.821818, 45.645589], [-87.81727699999999, 45.643926], [-87.810194, 45.638732], [-87.804481, 45.628932999999996], [-87.796983, 45.623613], [-87.796179, 45.622074], [-87.79588, 45.618846], [-87.79201599999999, 45.616755999999995], [-87.780845, 45.614599], [-87.777671, 45.609204], [-87.77623799999999, 45.597797], [-87.777199, 45.588499], [-87.781255, 45.585682], [-87.785647, 45.58396], [-87.786767, 45.58283], [-87.787534, 45.581376], [-87.787292, 45.574906], [-87.788326, 45.567941], [-87.788798, 45.565947], [-87.790874, 45.564096], [-87.792372, 45.563055], [-87.797536, 45.562124], [-87.80610399999999, 45.562863], [-87.813745, 45.565174999999996], [-87.829346, 45.568776], [-87.831689, 45.568034999999995], [-87.833591, 45.562529], [-87.832968, 45.559461], [-87.832296, 45.558766999999996], [-87.827215, 45.55562], [-87.81879099999999, 45.5521], [-87.81373699999999, 45.548615999999996], [-87.807159, 45.543523], [-87.80339, 45.538272], [-87.803364, 45.537016], [-87.80452799999999, 45.534372999999995], [-87.80471999999999, 45.531244], [-87.804203, 45.524676], [-87.802267, 45.514233], [-87.798794, 45.506287], [-87.79321499999999, 45.505027999999996], [-87.79276899999999, 45.499967], [-87.793447, 45.498371999999996], [-87.796409, 45.494679], [-87.79782399999999, 45.491468], [-87.798362, 45.486564], [-87.79896, 45.485147], [-87.806891, 45.479092], [-87.807388, 45.477031], [-87.80587299999999, 45.47438], [-87.805773, 45.473138999999996], [-87.811469, 45.467991], [-87.81297099999999, 45.466100000000004], [-87.81297599999999, 45.464158999999995], [-87.821057, 45.459955], [-87.82742999999999, 45.458076], [-87.832456, 45.45502], [-87.83304199999999, 45.453596], [-87.83600799999999, 45.450877], [-87.844815, 45.448411], [-87.84742899999999, 45.444176999999996], [-87.85529799999999, 45.441379], [-87.86169699999999, 45.434473], [-87.86195, 45.433071999999996], [-87.86012699999999, 45.429584], [-87.860432, 45.423504], [-87.85621599999999, 45.416101], [-87.85181, 45.413103], [-87.850533, 45.411685], [-87.849668, 45.409518], [-87.849322, 45.403872], [-87.85096899999999, 45.401925], [-87.85913099999999, 45.398967], [-87.85977299999999, 45.397278], [-87.85960299999999, 45.396409], [-87.85683, 45.393105999999996], [-87.85941799999999, 45.388227], [-87.864677, 45.385231999999995], [-87.870905, 45.383116], [-87.87356799999999, 45.381357], [-87.875424, 45.379373], [-87.875692, 45.377052], [-87.87178899999999, 45.373557], [-87.87148499999999, 45.371545999999995], [-87.86856, 45.360537], [-87.867037, 45.360136999999995], [-87.865675, 45.358213], [-87.865274, 45.355968999999995], [-87.864873, 45.354766999999995], [-87.863489, 45.35302], [-87.860871, 45.351192], [-87.858617, 45.350378], [-87.852784, 45.349497], [-87.85041799999999, 45.347491999999995], [-87.849899, 45.344651], [-87.851475, 45.342335], [-87.85131799999999, 45.341346], [-87.850133, 45.340435], [-87.848368, 45.340675999999995], [-87.838141, 45.345101], [-87.836782, 45.346450999999995], [-87.835303, 45.35098], [-87.832612, 45.352249], [-87.829775, 45.352005], [-87.82691799999999, 45.350538], [-87.824855, 45.350713], [-87.823554, 45.351637], [-87.823028, 45.35265], [-87.810076, 45.351268999999995], [-87.80046399999999, 45.353608], [-87.790324, 45.353443999999996], [-87.787967, 45.352612], [-87.783076, 45.349725], [-87.773901, 45.351226], [-87.771384, 45.351209999999995], [-87.769172, 45.351195], [-87.76212799999999, 45.348400999999996], [-87.754104, 45.349441999999996], [-87.751452, 45.351755], [-87.751626, 45.354169], [-87.750928, 45.355036999999996], [-87.73835199999999, 45.358242999999995], [-87.73780099999999, 45.359635], [-87.733409, 45.364432], [-87.718891, 45.377462], [-87.70832899999999, 45.381218], [-87.706767, 45.383827], [-87.704337, 45.385462], [-87.69979699999999, 45.387927], [-87.693956, 45.389893], [-87.690281, 45.389821999999995], [-87.68593399999999, 45.388711], [-87.68286599999999, 45.384949999999996], [-87.675017, 45.382453999999996], [-87.67455, 45.381648999999996], [-87.674403, 45.378065], [-87.673513, 45.376946], [-87.657349, 45.368752], [-87.656624, 45.367295], [-87.655807, 45.362705999999996], [-87.656632, 45.358616999999995], [-87.65356799999999, 45.354203999999996], [-87.650661, 45.353798], [-87.648476, 45.352243], [-87.647729, 45.350721], [-87.647454, 45.345231999999996], [-87.64812599999999, 45.339396], [-87.65577499999999, 45.330847], [-87.65983, 45.329144], [-87.661603, 45.327608], [-87.66202899999999, 45.326434], [-87.6615, 45.321386], [-87.66366599999999, 45.318256999999996], [-87.66524299999999, 45.317115], [-87.667423, 45.316359999999996], [-87.675328, 45.307907], [-87.679085, 45.305841], [-87.68749799999999, 45.298055], [-87.687578, 45.296282999999995], [-87.690364, 45.29027], [-87.693468, 45.287675], [-87.69824799999999, 45.281512], [-87.69949199999999, 45.276658999999995], [-87.698456, 45.272072], [-87.69878, 45.26942], [-87.703053, 45.267041], [-87.709137, 45.260341], [-87.707779, 45.258342999999996], [-87.70914499999999, 45.254649], [-87.71148, 45.245224], [-87.711339, 45.239965], [-87.712184, 45.239014], [-87.713398, 45.238564], [-87.717051, 45.238743], [-87.71826399999999, 45.238333], [-87.724156, 45.233236], [-87.725205, 45.231539], [-87.72492, 45.229977], [-87.721935, 45.228443999999996], [-87.72135399999999, 45.226847], [-87.722473, 45.223309], [-87.726952, 45.218948999999995], [-87.72727599999999, 45.216128999999995], [-87.726175, 45.21264], [-87.726198, 45.209391], [-87.72796, 45.207955999999996], [-87.736339, 45.204653], [-87.739492, 45.202126], [-87.741732, 45.198201], [-87.741805, 45.197050999999995], [-87.73521, 45.177642], [-87.736509, 45.173389], [-87.736104, 45.172244], [-87.735135, 45.171538], [-87.73086599999999, 45.170913], [-87.727768, 45.169596], [-87.72460099999999, 45.167452], [-87.72312099999999, 45.165141], [-87.717945, 45.161156], [-87.711322, 45.158946], [-87.708134, 45.156003999999996], [-87.707391, 45.154678999999994], [-87.703492, 45.152206], [-87.70061799999999, 45.151188], [-87.695055, 45.150521999999995], [-87.692375, 45.149505], [-87.688425, 45.147433], [-87.68390199999999, 45.144135], [-87.675816, 45.135059], [-87.676024, 45.134088999999996], [-87.678511, 45.131204], [-87.678209, 45.130084], [-87.67244699999999, 45.121294], [-87.671, 45.120069], [-87.667102, 45.118109], [-87.661296, 45.112566], [-87.661211, 45.108278999999996], [-87.65995199999999, 45.107512], [-87.657135, 45.107568], [-87.652512, 45.108633], [-87.648191, 45.106367999999996], [-87.63611, 45.105917999999996], [-87.631535, 45.106224], [-87.629571, 45.105323999999996], [-87.628829, 45.104039], [-87.62764, 45.103328], [-87.62160899999999, 45.102399], [-87.614897, 45.100063999999996], [-87.59187999999999, 45.094688999999995], [-87.59020799999999, 45.095264], [-87.587147, 45.089495], [-87.587992, 45.085271], [-87.591583, 45.083791999999995], [-87.594718, 45.085134], [-87.601849, 45.082297], [-87.610395, 45.075617], [-87.625748, 45.045156999999996], [-87.624693, 45.014176], [-87.630298, 44.976865], [-87.661964, 44.973034999999996], [-87.69649199999999, 44.974233], [-87.7626200275805, 44.965796461784], [-87.760071, 44.99053], [-87.88333, 44.993041999999996], [-87.944436, 44.993057], [-87.942995, 45.020418], [-88.121152, 45.023581], [-88.11887899999999, 45.110197], [-88.189247, 45.111844], [-88.18635599999999, 45.197897], [-88.309063, 45.20158], [-88.30581099999999, 45.37461], [-88.428102, 45.37701], [-88.425302, 45.722426]]]}}, {\\\"id\\\": \\\"10\\\", \\\"type\\\": \\\"Feature\\\", \\\"properties\\\": {\\\"AFFGEOID\\\": \\\"0500000US55139\\\", \\\"ALAND\\\": 1125314825, \\\"AWATER\\\": 373176737, \\\"COUNTYFP\\\": \\\"139\\\", \\\"COUNTYNS\\\": \\\"01581129\\\", \\\"GEOID\\\": \\\"55139\\\", \\\"LSAD\\\": \\\"06\\\", \\\"NAME\\\": \\\"Winnebago\\\", \\\"STATEFP\\\": \\\"55\\\", \\\"clinton\\\": 37047, \\\"clinton_share\\\": 0.4251678430022379, \\\"county\\\": \\\"Winnebago\\\", \\\"rel_trump_share\\\": 0.5397430800576455, \\\"total\\\": 87135, \\\"trump\\\": 43445, \\\"trump_share\\\": 0.4985941355368107}, \\\"geometry\\\": {\\\"type\\\": \\\"Polygon\\\", \\\"coordinates\\\": [[[-88.886673, 44.242622], [-88.7662, 44.243365999999995], [-88.73977, 44.243303], [-88.524791, 44.244028], [-88.40406999999999, 44.244102], [-88.404187, 43.9382], [-88.403195, 43.892976999999995], [-88.885697, 43.895184], [-88.88619299999999, 43.983233], [-88.886673, 44.242622]]]}}, {\\\"id\\\": \\\"11\\\", \\\"type\\\": \\\"Feature\\\", \\\"properties\\\": {\\\"AFFGEOID\\\": \\\"0500000US55061\\\", \\\"ALAND\\\": 886870601, \\\"AWATER\\\": 1921417532, \\\"COUNTYFP\\\": \\\"061\\\", \\\"COUNTYNS\\\": \\\"01581090\\\", \\\"GEOID\\\": \\\"55061\\\", \\\"LSAD\\\": \\\"06\\\", \\\"NAME\\\": \\\"Kewaunee\\\", \\\"STATEFP\\\": \\\"55\\\", \\\"clinton\\\": 3627, \\\"clinton_share\\\": 0.336862635831708, \\\"county\\\": \\\"Kewaunee\\\", \\\"rel_trump_share\\\": 0.6459736456808199, \\\"total\\\": 10767, \\\"trump\\\": 6618, \\\"trump_share\\\": 0.6146558930064084}, \\\"geometry\\\": {\\\"type\\\": \\\"Polygon\\\", \\\"coordinates\\\": [[[-87.762376099947, 44.644501238507296], [-87.756031, 44.649128999999995], [-87.75089899999999, 44.656192], [-87.748409, 44.667122], [-87.7360584417798, 44.6770254546693], [-87.37325833223939, 44.675540674647195], [-87.39352099999999, 44.640654999999995], [-87.401629, 44.631191], [-87.40540999999999, 44.627190999999996], [-87.41802799999999, 44.62087], [-87.43749299999999, 44.605070999999995], [-87.446963, 44.586273999999996], [-87.468093, 44.551925], [-87.483696, 44.511354], [-87.483914, 44.504425], [-87.49002399999999, 44.477224], [-87.498662, 44.460685999999995], [-87.506362, 44.423804], [-87.511635, 44.414043], [-87.51796499999999, 44.394355999999995], [-87.517597, 44.375696], [-87.521047, 44.367526], [-87.533583, 44.351110999999996], [-87.54294984058659, 44.3275124998493], [-87.766026, 44.327183999999995], [-87.762376099947, 44.644501238507296]]]}}, {\\\"id\\\": \\\"12\\\", \\\"type\\\": \\\"Feature\\\", \\\"properties\\\": {\\\"AFFGEOID\\\": \\\"0500000US55033\\\", \\\"ALAND\\\": 2201887880, \\\"AWATER\\\": 35599148, \\\"COUNTYFP\\\": \\\"033\\\", \\\"COUNTYNS\\\": \\\"01581076\\\", \\\"GEOID\\\": \\\"55033\\\", \\\"LSAD\\\": \\\"06\\\", \\\"NAME\\\": \\\"Dunn\\\", \\\"STATEFP\\\": \\\"55\\\", \\\"clinton\\\": 9034, \\\"clinton_share\\\": 0.4086673301366145, \\\"county\\\": \\\"Dunn\\\", \\\"rel_trump_share\\\": 0.5597465886939571, \\\"total\\\": 22106, \\\"trump\\\": 11486, \\\"trump_share\\\": 0.5195874423233511}, \\\"geometry\\\": {\\\"type\\\": \\\"Polygon\\\", \\\"coordinates\\\": [[[-92.156465, 45.209554], [-91.66564699999999, 45.207991], [-91.66640199999999, 45.120823], [-91.65158, 45.120802999999995], [-91.65139599999999, 45.030165], [-91.650455, 44.855951], [-91.65036099999999, 44.683633], [-92.13520199999999, 44.684363], [-92.136348, 44.857848], [-92.136113, 45.121432], [-92.157072, 45.121607999999995], [-92.156465, 45.209554]]]}}, {\\\"id\\\": \\\"13\\\", \\\"type\\\": \\\"Feature\\\", \\\"properties\\\": {\\\"AFFGEOID\\\": \\\"0500000US55047\\\", \\\"ALAND\\\": 904760437, \\\"AWATER\\\": 79757007, \\\"COUNTYFP\\\": \\\"047\\\", \\\"COUNTYNS\\\": \\\"01581083\\\", \\\"GEOID\\\": \\\"55047\\\", \\\"LSAD\\\": \\\"06\\\", \\\"NAME\\\": \\\"Green Lake\\\", \\\"STATEFP\\\": \\\"55\\\", \\\"clinton\\\": 2693, \\\"clinton_share\\\": 0.2860025488530161, \\\"county\\\": \\\"Green Lake\\\", \\\"rel_trump_share\\\": 0.6977214053204625, \\\"total\\\": 9416, \\\"trump\\\": 6216, \\\"trump_share\\\": 0.6601529311809685}, \\\"geometry\\\": {\\\"type\\\": \\\"Polygon\\\", \\\"coordinates\\\": [[[-89.245375, 43.759813], [-89.23902, 43.766493], [-89.167886, 43.765643], [-89.16801799999999, 43.810117999999996], [-89.184992, 43.804316], [-89.19829899999999, 43.812677], [-89.198324, 43.876512], [-89.168121, 43.87647], [-89.168612, 43.982834], [-88.88619299999999, 43.983233], [-88.885697, 43.895184], [-88.88605199999999, 43.633539999999996], [-89.00684799999999, 43.633044999999996], [-89.12716999999999, 43.631724], [-89.126921, 43.64367], [-89.245437, 43.643083], [-89.245375, 43.759813]]]}}, {\\\"id\\\": \\\"14\\\", \\\"type\\\": \\\"Feature\\\", \\\"properties\\\": {\\\"AFFGEOID\\\": \\\"0500000US55073\\\", \\\"ALAND\\\": 4001539250, \\\"AWATER\\\": 81145909, \\\"COUNTYFP\\\": \\\"073\\\", \\\"COUNTYNS\\\": \\\"01581096\\\", \\\"GEOID\\\": \\\"55073\\\", \\\"LSAD\\\": \\\"06\\\", \\\"NAME\\\": \\\"Marathon\\\", \\\"STATEFP\\\": \\\"55\\\", \\\"clinton\\\": 26481, \\\"clinton_share\\\": 0.38092292643631864, \\\"county\\\": \\\"Marathon\\\", \\\"rel_trump_share\\\": 0.5956790594701885, \\\"total\\\": 69518, \\\"trump\\\": 39014, \\\"trump_share\\\": 0.5612071693662073}, \\\"geometry\\\": {\\\"type\\\": \\\"Polygon\\\", \\\"coordinates\\\": [[[-90.315038, 45.033829], [-90.197514, 45.03364], [-90.19776499999999, 45.120604], [-90.043685, 45.120214], [-89.42597099999999, 45.119098], [-89.22421399999999, 45.118567], [-89.22381399999999, 45.029246], [-89.223745, 44.681365], [-89.345917, 44.68138], [-89.844931, 44.684945], [-89.963861, 44.684827999999996], [-90.31625299999999, 44.685154], [-90.315038, 45.033829]]]}}, {\\\"id\\\": \\\"15\\\", \\\"type\\\": \\\"Feature\\\", \\\"properties\\\": {\\\"AFFGEOID\\\": \\\"0500000US55081\\\", \\\"ALAND\\\": 2333340999, \\\"AWATER\\\": 18589292, \\\"COUNTYFP\\\": \\\"081\\\", \\\"COUNTYNS\\\": \\\"01581101\\\", \\\"GEOID\\\": \\\"55081\\\", \\\"LSAD\\\": \\\"06\\\", \\\"NAME\\\": \\\"Monroe\\\", \\\"STATEFP\\\": \\\"55\\\", \\\"clinton\\\": 7052, \\\"clinton_share\\\": 0.35798771511244226, \\\"county\\\": \\\"Monroe\\\", \\\"rel_trump_share\\\": 0.6169056931768796, \\\"total\\\": 19699, \\\"trump\\\": 11356, \\\"trump_share\\\": 0.5764759632468653}, \\\"geometry\\\": {\\\"type\\\": \\\"Polygon\\\", \\\"coordinates\\\": [[[-90.977279, 44.129608], [-90.94704899999999, 44.147237], [-90.92168099999999, 44.147417999999995], [-90.904404, 44.158434], [-90.553421, 44.160215], [-90.435732, 44.161128999999995], [-90.312522, 44.155198], [-90.312697, 43.98171], [-90.312694, 43.981384], [-90.31219399999999, 43.731466999999995], [-90.43283199999999, 43.725893], [-90.584881, 43.725808], [-90.58721299999999, 43.729526], [-90.607057, 43.725985], [-90.910653, 43.725334], [-90.91291799999999, 44.071521999999995], [-90.973107, 44.070882], [-90.97366099999999, 44.116585], [-90.977279, 44.129608]]]}}, {\\\"id\\\": \\\"16\\\", \\\"type\\\": \\\"Feature\\\", \\\"properties\\\": {\\\"AFFGEOID\\\": \\\"0500000US55069\\\", \\\"ALAND\\\": 2276113184, \\\"AWATER\\\": 72464441, \\\"COUNTYFP\\\": \\\"069\\\", \\\"COUNTYNS\\\": \\\"01581094\\\", \\\"GEOID\\\": \\\"55069\\\", \\\"LSAD\\\": \\\"06\\\", \\\"NAME\\\": \\\"Lincoln\\\", \\\"STATEFP\\\": \\\"55\\\", \\\"clinton\\\": 5371, \\\"clinton_share\\\": 0.3650761283306145, \\\"county\\\": \\\"Lincoln\\\", \\\"rel_trump_share\\\": 0.610005808887598, \\\"total\\\": 14712, \\\"trump\\\": 8401, \\\"trump_share\\\": 0.5710304513322458}, \\\"geometry\\\": {\\\"type\\\": \\\"Polygon\\\", \\\"coordinates\\\": [[[-90.046143, 45.340309], [-90.042273, 45.381865999999995], [-90.043414, 45.555082], [-89.428258, 45.555353], [-89.424824, 45.467166], [-89.42597099999999, 45.119098], [-90.043685, 45.120214], [-90.046143, 45.340309]]]}}, {\\\"id\\\": \\\"17\\\", \\\"type\\\": \\\"Feature\\\", \\\"properties\\\": {\\\"AFFGEOID\\\": \\\"0500000US55127\\\", \\\"ALAND\\\": 1438106019, \\\"AWATER\\\": 55247228, \\\"COUNTYFP\\\": \\\"127\\\", \\\"COUNTYNS\\\": \\\"01581123\\\", \\\"GEOID\\\": \\\"55127\\\", \\\"LSAD\\\": \\\"06\\\", \\\"NAME\\\": \\\"Walworth\\\", \\\"STATEFP\\\": \\\"55\\\", \\\"clinton\\\": 18710, \\\"clinton_share\\\": 0.3640715300344418, \\\"county\\\": \\\"Walworth\\\", \\\"rel_trump_share\\\": 0.6067096882685556, \\\"total\\\": 51391, \\\"trump\\\": 28863, \\\"trump_share\\\": 0.5616353057928432}, \\\"geometry\\\": {\\\"type\\\": \\\"Polygon\\\", \\\"coordinates\\\": [[[-88.777076, 42.842694], [-88.77171899999999, 42.842825], [-88.69812, 42.842634], [-88.541535, 42.842996], [-88.306384, 42.842095], [-88.305891, 42.610817], [-88.304692, 42.4947727016231], [-88.417396, 42.494617999999996], [-88.46139699999999, 42.494617999999996], [-88.506912, 42.494883], [-88.63865299999999, 42.495042999999995], [-88.7073777163598, 42.493587048379496], [-88.70738, 42.493587], [-88.76536, 42.492067999999996], [-88.7764931385154, 42.492023615741594], [-88.777137, 42.834488], [-88.777076, 42.842694]]]}}, {\\\"id\\\": \\\"18\\\", \\\"type\\\": \\\"Feature\\\", \\\"properties\\\": {\\\"AFFGEOID\\\": \\\"0500000US55119\\\", \\\"ALAND\\\": 2525318815, \\\"AWATER\\\": 24686414, \\\"COUNTYFP\\\": \\\"119\\\", \\\"COUNTYNS\\\": \\\"01581119\\\", \\\"GEOID\\\": \\\"55119\\\", \\\"LSAD\\\": \\\"06\\\", \\\"NAME\\\": \\\"Taylor\\\", \\\"STATEFP\\\": \\\"55\\\", \\\"clinton\\\": 2393, \\\"clinton_share\\\": 0.252666033153838, \\\"county\\\": \\\"Taylor\\\", \\\"rel_trump_share\\\": 0.733281319661168, \\\"total\\\": 9471, \\\"trump\\\": 6579, \\\"trump_share\\\": 0.6946468165980361}, \\\"geometry\\\": {\\\"type\\\": \\\"Polygon\\\", \\\"coordinates\\\": [[[-90.925343, 45.379349999999995], [-90.67877299999999, 45.377907], [-90.042273, 45.381865999999995], [-90.046143, 45.340309], [-90.043685, 45.120214], [-90.19776499999999, 45.120604], [-90.197514, 45.03364], [-90.315038, 45.033829], [-90.433612, 45.030977], [-90.923362, 45.031143], [-90.92281, 45.119307], [-90.92522199999999, 45.292061], [-90.925343, 45.379349999999995]]]}}, {\\\"id\\\": \\\"19\\\", \\\"type\\\": \\\"Feature\\\", \\\"properties\\\": {\\\"AFFGEOID\\\": \\\"0500000US55019\\\", \\\"ALAND\\\": 3133108803, \\\"AWATER\\\": 23238227, \\\"COUNTYFP\\\": \\\"019\\\", \\\"COUNTYNS\\\": \\\"01581069\\\", \\\"GEOID\\\": \\\"55019\\\", \\\"LSAD\\\": \\\"06\\\", \\\"NAME\\\": \\\"Clark\\\", \\\"STATEFP\\\": \\\"55\\\", \\\"clinton\\\": 4221, \\\"clinton_share\\\": 0.30871059752797486, \\\"county\\\": \\\"Clark\\\", \\\"rel_trump_share\\\": 0.6721044045676998, \\\"total\\\": 13673, \\\"trump\\\": 8652, \\\"trump_share\\\": 0.6327799312513713}, \\\"geometry\\\": {\\\"type\\\": \\\"Polygon\\\", \\\"coordinates\\\": [[[-90.923362, 45.031143], [-90.433612, 45.030977], [-90.315038, 45.033829], [-90.31625299999999, 44.685154], [-90.31605499999999, 44.424502], [-90.558746, 44.42221], [-90.801918, 44.422442], [-90.801525, 44.509681], [-90.922889, 44.50984], [-90.92235, 44.596292999999996], [-90.922247, 44.857309], [-90.922669, 44.944458999999995], [-90.923362, 45.031143]]]}}, {\\\"id\\\": \\\"20\\\", \\\"type\\\": \\\"Feature\\\", \\\"properties\\\": {\\\"AFFGEOID\\\": \\\"0500000US55077\\\", \\\"ALAND\\\": 1180277802, \\\"AWATER\\\": 22682653, \\\"COUNTYFP\\\": \\\"077\\\", \\\"COUNTYNS\\\": \\\"01581098\\\", \\\"GEOID\\\": \\\"55077\\\", \\\"LSAD\\\": \\\"06\\\", \\\"NAME\\\": \\\"Marquette\\\", \\\"STATEFP\\\": \\\"55\\\", \\\"clinton\\\": 2808, \\\"clinton_share\\\": 0.35584843492586493, \\\"county\\\": \\\"Marquette\\\", \\\"rel_trump_share\\\": 0.6264467207662632, \\\"total\\\": 7891, \\\"trump\\\": 4709, \\\"trump_share\\\": 0.5967557977442656}, \\\"geometry\\\": {\\\"type\\\": \\\"Polygon\\\", \\\"coordinates\\\": [[[-89.59795, 43.9821], [-89.168612, 43.982834], [-89.168121, 43.87647], [-89.198324, 43.876512], [-89.19829899999999, 43.812677], [-89.184992, 43.804316], [-89.16801799999999, 43.810117999999996], [-89.167886, 43.765643], [-89.23902, 43.766493], [-89.245375, 43.759813], [-89.245437, 43.643083], [-89.599547, 43.642635999999996], [-89.59795, 43.9821]]]}}, {\\\"id\\\": \\\"21\\\", \\\"type\\\": \\\"Feature\\\", \\\"properties\\\": {\\\"AFFGEOID\\\": \\\"0500000US55025\\\", \\\"ALAND\\\": 3098744068, \\\"AWATER\\\": 106337957, \\\"COUNTYFP\\\": \\\"025\\\", \\\"COUNTYNS\\\": \\\"01581072\\\", \\\"GEOID\\\": \\\"55025\\\", \\\"LSAD\\\": \\\"06\\\", \\\"NAME\\\": \\\"Dane\\\", \\\"STATEFP\\\": \\\"55\\\", \\\"clinton\\\": 217697, \\\"clinton_share\\\": 0.7037148380172876, \\\"county\\\": \\\"Dane\\\", \\\"rel_trump_share\\\": 0.2466501944825104, \\\"total\\\": 309354, \\\"trump\\\": 71275, \\\"trump_share\\\": 0.2303994776211072}, \\\"geometry\\\": {\\\"type\\\": \\\"Polygon\\\", \\\"coordinates\\\": [[[-89.838135, 43.206057], [-89.805078, 43.238942], [-89.77423999999999, 43.239276], [-89.73316899999999, 43.251326], [-89.714429, 43.278123], [-89.720463, 43.293084], [-89.363159, 43.294036], [-89.363085, 43.281304999999996], [-89.00913899999999, 43.28483], [-89.00891999999999, 43.197721], [-89.013582, 42.847629999999995], [-89.36912799999999, 42.845064], [-89.369069, 42.856471], [-89.838167, 42.857397], [-89.838135, 43.206057]]]}}, {\\\"id\\\": \\\"22\\\", \\\"type\\\": \\\"Feature\\\", \\\"properties\\\": {\\\"AFFGEOID\\\": \\\"0500000US55015\\\", \\\"ALAND\\\": 824227643, \\\"AWATER\\\": 204197501, \\\"COUNTYFP\\\": \\\"015\\\", \\\"COUNTYNS\\\": \\\"01581067\\\", \\\"GEOID\\\": \\\"55015\\\", \\\"LSAD\\\": \\\"06\\\", \\\"NAME\\\": \\\"Calumet\\\", \\\"STATEFP\\\": \\\"55\\\", \\\"clinton\\\": 9642, \\\"clinton_share\\\": 0.3625493513818387, \\\"county\\\": \\\"Calumet\\\", \\\"rel_trump_share\\\": 0.6144587948338598, \\\"total\\\": 26595, \\\"trump\\\": 15367, \\\"trump_share\\\": 0.5778153788306073}, \\\"geometry\\\": {\\\"type\\\": \\\"Polygon\\\", \\\"coordinates\\\": [[[-88.40406999999999, 44.244102], [-88.192611, 44.241946999999996], [-88.04324, 44.241018], [-88.041794, 43.891692], [-88.162274, 43.891511], [-88.161654, 43.937683], [-88.404187, 43.9382], [-88.40406999999999, 44.244102]]]}}, {\\\"id\\\": \\\"23\\\", \\\"type\\\": \\\"Feature\\\", \\\"properties\\\": {\\\"AFFGEOID\\\": \\\"0500000US55137\\\", \\\"ALAND\\\": 1621768597, \\\"AWATER\\\": 29076012, \\\"COUNTYFP\\\": \\\"137\\\", \\\"COUNTYNS\\\": \\\"01581128\\\", \\\"GEOID\\\": \\\"55137\\\", \\\"LSAD\\\": \\\"06\\\", \\\"NAME\\\": \\\"Waushara\\\", \\\"STATEFP\\\": \\\"55\\\", \\\"clinton\\\": 3791, \\\"clinton_share\\\": 0.31398045386781515, \\\"county\\\": \\\"Waushara\\\", \\\"rel_trump_share\\\": 0.6691394658753709, \\\"total\\\": 12074, \\\"trump\\\": 7667, \\\"trump_share\\\": 0.6350008282259401}, \\\"geometry\\\": {\\\"type\\\": \\\"Polygon\\\", \\\"coordinates\\\": [[[-89.59797999999999, 44.245725], [-89.224813, 44.243393], [-88.886673, 44.242622], [-88.88619299999999, 43.983233], [-89.168612, 43.982834], [-89.59795, 43.9821], [-89.59797999999999, 44.245725]]]}}, {\\\"id\\\": \\\"24\\\", \\\"type\\\": \\\"Feature\\\", \\\"properties\\\": {\\\"AFFGEOID\\\": \\\"0500000US55117\\\", \\\"ALAND\\\": 1324200978, \\\"AWATER\\\": 1968298008, \\\"COUNTYFP\\\": \\\"117\\\", \\\"COUNTYNS\\\": \\\"01581118\\\", \\\"GEOID\\\": \\\"55117\\\", \\\"LSAD\\\": \\\"06\\\", \\\"NAME\\\": \\\"Sheboygan\\\", \\\"STATEFP\\\": \\\"55\\\", \\\"clinton\\\": 23000, \\\"clinton_share\\\": 0.38483418666131247, \\\"county\\\": \\\"Sheboygan\\\", \\\"rel_trump_share\\\": 0.5856900961919516, \\\"total\\\": 59766, \\\"trump\\\": 32514, \\\"trump_share\\\": 0.5440216845698224}, \\\"geometry\\\": {\\\"type\\\": \\\"Polygon\\\", \\\"coordinates\\\": [[[-88.162274, 43.891511], [-88.041794, 43.891692], [-87.7313223858007, 43.8921842757007], [-87.736178, 43.880421], [-87.73601699999999, 43.873720999999996], [-87.728698, 43.852523999999995], [-87.7296, 43.831782], [-87.726407, 43.810445], [-87.700251, 43.76735], [-87.700085, 43.761395], [-87.702985, 43.749694999999996], [-87.705185, 43.745095], [-87.70828499999999, 43.742895], [-87.709885, 43.735794999999996], [-87.708185, 43.722895], [-87.702985, 43.706395], [-87.702685, 43.687596], [-87.706204, 43.679542], [-87.734312, 43.63919], [-87.781255, 43.578492999999995], [-87.79013499999999, 43.563054], [-87.7943205824754, 43.543034], [-88.040528, 43.542361], [-88.160873, 43.542943], [-88.162274, 43.891511]]]}}, {\\\"id\\\": \\\"25\\\", \\\"type\\\": \\\"Feature\\\", \\\"properties\\\": {\\\"AFFGEOID\\\": \\\"0500000US55131\\\", \\\"ALAND\\\": 1115369635, \\\"AWATER\\\": 13000033, \\\"COUNTYFP\\\": \\\"131\\\", \\\"COUNTYNS\\\": \\\"01581125\\\", \\\"GEOID\\\": \\\"55131\\\", \\\"LSAD\\\": \\\"06\\\", \\\"NAME\\\": \\\"Washington\\\", \\\"STATEFP\\\": \\\"55\\\", \\\"clinton\\\": 20852, \\\"clinton_share\\\": 0.27166251937934, \\\"county\\\": \\\"Washington\\\", \\\"rel_trump_share\\\": 0.7127507163323782, \\\"total\\\": 76757, \\\"trump\\\": 51740, \\\"trump_share\\\": 0.6740753286345219}, \\\"geometry\\\": {\\\"type\\\": \\\"Polygon\\\", \\\"coordinates\\\": [[[-88.41843899999999, 43.370174999999996], [-88.401544, 43.370028999999995], [-88.400426, 43.543532], [-88.160873, 43.542943], [-88.040528, 43.542361], [-88.03998299999999, 43.367883], [-88.062426, 43.367289], [-88.06335299999999, 43.192116999999996], [-88.417987, 43.194697], [-88.41843899999999, 43.370174999999996]]]}}, {\\\"id\\\": \\\"26\\\", \\\"type\\\": \\\"Feature\\\", \\\"properties\\\": {\\\"AFFGEOID\\\": \\\"0500000US55055\\\", \\\"ALAND\\\": 1441229971, \\\"AWATER\\\": 68096645, \\\"COUNTYFP\\\": \\\"055\\\", \\\"COUNTYNS\\\": \\\"01581087\\\", \\\"GEOID\\\": \\\"55055\\\", \\\"LSAD\\\": \\\"06\\\", \\\"NAME\\\": \\\"Jefferson\\\", \\\"STATEFP\\\": \\\"55\\\", \\\"clinton\\\": 16569, \\\"clinton_share\\\": 0.38435129555313274, \\\"county\\\": \\\"Jefferson\\\", \\\"rel_trump_share\\\": 0.5856299704896714, \\\"total\\\": 43109, \\\"trump\\\": 23417, \\\"trump_share\\\": 0.5432044352687374}, \\\"geometry\\\": {\\\"type\\\": \\\"Polygon\\\", \\\"coordinates\\\": [[[-89.00891999999999, 43.197721], [-88.535843, 43.196048], [-88.541578, 43.019208], [-88.541535, 42.842996], [-88.69812, 42.842634], [-88.77171899999999, 42.842825], [-88.777076, 42.842694], [-88.918672, 42.846121], [-88.95391, 42.846106], [-89.013582, 42.847629999999995], [-89.00891999999999, 43.197721]]]}}, {\\\"id\\\": \\\"27\\\", \\\"type\\\": \\\"Feature\\\", \\\"properties\\\": {\\\"AFFGEOID\\\": \\\"0500000US55107\\\", \\\"ALAND\\\": 2366092374, \\\"AWATER\\\": 44813685, \\\"COUNTYFP\\\": \\\"107\\\", \\\"COUNTYNS\\\": \\\"01581114\\\", \\\"GEOID\\\": \\\"55107\\\", \\\"LSAD\\\": \\\"06\\\", \\\"NAME\\\": \\\"Rusk\\\", \\\"STATEFP\\\": \\\"55\\\", \\\"clinton\\\": 2171, \\\"clinton_share\\\": 0.3062923250564334, \\\"county\\\": \\\"Rusk\\\", \\\"rel_trump_share\\\": 0.6776540460282109, \\\"total\\\": 7088, \\\"trump\\\": 4564, \\\"trump_share\\\": 0.6439051918735892}, \\\"geometry\\\": {\\\"type\\\": \\\"Polygon\\\", \\\"coordinates\\\": [[[-91.540294, 45.637605], [-90.678749, 45.638264], [-90.67980999999999, 45.53769], [-90.67797999999999, 45.493629999999996], [-90.67877299999999, 45.377907], [-90.925343, 45.379349999999995], [-90.92522199999999, 45.292061], [-91.541322, 45.292015], [-91.540294, 45.637605]]]}}, {\\\"id\\\": \\\"28\\\", \\\"type\\\": \\\"Feature\\\", \\\"properties\\\": {\\\"AFFGEOID\\\": \\\"0500000US55005\\\", \\\"ALAND\\\": 2234504161, \\\"AWATER\\\": 69971721, \\\"COUNTYFP\\\": \\\"005\\\", \\\"COUNTYNS\\\": \\\"01581062\\\", \\\"GEOID\\\": \\\"55005\\\", \\\"LSAD\\\": \\\"06\\\", \\\"NAME\\\": \\\"Barron\\\", \\\"STATEFP\\\": \\\"55\\\", \\\"clinton\\\": 7889, \\\"clinton_share\\\": 0.34797759251907723, \\\"county\\\": \\\"Barron\\\", \\\"rel_trump_share\\\": 0.6331209598660652, \\\"total\\\": 22671, \\\"trump\\\": 13614, \\\"trump_share\\\": 0.6005028450443297}, \\\"geometry\\\": {\\\"type\\\": \\\"Polygon\\\", \\\"coordinates\\\": [[[-92.154888, 45.639742], [-92.03141699999999, 45.639928], [-91.540294, 45.637605], [-91.541322, 45.292015], [-91.542234, 45.206537999999995], [-91.66564699999999, 45.207991], [-92.156465, 45.209554], [-92.154888, 45.639742]]]}}, {\\\"id\\\": \\\"29\\\", \\\"type\\\": \\\"Feature\\\", \\\"properties\\\": {\\\"AFFGEOID\\\": \\\"0500000US55125\\\", \\\"ALAND\\\": 2221441176, \\\"AWATER\\\": 414432699, \\\"COUNTYFP\\\": \\\"125\\\", \\\"COUNTYNS\\\": \\\"01581122\\\", \\\"GEOID\\\": \\\"55125\\\", \\\"LSAD\\\": \\\"06\\\", \\\"NAME\\\": \\\"Vilas\\\", \\\"STATEFP\\\": \\\"55\\\", \\\"clinton\\\": 4770, \\\"clinton_share\\\": 0.3504518404231871, \\\"county\\\": \\\"Vilas\\\", \\\"rel_trump_share\\\": 0.6312615955473099, \\\"total\\\": 13611, \\\"trump\\\": 8166, \\\"trump_share\\\": 0.5999559180074939}, \\\"geometry\\\": {\\\"type\\\": \\\"Polygon\\\", \\\"coordinates\\\": [[[-90.04395799999999, 45.981947999999996], [-89.928837, 45.981967], [-89.92915763295049, 46.2997498928327], [-89.918798, 46.297740999999995], [-89.90991, 46.296402], [-89.90819599999999, 46.296037], [-89.764506, 46.268082], [-89.66761699999999, 46.249797], [-89.63841599999999, 46.243804], [-89.533801, 46.224118999999995], [-89.495723, 46.216301], [-89.276883, 46.174116], [-89.276489, 46.174046999999995], [-89.21996399999999, 46.163319], [-89.218156, 46.162988], [-89.205657, 46.160408], [-89.203289, 46.160019999999996], [-89.20128299999999, 46.159425999999996], [-89.194508, 46.157942], [-89.166887, 46.152868], [-89.161757, 46.151816], [-89.125136, 46.144531], [-89.09163, 46.138504999999995], [-88.99088490869069, 46.09732984177639], [-88.99080699999999, 46.097297999999995], [-88.948698, 46.080205], [-88.94327899999999, 46.077943], [-88.9327522855634, 46.073679640474396], [-88.933222, 45.982276], [-89.047795, 45.982344999999995], [-89.047601, 45.895354999999995], [-89.121617, 45.895463], [-89.17784999999999, 45.899311999999995], [-89.17524499999999, 45.856578999999996], [-89.258009, 45.861926], [-89.30094299999999, 45.860689], [-89.300473, 45.901463], [-89.42527799999999, 45.898347], [-90.042857, 45.897262999999995], [-90.04395799999999, 45.981947999999996]]]}}, {\\\"id\\\": \\\"30\\\", \\\"type\\\": \\\"Feature\\\", \\\"properties\\\": {\\\"AFFGEOID\\\": \\\"0500000US55078\\\", \\\"ALAND\\\": 926201112, \\\"AWATER\\\": 19038372, \\\"COUNTYFP\\\": \\\"078\\\", \\\"COUNTYNS\\\": \\\"01581099\\\", \\\"GEOID\\\": \\\"55078\\\", \\\"LSAD\\\": \\\"06\\\", \\\"NAME\\\": \\\"Menominee\\\", \\\"STATEFP\\\": \\\"55\\\", \\\"clinton\\\": 1002, \\\"clinton_share\\\": 0.7660550458715596, \\\"county\\\": \\\"Menominee\\\", \\\"rel_trump_share\\\": 0.21040189125295508, \\\"total\\\": 1308, \\\"trump\\\": 267, \\\"trump_share\\\": 0.20412844036697247}, \\\"geometry\\\": {\\\"type\\\": \\\"Polygon\\\", \\\"coordinates\\\": [[[-88.98218399999999, 45.118027], [-88.641159, 45.117346], [-88.48373199999999, 45.116887], [-88.489149, 44.855444999999996], [-88.736194, 44.856376], [-88.735548, 44.943177999999996], [-88.981432, 44.942841], [-88.98168, 45.028917], [-88.98218399999999, 45.118027]]]}}, {\\\"id\\\": \\\"31\\\", \\\"type\\\": \\\"Feature\\\", \\\"properties\\\": {\\\"AFFGEOID\\\": \\\"0500000US55123\\\", \\\"ALAND\\\": 2050129169, \\\"AWATER\\\": 64295772, \\\"COUNTYFP\\\": \\\"123\\\", \\\"COUNTYNS\\\": \\\"01581121\\\", \\\"GEOID\\\": \\\"55123\\\", \\\"LSAD\\\": \\\"06\\\", \\\"NAME\\\": \\\"Vernon\\\", \\\"STATEFP\\\": \\\"55\\\", \\\"clinton\\\": 6371, \\\"clinton_share\\\": 0.4463047285464098, \\\"county\\\": \\\"Vernon\\\", \\\"rel_trump_share\\\": 0.5236635514018692, \\\"total\\\": 14275, \\\"trump\\\": 7004, \\\"trump_share\\\": 0.4906479859894921}, \\\"geometry\\\": {\\\"type\\\": \\\"Polygon\\\", \\\"coordinates\\\": [[[-91.272741, 43.676609], [-91.267792, 43.695651999999995], [-91.26845499999999, 43.709824], [-91.266538, 43.713947], [-91.261316, 43.71949], [-91.25875599999999, 43.723425999999996], [-91.25777341547641, 43.725660823086095], [-90.910653, 43.725334], [-90.607057, 43.725985], [-90.58721299999999, 43.729526], [-90.584881, 43.725808], [-90.43283199999999, 43.725893], [-90.31219399999999, 43.731466999999995], [-90.312404, 43.640988], [-90.31106899999999, 43.553990999999996], [-90.671652, 43.552856], [-90.668561, 43.422993999999996], [-90.746685, 43.424552], [-91.2055506500066, 43.422948502358096], [-91.207145, 43.425031], [-91.22874999999999, 43.445536999999995], [-91.232276, 43.450952], [-91.233367, 43.455168], [-91.233187, 43.457784], [-91.232241, 43.460018], [-91.229503, 43.462607], [-91.224586, 43.465525], [-91.220399, 43.471306], [-91.21603499999999, 43.481142], [-91.215282, 43.484798], [-91.217615, 43.491008], [-91.21826999999999, 43.497228], [-91.21770599999999, 43.50055], [-91.21787599999999, 43.508103999999996], [-91.217353, 43.512474], [-91.21829199999999, 43.514434], [-91.222613, 43.517891999999996], [-91.23002699999999, 43.521595], [-91.232941, 43.523967], [-91.23672499999999, 43.53293], [-91.243183, 43.540309], [-91.24409299999999, 43.54562], [-91.24382, 43.54913], [-91.243214, 43.550722], [-91.24064899999999, 43.554995], [-91.234432, 43.561780999999996], [-91.232812, 43.564842], [-91.23149, 43.575595], [-91.231865, 43.581821999999995], [-91.23270699999999, 43.583532999999996], [-91.234499, 43.585529], [-91.239109, 43.58976], [-91.252926, 43.600363], [-91.25826699999999, 43.603483999999995], [-91.261631, 43.606175], [-91.265091, 43.609977], [-91.268748, 43.615348], [-91.268457, 43.627351999999995], [-91.263178, 43.638203], [-91.26239699999999, 43.64176], [-91.26385599999999, 43.647662], [-91.265051, 43.649141], [-91.27076699999999, 43.653079999999996], [-91.271749, 43.654928999999996], [-91.273252, 43.666623], [-91.272741, 43.676609]]]}}, {\\\"id\\\": \\\"32\\\", \\\"type\\\": \\\"Feature\\\", \\\"properties\\\": {\\\"AFFGEOID\\\": \\\"0500000US55059\\\", \\\"ALAND\\\": 704518453, \\\"AWATER\\\": 1248400556, \\\"COUNTYFP\\\": \\\"059\\\", \\\"COUNTYNS\\\": \\\"01581089\\\", \\\"GEOID\\\": \\\"55059\\\", \\\"LSAD\\\": \\\"06\\\", \\\"NAME\\\": \\\"Kenosha\\\", \\\"STATEFP\\\": \\\"55\\\", \\\"clinton\\\": 35799, \\\"clinton_share\\\": 0.469162822394632, \\\"county\\\": \\\"Kenosha\\\", \\\"rel_trump_share\\\": 0.5016565510329083, \\\"total\\\": 76304, \\\"trump\\\": 36037, \\\"trump_share\\\": 0.47228192493185156}, \\\"geometry\\\": {\\\"type\\\": \\\"Polygon\\\", \\\"coordinates\\\": [[[-88.305891, 42.610817], [-88.18817299999999, 42.611456], [-88.188306, 42.669709], [-87.80576775106981, 42.6681275267379], [-87.814674, 42.64402], [-87.81967399999999, 42.61582], [-87.819374, 42.60662], [-87.815074, 42.59412], [-87.810873, 42.58732], [-87.813273, 42.57922], [-87.81227299999999, 42.52982], [-87.80967199999999, 42.51482], [-87.800477, 42.49192], [-87.815872, 42.49192], [-87.843594, 42.492307], [-87.8976974564735, 42.4929879731052], [-87.90024199999999, 42.49302], [-87.971279, 42.494019], [-87.99018, 42.494519], [-88.049782, 42.495318999999995], [-88.115285, 42.496218999999996], [-88.1995371176412, 42.496017518266896], [-88.200172, 42.496016], [-88.21690000000001, 42.495923], [-88.25009, 42.495823], [-88.27169099999999, 42.494817999999995], [-88.304692, 42.4947727016231], [-88.305891, 42.610817]]]}}, {\\\"id\\\": \\\"33\\\", \\\"type\\\": \\\"Feature\\\", \\\"properties\\\": {\\\"AFFGEOID\\\": \\\"0500000US55067\\\", \\\"ALAND\\\": 2254971634, \\\"AWATER\\\": 44403905, \\\"COUNTYFP\\\": \\\"067\\\", \\\"COUNTYNS\\\": \\\"01581093\\\", \\\"GEOID\\\": \\\"55067\\\", \\\"LSAD\\\": \\\"06\\\", \\\"NAME\\\": \\\"Langlade\\\", \\\"STATEFP\\\": \\\"55\\\", \\\"clinton\\\": 3250, \\\"clinton_share\\\": 0.3190653838602003, \\\"county\\\": \\\"Langlade\\\", \\\"rel_trump_share\\\": 0.6659128289473685, \\\"total\\\": 10186, \\\"trump\\\": 6478, \\\"trump_share\\\": 0.6359709405065777}, \\\"geometry\\\": {\\\"type\\\": \\\"Polygon\\\", \\\"coordinates\\\": [[[-89.424824, 45.467166], [-89.364049, 45.469885999999995], [-89.125117, 45.467361], [-89.04648999999999, 45.464439], [-88.923062, 45.465137], [-88.926025, 45.378637], [-88.677996, 45.378682999999995], [-88.680066, 45.204994], [-88.63817399999999, 45.204814999999996], [-88.641159, 45.117346], [-88.98218399999999, 45.118027], [-88.98168, 45.028917], [-89.22381399999999, 45.029246], [-89.22421399999999, 45.118567], [-89.42597099999999, 45.119098], [-89.424824, 45.467166]]]}}, {\\\"id\\\": \\\"34\\\", \\\"type\\\": \\\"Feature\\\", \\\"properties\\\": {\\\"AFFGEOID\\\": \\\"0500000US55109\\\", \\\"ALAND\\\": 1871216494, \\\"AWATER\\\": 34193343, \\\"COUNTYFP\\\": \\\"109\\\", \\\"COUNTYNS\\\": \\\"01581833\\\", \\\"GEOID\\\": \\\"55109\\\", \\\"LSAD\\\": \\\"06\\\", \\\"NAME\\\": \\\"St. Croix\\\", \\\"STATEFP\\\": \\\"55\\\", \\\"clinton\\\": 17482, \\\"clinton_share\\\": 0.36798012966237265, \\\"county\\\": \\\"St. Croix\\\", \\\"rel_trump_share\\\": 0.5999908475196778, \\\"total\\\": 47508, \\\"trump\\\": 26222, \\\"trump_share\\\": 0.5519491454070893}, \\\"geometry\\\": {\\\"type\\\": \\\"Polygon\\\", \\\"coordinates\\\": [[[-92.802911, 45.065402999999996], [-92.802163, 45.067555], [-92.800851, 45.069477], [-92.791528, 45.079647], [-92.77400999999999, 45.089138], [-92.765602, 45.095729999999996], [-92.754387, 45.103145999999995], [-92.746749, 45.107051], [-92.74493799999999, 45.108309], [-92.74050899999999, 45.113395999999995], [-92.739584, 45.115598], [-92.73952799999999, 45.116515], [-92.740611, 45.118454], [-92.742925, 45.119918], [-92.7456477664165, 45.1230586702544], [-92.745694, 45.123112], [-92.749427, 45.138117], [-92.756807, 45.151866], [-92.757707, 45.155466], [-92.757775, 45.160519], [-92.756907, 45.165166], [-92.75254199999999, 45.171772], [-92.752404, 45.173916], [-92.764872, 45.182812], [-92.766808, 45.185466], [-92.76740799999999, 45.190166], [-92.766932, 45.195111], [-92.763908, 45.204865999999996], [-92.762108, 45.207166], [-92.75800799999999, 45.209565999999995], [-92.156465, 45.209554], [-92.157072, 45.121607999999995], [-92.136113, 45.121432], [-92.136348, 44.857848], [-92.236479, 44.8577], [-92.76909047947728, 44.8619968322789], [-92.7690926333535, 44.862028646825095], [-92.76910199999999, 44.862167], [-92.767102, 44.866766999999996], [-92.763706, 44.872129], [-92.763402, 44.874167], [-92.764133, 44.875904999999996], [-92.76960299999999, 44.882967], [-92.773946, 44.889997], [-92.774907, 44.892796999999995], [-92.774571, 44.898084], [-92.774022, 44.900082999999995], [-92.77310299999999, 44.901367], [-92.761341, 44.906904], [-92.75955599999999, 44.907857], [-92.758701, 44.908978999999995], [-92.75755699999999, 44.911214], [-92.75064499999999, 44.937298999999996], [-92.750802, 44.941567], [-92.75460299999999, 44.955766999999994], [-92.760701, 44.964979], [-92.767218, 44.968084], [-92.76854499999999, 44.969839], [-92.76944499999999, 44.97215], [-92.770304, 44.978967], [-92.77034599999999, 44.983326999999996], [-92.769049, 44.988195], [-92.770834, 44.994130999999996], [-92.771231, 45.001377999999995], [-92.768118, 45.009115], [-92.76253299999999, 45.020551], [-92.761904, 45.022467], [-92.76205999999999, 45.024319999999996], [-92.76460399999999, 45.028766999999995], [-92.77036199999999, 45.033803], [-92.778815, 45.039327], [-92.78791, 45.043516], [-92.79328199999999, 45.047177999999995], [-92.79708099999999, 45.050647999999995], [-92.802056, 45.057423], [-92.803079, 45.060978], [-92.802911, 45.065402999999996]]]}}, {\\\"id\\\": \\\"35\\\", \\\"type\\\": \\\"Feature\\\", \\\"properties\\\": {\\\"AFFGEOID\\\": \\\"0500000US55057\\\", \\\"ALAND\\\": 1986636006, \\\"AWATER\\\": 98723936, \\\"COUNTYFP\\\": \\\"057\\\", \\\"COUNTYNS\\\": \\\"01581088\\\", \\\"GEOID\\\": \\\"55057\\\", \\\"LSAD\\\": \\\"06\\\", \\\"NAME\\\": \\\"Juneau\\\", \\\"STATEFP\\\": \\\"55\\\", \\\"clinton\\\": 4073, \\\"clinton_share\\\": 0.34708138048572645, \\\"county\\\": \\\"Juneau\\\", \\\"rel_trump_share\\\": 0.6364366687494422, \\\"total\\\": 11735, \\\"trump\\\": 7130, \\\"trump_share\\\": 0.6075841499786963}, \\\"geometry\\\": {\\\"type\\\": \\\"Polygon\\\", \\\"coordinates\\\": [[[-90.312697, 43.98171], [-90.312522, 44.155198], [-90.31268, 44.24875], [-90.080691, 44.249010999999996], [-89.902783, 44.249472999999995], [-89.89758499999999, 44.229844], [-89.92483299999999, 44.213533], [-89.905013, 44.201603999999996], [-89.923811, 44.190573], [-89.903595, 44.191434], [-89.901502, 44.180575999999995], [-89.92043, 44.178581], [-89.92338699999999, 44.152415999999995], [-89.93298999999999, 44.15036], [-89.941713, 44.163433999999995], [-89.97048199999999, 44.167114], [-89.976919, 44.122538], [-89.991416, 44.126725], [-90.00705599999999, 44.121607], [-90.004801, 44.102677], [-90.025953, 44.091747999999995], [-90.018767, 44.047719], [-89.998977, 44.024045], [-90.005887, 44.008390999999996], [-89.974295, 43.99606], [-89.96260099999999, 43.979236], [-89.95526799999999, 43.955292], [-89.954449, 43.921986], [-89.98316, 43.915667], [-89.980676, 43.905623], [-89.962948, 43.883399], [-89.961221, 43.864027], [-89.922308, 43.838468], [-89.91619299999999, 43.82152], [-89.902839, 43.814085999999996], [-89.88977799999999, 43.796714], [-89.865132, 43.783414], [-89.843374, 43.75805], [-89.84125, 43.736677], [-89.819192, 43.692583], [-89.807672, 43.677194], [-89.78702, 43.667148999999995], [-89.78490099999999, 43.641051], [-89.785809, 43.641048999999995], [-90.312404, 43.640988], [-90.31219399999999, 43.731466999999995], [-90.312694, 43.981384], [-90.312697, 43.98171]]]}}, {\\\"id\\\": \\\"36\\\", \\\"type\\\": \\\"Feature\\\", \\\"properties\\\": {\\\"AFFGEOID\\\": \\\"0500000US55091\\\", \\\"ALAND\\\": 600853204, \\\"AWATER\\\": 43282752, \\\"COUNTYFP\\\": \\\"091\\\", \\\"COUNTYNS\\\": \\\"01581106\\\", \\\"GEOID\\\": \\\"55091\\\", \\\"LSAD\\\": \\\"06\\\", \\\"NAME\\\": \\\"Pepin\\\", \\\"STATEFP\\\": \\\"55\\\", \\\"clinton\\\": 1344, \\\"clinton_share\\\": 0.3598393574297189, \\\"county\\\": \\\"Pepin\\\", \\\"rel_trump_share\\\": 0.6214084507042253, \\\"total\\\": 3735, \\\"trump\\\": 2206, \\\"trump_share\\\": 0.5906291834002677}, \\\"geometry\\\": {\\\"type\\\": \\\"Polygon\\\", \\\"coordinates\\\": [[[-92.3162276738383, 44.5409661360087], [-92.1353, 44.53958], [-92.13520199999999, 44.684363], [-91.65036099999999, 44.683633], [-91.65024799999999, 44.596649], [-92.003146, 44.596834], [-92.02278799999999, 44.590519], [-92.039585, 44.564209999999996], [-92.038838, 44.546969], [-92.047753, 44.527015999999996], [-92.043914, 44.512375], [-92.056113, 44.488935], [-92.059317, 44.466288999999996], [-92.080553, 44.431818], [-92.08363983219859, 44.4071887773643], [-92.08724099999999, 44.408848], [-92.097415, 44.411463999999995], [-92.111085, 44.413948], [-92.115296, 44.416056], [-92.121106, 44.420572], [-92.124513, 44.422115], [-92.139569, 44.424673], [-92.162454, 44.427208], [-92.17027999999999, 44.428598], [-92.19537799999999, 44.433792], [-92.21516299999999, 44.438503], [-92.221083, 44.440386], [-92.232472, 44.445434], [-92.237325, 44.449417], [-92.24201, 44.454254], [-92.244884, 44.456841999999995], [-92.249071, 44.459523999999995], [-92.26247599999999, 44.465149], [-92.27678399999999, 44.473648999999995], [-92.282364, 44.477706999999995], [-92.291005, 44.485464], [-92.297122, 44.492732], [-92.30221499999999, 44.500298], [-92.302961, 44.503600999999996], [-92.302466, 44.516487], [-92.303046, 44.518646], [-92.303527, 44.519822], [-92.307957, 44.524474999999995], [-92.31082699999999, 44.528756], [-92.314071, 44.538014], [-92.3162276738383, 44.5409661360087]]]}}, {\\\"id\\\": \\\"37\\\", \\\"type\\\": \\\"Feature\\\", \\\"properties\\\": {\\\"AFFGEOID\\\": \\\"0500000US55039\\\", \\\"ALAND\\\": 1863637591, \\\"AWATER\\\": 119883181, \\\"COUNTYFP\\\": \\\"039\\\", \\\"COUNTYNS\\\": \\\"01581079\\\", \\\"GEOID\\\": \\\"55039\\\", \\\"LSAD\\\": \\\"06\\\", \\\"NAME\\\": \\\"Fond Du Lac\\\", \\\"STATEFP\\\": \\\"55\\\", \\\"clinton\\\": 17387, \\\"clinton_share\\\": 0.3356822920688856, \\\"county\\\": \\\"Fond Du Lac\\\", \\\"rel_trump_share\\\": 0.6408312503873247, \\\"total\\\": 51796, \\\"trump\\\": 31022, \\\"trump_share\\\": 0.5989265580353695}, \\\"geometry\\\": {\\\"type\\\": \\\"Polygon\\\", \\\"coordinates\\\": [[[-88.885697, 43.895184], [-88.403195, 43.892976999999995], [-88.404187, 43.9382], [-88.161654, 43.937683], [-88.162274, 43.891511], [-88.160873, 43.542943], [-88.400426, 43.543532], [-88.40104099999999, 43.630933], [-88.88605199999999, 43.633539999999996], [-88.885697, 43.895184]]]}}, {\\\"id\\\": \\\"38\\\", \\\"type\\\": \\\"Feature\\\", \\\"properties\\\": {\\\"AFFGEOID\\\": \\\"0500000US55009\\\", \\\"ALAND\\\": 1372031559, \\\"AWATER\\\": 222703849, \\\"COUNTYFP\\\": \\\"009\\\", \\\"COUNTYNS\\\": \\\"01581064\\\", \\\"GEOID\\\": \\\"55009\\\", \\\"LSAD\\\": \\\"06\\\", \\\"NAME\\\": \\\"Brown\\\", \\\"STATEFP\\\": \\\"55\\\", \\\"clinton\\\": 53382, \\\"clinton_share\\\": 0.4137786700358884, \\\"county\\\": \\\"Brown\\\", \\\"rel_trump_share\\\": 0.5573338198222104, \\\"total\\\": 129011, \\\"trump\\\": 67210, \\\"trump_share\\\": 0.5209633287084047}, \\\"geometry\\\": {\\\"type\\\": \\\"Polygon\\\", \\\"coordinates\\\": [[[-88.252562, 44.679812999999996], [-88.24268699999999, 44.679631], [-88.231178, 44.672360999999995], [-88.131349, 44.676929], [-87.989912015149, 44.6775869882811], [-87.99011, 44.668454999999994], [-88.002085, 44.664035], [-88.009766, 44.637080999999995], [-88.009463, 44.630398], [-87.998716, 44.609288], [-88.001943, 44.603908999999994], [-88.012395, 44.602438], [-88.016404, 44.592092], [-88.027103, 44.578992], [-88.036103, 44.576792], [-88.041202, 44.572581], [-88.042414, 44.566589], [-88.005518, 44.539215999999996], [-87.970702, 44.530291999999996], [-87.943801, 44.529692999999995], [-87.929001, 44.535993], [-87.917, 44.548093], [-87.90117699999999, 44.568925], [-87.898888, 44.574135], [-87.903689, 44.581317], [-87.901179, 44.584545], [-87.891717, 44.588982], [-87.866884, 44.608433999999995], [-87.83084799999999, 44.623582999999996], [-87.808819, 44.636337999999995], [-87.77516, 44.639281], [-87.765774, 44.642022999999995], [-87.762376099947, 44.644501238507296], [-87.766026, 44.327183999999995], [-87.887526, 44.327588999999996], [-87.888087, 44.240460999999996], [-88.04324, 44.241018], [-88.192611, 44.241946999999996], [-88.19046499999999, 44.586799], [-88.245204, 44.584745999999996], [-88.242845, 44.660587], [-88.252562, 44.679812999999996]]]}}, {\\\"id\\\": \\\"39\\\", \\\"type\\\": \\\"Feature\\\", \\\"properties\\\": {\\\"AFFGEOID\\\": \\\"0500000US55105\\\", \\\"ALAND\\\": 1859980095, \\\"AWATER\\\": 20695910, \\\"COUNTYFP\\\": \\\"105\\\", \\\"COUNTYNS\\\": \\\"01581113\\\", \\\"GEOID\\\": \\\"55105\\\", \\\"LSAD\\\": \\\"06\\\", \\\"NAME\\\": \\\"Rock\\\", \\\"STATEFP\\\": \\\"55\\\", \\\"clinton\\\": 39339, \\\"clinton_share\\\": 0.5171149144254279, \\\"county\\\": \\\"Rock\\\", \\\"rel_trump_share\\\": 0.44461542805511634, \\\"total\\\": 76074, \\\"trump\\\": 31493, \\\"trump_share\\\": 0.41397849462365593}, \\\"geometry\\\": {\\\"type\\\": \\\"Polygon\\\", \\\"coordinates\\\": [[[-89.36912799999999, 42.845064], [-89.013582, 42.847629999999995], [-88.95391, 42.846106], [-88.918672, 42.846121], [-88.777076, 42.842694], [-88.777137, 42.834488], [-88.7764931385154, 42.492023615741594], [-88.786681, 42.491983], [-88.9403879812716, 42.4950459398454], [-88.94039099999999, 42.495045999999995], [-88.943264, 42.495114], [-88.9925591348397, 42.4960231581706], [-88.99265899999999, 42.496024999999996], [-89.013667, 42.496086999999996], [-89.013804, 42.496097], [-89.042898, 42.496255], [-89.071141, 42.496207999999996], [-89.099012, 42.496499], [-89.11694899999999, 42.49691], [-89.12036499999999, 42.496992], [-89.12511099999999, 42.496956999999995], [-89.16490499999999, 42.497347], [-89.16672799999999, 42.497256], [-89.22627, 42.497957], [-89.228279, 42.498047], [-89.246972, 42.498129999999996], [-89.250759, 42.497994], [-89.29089599999999, 42.498853], [-89.361561, 42.500012], [-89.3657987753767, 42.5002603886239], [-89.36912799999999, 42.845064]]]}}, {\\\"id\\\": \\\"40\\\", \\\"type\\\": \\\"Feature\\\", \\\"properties\\\": {\\\"AFFGEOID\\\": \\\"0500000US55065\\\", \\\"ALAND\\\": 1640985291, \\\"AWATER\\\": 2539100, \\\"COUNTYFP\\\": \\\"065\\\", \\\"COUNTYNS\\\": \\\"01581092\\\", \\\"GEOID\\\": \\\"55065\\\", \\\"LSAD\\\": \\\"06\\\", \\\"NAME\\\": \\\"Lafayette\\\", \\\"STATEFP\\\": \\\"55\\\", \\\"clinton\\\": 3288, \\\"clinton_share\\\": 0.4291307752545027, \\\"county\\\": \\\"Lafayette\\\", \\\"rel_trump_share\\\": 0.5474191328286304, \\\"total\\\": 7662, \\\"trump\\\": 3977, \\\"trump_share\\\": 0.5190550770033934}, \\\"geometry\\\": {\\\"type\\\": \\\"Polygon\\\", \\\"coordinates\\\": [[[-90.426902, 42.812861999999996], [-89.83841, 42.813798999999996], [-89.8375874625297, 42.5055426328327], [-89.926374, 42.505787999999995], [-89.926484, 42.505787], [-89.92700706749518, 42.5057840766179], [-89.955291, 42.505626], [-89.985072, 42.506464], [-89.98564499999999, 42.506431], [-89.997213, 42.506755], [-89.999314, 42.506913999999995], [-90.017028, 42.507127], [-90.018665, 42.507287999999996], [-90.07366999999999, 42.508275], [-90.093026, 42.50816], [-90.095004, 42.507884999999995], [-90.142922, 42.508151], [-90.164363, 42.508272], [-90.181572, 42.508068], [-90.20607299999999, 42.507746999999995], [-90.22319, 42.507765], [-90.25062199999999, 42.507521], [-90.253121, 42.50734], [-90.26714299999999, 42.507642], [-90.269335, 42.507726], [-90.272864, 42.507531], [-90.303823, 42.507469], [-90.362652, 42.507048], [-90.367874, 42.507114], [-90.370673, 42.507110999999995], [-90.40592699999999, 42.506890999999996], [-90.4263779353442, 42.507059428755895], [-90.426902, 42.812861999999996]]]}}, {\\\"id\\\": \\\"41\\\", \\\"type\\\": \\\"Feature\\\", \\\"properties\\\": {\\\"AFFGEOID\\\": \\\"0500000US55049\\\", \\\"ALAND\\\": 1975380661, \\\"AWATER\\\": 13869508, \\\"COUNTYFP\\\": \\\"049\\\", \\\"COUNTYNS\\\": \\\"01581084\\\", \\\"GEOID\\\": \\\"55049\\\", \\\"LSAD\\\": \\\"06\\\", \\\"NAME\\\": \\\"Iowa\\\", \\\"STATEFP\\\": \\\"55\\\", \\\"clinton\\\": 6669, \\\"clinton_share\\\": 0.5432993890020367, \\\"county\\\": \\\"Iowa\\\", \\\"rel_trump_share\\\": 0.41897543125980136, \\\"total\\\": 12275, \\\"trump\\\": 4809, \\\"trump_share\\\": 0.39177189409368635}, \\\"geometry\\\": {\\\"type\\\": \\\"Polygon\\\", \\\"coordinates\\\": [[[-90.429825, 43.200939999999996], [-90.40977199999999, 43.200145], [-90.35051299999999, 43.209786], [-90.31091699999999, 43.206617], [-90.29780199999999, 43.208211], [-90.278369, 43.194089999999996], [-90.26068, 43.19777], [-90.218447, 43.173234], [-90.19381399999999, 43.164463999999995], [-90.18431199999999, 43.15756], [-90.15898299999999, 43.166793999999996], [-90.113726, 43.160343999999995], [-90.082387, 43.161142999999996], [-90.05865999999999, 43.145291], [-90.04861299999999, 43.166882], [-90.024924, 43.183322], [-90.000123, 43.194624], [-89.949844, 43.193444], [-89.903925, 43.18814], [-89.875142, 43.196611999999995], [-89.85888899999999, 43.195581], [-89.838135, 43.206057], [-89.838167, 42.857397], [-89.83841, 42.813798999999996], [-90.426902, 42.812861999999996], [-90.429825, 43.200939999999996]]]}}, {\\\"id\\\": \\\"42\\\", \\\"type\\\": \\\"Feature\\\", \\\"properties\\\": {\\\"AFFGEOID\\\": \\\"0500000US55087\\\", \\\"ALAND\\\": 1651266427, \\\"AWATER\\\": 18259071, \\\"COUNTYFP\\\": \\\"087\\\", \\\"COUNTYNS\\\": \\\"01581104\\\", \\\"GEOID\\\": \\\"55087\\\", \\\"LSAD\\\": \\\"06\\\", \\\"NAME\\\": \\\"Outagamie\\\", \\\"STATEFP\\\": \\\"55\\\", \\\"clinton\\\": 38068, \\\"clinton_share\\\": 0.40526758434203103, \\\"county\\\": \\\"Outagamie\\\", \\\"rel_trump_share\\\": 0.5671483961931618, \\\"total\\\": 93933, \\\"trump\\\": 49879, \\\"trump_share\\\": 0.5310061426761628}, \\\"geometry\\\": {\\\"type\\\": \\\"Polygon\\\", \\\"coordinates\\\": [[[-88.736802, 44.590605], [-88.606083, 44.590514999999996], [-88.245204, 44.584745999999996], [-88.19046499999999, 44.586799], [-88.192611, 44.241946999999996], [-88.40406999999999, 44.244102], [-88.524791, 44.244028], [-88.73977, 44.243303], [-88.736802, 44.590605]]]}}, {\\\"id\\\": \\\"43\\\", \\\"type\\\": \\\"Feature\\\", \\\"properties\\\": {\\\"AFFGEOID\\\": \\\"0500000US55093\\\", \\\"ALAND\\\": 1486002477, \\\"AWATER\\\": 46949436, \\\"COUNTYFP\\\": \\\"093\\\", \\\"COUNTYNS\\\": \\\"01581107\\\", \\\"GEOID\\\": \\\"55093\\\", \\\"LSAD\\\": \\\"06\\\", \\\"NAME\\\": \\\"Pierce\\\", \\\"STATEFP\\\": \\\"55\\\", \\\"clinton\\\": 8399, \\\"clinton_share\\\": 0.3929172904191617, \\\"county\\\": \\\"Pierce\\\", \\\"rel_trump_share\\\": 0.5730262823445681, \\\"total\\\": 21376, \\\"trump\\\": 11272, \\\"trump_share\\\": 0.5273203592814372}, \\\"geometry\\\": {\\\"type\\\": \\\"Polygon\\\", \\\"coordinates\\\": [[[-92.807362, 44.758908999999996], [-92.80528699999999, 44.768361], [-92.800313, 44.777378999999996], [-92.796039, 44.782056], [-92.788776, 44.787794], [-92.785206, 44.792303], [-92.782963, 44.798131], [-92.781498, 44.809408], [-92.78043, 44.812588999999996], [-92.772663, 44.821424], [-92.771902, 44.823066999999995], [-92.772663, 44.826336999999995], [-92.772266, 44.828046], [-92.769367, 44.8318], [-92.76610199999999, 44.834966], [-92.765278, 44.837185999999996], [-92.765278, 44.841069999999995], [-92.768574, 44.854368], [-92.76909047947728, 44.8619968322789], [-92.236479, 44.8577], [-92.136348, 44.857848], [-92.13520199999999, 44.684363], [-92.1353, 44.53958], [-92.3162276738383, 44.5409661360087], [-92.317357, 44.542511999999995], [-92.319938, 44.54494], [-92.32901299999999, 44.550895], [-92.336114, 44.554004], [-92.347567, 44.557148999999995], [-92.36151799999999, 44.558935], [-92.368298, 44.559182], [-92.38904, 44.557697], [-92.399281, 44.558291999999994], [-92.415089, 44.560359], [-92.42070199999999, 44.562041], [-92.42577399999999, 44.564602], [-92.431101, 44.565785999999996], [-92.433256, 44.5655], [-92.44074499999999, 44.562833], [-92.45510499999999, 44.561886], [-92.470209, 44.565036], [-92.48100099999999, 44.568276], [-92.48474, 44.568067], [-92.490472, 44.566205], [-92.493808, 44.566063], [-92.508759, 44.570325], [-92.512564, 44.571801], [-92.51835799999999, 44.575182999999996], [-92.520878, 44.5752], [-92.527337, 44.573554], [-92.540551, 44.567257999999995], [-92.54434599999999, 44.566986], [-92.54805999999999, 44.567792], [-92.54995699999999, 44.568988], [-92.55151, 44.571607], [-92.551182, 44.573449], [-92.549685, 44.576], [-92.54928, 44.577704], [-92.54977699999999, 44.581129999999995], [-92.560796, 44.594955999999996], [-92.56722599999999, 44.601769999999995], [-92.569434, 44.603539], [-92.572943, 44.604648999999995], [-92.577148, 44.605053999999996], [-92.57885, 44.603939], [-92.58159099999999, 44.600863], [-92.584711, 44.599861], [-92.586216, 44.600088], [-92.588797, 44.601698], [-92.59046699999999, 44.605936], [-92.60151599999999, 44.612052], [-92.607141, 44.612432999999996], [-92.61456899999999, 44.61173], [-92.61802499999999, 44.61287], [-92.621456, 44.615016999999995], [-92.62316299999999, 44.618224], [-92.623348, 44.620712999999995], [-92.622571, 44.623518], [-92.61977399999999, 44.629214], [-92.619779, 44.634195], [-92.62173299999999, 44.638982999999996], [-92.632105, 44.649027], [-92.655807, 44.65804], [-92.66098799999999, 44.660883999999996], [-92.664699, 44.66338], [-92.686511, 44.682096], [-92.696491, 44.689436], [-92.700948, 44.693751], [-92.71319799999999, 44.701085], [-92.73204199999999, 44.7136706398321], [-92.737259, 44.717155], [-92.7502, 44.72212], [-92.75420000000001, 44.722767], [-92.75699, 44.723828999999995], [-92.766054, 44.729603999999995], [-92.78790599999999, 44.737432], [-92.802402, 44.745166999999995], [-92.80257940581069, 44.7457971094334], [-92.802875, 44.746846999999995], [-92.804035, 44.748433], [-92.807317, 44.750364], [-92.807988, 44.75147], [-92.807362, 44.758908999999996]]]}}, {\\\"id\\\": \\\"44\\\", \\\"type\\\": \\\"Feature\\\", \\\"properties\\\": {\\\"AFFGEOID\\\": \\\"0500000US55089\\\", \\\"ALAND\\\": 603618603, \\\"AWATER\\\": 2287310853, \\\"COUNTYFP\\\": \\\"089\\\", \\\"COUNTYNS\\\": \\\"01581105\\\", \\\"GEOID\\\": \\\"55089\\\", \\\"LSAD\\\": \\\"06\\\", \\\"NAME\\\": \\\"Ozaukee\\\", \\\"STATEFP\\\": \\\"55\\\", \\\"clinton\\\": 20170, \\\"clinton_share\\\": 0.36968475073313783, \\\"county\\\": \\\"Ozaukee\\\", \\\"rel_trump_share\\\": 0.6016510645021133, \\\"total\\\": 54560, \\\"trump\\\": 30464, \\\"trump_share\\\": 0.5583577712609971}, \\\"geometry\\\": {\\\"type\\\": \\\"Polygon\\\", \\\"coordinates\\\": [[[-88.062426, 43.367289], [-88.03998299999999, 43.367883], [-88.040528, 43.542361], [-87.7943205824754, 43.543034], [-87.797608, 43.52731], [-87.797336, 43.510622999999995], [-87.793239, 43.492782999999996], [-87.807799, 43.461135999999996], [-87.827319, 43.434849], [-87.85560799999999, 43.405440999999996], [-87.865048, 43.39357], [-87.87250399999999, 43.380178], [-87.877448, 43.369234999999996], [-87.882392, 43.352098999999995], [-87.889207, 43.307652], [-87.90184699999999, 43.284116999999995], [-87.91178699999999, 43.250406], [-87.91008699999999, 43.235907], [-87.89628599999999, 43.197108], [-87.8920897893963, 43.192043607892], [-87.924662, 43.192145], [-87.959456, 43.192405], [-88.06335299999999, 43.192116999999996], [-88.062426, 43.367289]]]}}, {\\\"id\\\": \\\"45\\\", \\\"type\\\": \\\"Feature\\\", \\\"properties\\\": {\\\"AFFGEOID\\\": \\\"0500000US55037\\\", \\\"ALAND\\\": 1264232437, \\\"AWATER\\\": 24111640, \\\"COUNTYFP\\\": \\\"037\\\", \\\"COUNTYNS\\\": \\\"01581078\\\", \\\"GEOID\\\": \\\"55037\\\", \\\"LSAD\\\": \\\"06\\\", \\\"NAME\\\": \\\"Florence\\\", \\\"STATEFP\\\": \\\"55\\\", \\\"clinton\\\": 665, \\\"clinton_share\\\": 0.2503765060240964, \\\"county\\\": \\\"Florence\\\", \\\"rel_trump_share\\\": 0.740538431525556, \\\"total\\\": 2656, \\\"trump\\\": 1898, \\\"trump_share\\\": 0.7146084337349398}, \\\"geometry\\\": {\\\"type\\\": \\\"Polygon\\\", \\\"coordinates\\\": [[[-88.6833034397318, 46.01416954199289], [-88.679132, 46.013538], [-88.674606, 46.010566999999995], [-88.671458, 46.005103999999996], [-88.670115, 45.999956999999995], [-88.67093899999999, 45.999956999999995], [-88.671267, 45.999026], [-88.667464, 45.995048], [-88.663923, 45.993241999999995], [-88.663609, 45.992397], [-88.66436, 45.991337], [-88.664802, 45.989835], [-88.663697, 45.989084], [-88.662902, 45.98873], [-88.661312, 45.988819], [-88.65776, 45.989287], [-88.6375, 45.98496], [-88.635598, 45.985119], [-88.63484199999999, 45.987565], [-88.63405499999999, 45.987998999999995], [-88.623947, 45.988633], [-88.616405, 45.987700000000004], [-88.614176, 45.988775], [-88.613063, 45.990626999999996], [-88.61156299999999, 45.99881], [-88.611466, 46.003332], [-88.607438, 46.010991], [-88.603965, 46.016180999999996], [-88.60144, 46.017599], [-88.59809299999999, 46.017623], [-88.59385999999999, 46.015132], [-88.593302, 46.014447], [-88.592874, 46.01159], [-88.589755, 46.005601999999996], [-88.589, 46.005077], [-88.58067, 46.006975], [-88.57299499999999, 46.011798999999996], [-88.571553, 46.013811], [-88.565485, 46.015708], [-88.554987, 46.014976999999995], [-88.55075599999999, 46.012896], [-88.541078, 46.013763], [-88.539011, 46.014790999999995], [-88.534876, 46.018104], [-88.53353, 46.019932], [-88.533825, 46.020914999999995], [-88.532414, 46.021212], [-88.526673, 46.020821999999995], [-88.52313099999999, 46.019518], [-88.514601, 46.019926], [-88.50951599999999, 46.019169], [-88.507188, 46.0183], [-88.506205, 46.017134], [-88.505946, 46.013385], [-88.50013299999999, 46.000457], [-88.49876499999999, 46.000392999999995], [-88.496898, 45.999012], [-88.49689699999999, 45.998281], [-88.498108, 45.996359999999996], [-88.497417, 45.995149], [-88.49249499999999, 45.992157], [-88.486755, 45.990949], [-88.478984, 45.991797], [-88.476002, 45.992826], [-88.474036, 45.994654999999995], [-88.475152, 45.996598], [-88.474695, 45.99877], [-88.470855, 46.001003999999995], [-88.465542, 46.000685], [-88.458658, 45.999390999999996], [-88.45436099999999, 45.997518], [-88.453868, 45.996168999999995], [-88.454261, 45.993426], [-88.45032499999999, 45.990181], [-88.448751, 45.98977], [-88.443078, 45.990685], [-88.43973299999999, 45.990455999999995], [-88.43579799999999, 45.988125], [-88.43406, 45.986205], [-88.426125, 45.984102], [-88.42343699999999, 45.98193], [-88.422322, 45.98017], [-88.42304399999999, 45.978547], [-88.420356, 45.976763999999996], [-88.41691399999999, 45.975322999999996], [-88.41484899999999, 45.975483], [-88.41107699999999, 45.979138999999996], [-88.409864, 45.979687999999996], [-88.40284799999999, 45.981193999999995], [-88.399046, 45.980278], [-88.395308, 45.980391], [-88.388847, 45.982675], [-88.384318, 45.988113], [-88.385234, 45.990238999999995], [-88.380183, 45.991654], [-88.334628, 45.968807999999996], [-88.330137, 45.965951], [-88.328333, 45.964054], [-88.320531, 45.959962999999995], [-88.31689399999999, 45.960969], [-88.30951999999999, 45.959368999999995], [-88.30096499999999, 45.956168], [-88.29696799999999, 45.953767], [-88.295264, 45.951253], [-88.29238099999999, 45.951114999999994], [-88.283335, 45.955090999999996], [-88.26839, 45.957485999999996], [-88.259343, 45.959494], [-88.256455, 45.962739], [-88.25481599999999, 45.963538], [-88.25013299999999, 45.963147], [-88.25013299999999, 45.963572], [-88.249117, 45.963663], [-88.246307, 45.962983], [-88.245937, 45.958726], [-88.246579, 45.956596999999995], [-88.245752, 45.954147], [-88.244452, 45.952141999999995], [-88.24251799999999, 45.950362999999996], [-88.239672, 45.948982], [-88.23313999999999, 45.947404999999996], [-88.227988, 45.947688], [-88.223773, 45.948712], [-88.222167, 45.948513], [-88.215025, 45.946976], [-88.211158, 45.944531], [-88.20958499999999, 45.94428], [-88.201852, 45.945173], [-88.20211599999999, 45.949836], [-88.197627, 45.953081999999995], [-88.196316, 45.953311], [-88.191991, 45.95274], [-88.18978899999999, 45.952208], [-88.17800799999999, 45.947111], [-88.17553199999999, 45.944897], [-88.172628, 45.941015], [-88.170096, 45.93947], [-88.16395899999999, 45.93834], [-88.163105, 45.939043], [-88.158704, 45.939063999999995], [-88.146352, 45.935314], [-88.146419, 45.934194], [-88.145928, 45.933645999999996], [-88.141001, 45.930608], [-88.127428, 45.926153], [-88.126122, 45.924639], [-88.12742999999999, 45.923213999999994], [-88.127594, 45.922413999999996], [-88.12638199999999, 45.921499], [-88.121864, 45.92075], [-88.118507, 45.92114], [-88.1168457401249, 45.9217028628049], [-88.115346, 45.922211], [-88.104686, 45.922121], [-88.102908, 45.921869], [-88.096496, 45.917272999999994], [-88.09540899999999, 45.915175], [-88.095354, 45.913895], [-88.099172, 45.912361999999995], [-88.101973, 45.91055], [-88.104576, 45.906847], [-88.105677, 45.904387], [-88.10613599999999, 45.900811], [-88.105981, 45.897090999999996], [-88.105447, 45.896592999999996], [-88.10181399999999, 45.883503999999995], [-88.100218, 45.881205], [-88.095841, 45.880041999999996], [-88.08396499999999, 45.881186], [-88.08178099999999, 45.880516], [-88.073944, 45.875592999999995], [-88.073134, 45.871952], [-88.07514599999999, 45.864832], [-88.077534, 45.863825], [-88.08164099999999, 45.865086999999995], [-88.08259, 45.864944], [-88.08498499999999, 45.862443], [-88.087419, 45.857459], [-88.088825, 45.85586], [-88.098326, 45.850142], [-88.106622, 45.841072], [-88.109089, 45.839492], [-88.11172599999999, 45.839196], [-88.114267, 45.837891], [-88.120723, 45.832995], [-88.122947, 45.829564999999995], [-88.127808, 45.827172999999995], [-88.13364, 45.823128], [-88.13506699999999, 45.821694], [-88.13611, 45.819029], [-88.131834, 45.811312], [-88.12946099999999, 45.809287999999995], [-88.116024, 45.804078999999994], [-88.109506, 45.803584], [-88.107506, 45.802668], [-88.105355, 45.800104], [-88.10551799999999, 45.798839], [-88.10635099999999, 45.797573], [-88.103247, 45.791360999999995], [-88.099616, 45.790186], [-88.09404699999999, 45.785658], [-88.08859, 45.784697], [-88.079764, 45.784949999999995], [-88.078361, 45.784248999999996], [-88.076375, 45.781606], [-88.072091, 45.780260999999996], [-88.0582559967311, 45.7807194372151], [-88.059246, 45.713063], [-88.425302, 45.722426], [-88.675821, 45.7229], [-88.674604, 45.982298], [-88.6842, 45.982448999999995], [-88.6833034397318, 46.01416954199289]]]}}, {\\\"id\\\": \\\"46\\\", \\\"type\\\": \\\"Feature\\\", \\\"properties\\\": {\\\"AFFGEOID\\\": \\\"0500000US55095\\\", \\\"ALAND\\\": 2367419319, \\\"AWATER\\\": 109664678, \\\"COUNTYFP\\\": \\\"095\\\", \\\"COUNTYNS\\\": \\\"01581108\\\", \\\"GEOID\\\": \\\"55095\\\", \\\"LSAD\\\": \\\"06\\\", \\\"NAME\\\": \\\"Polk\\\", \\\"STATEFP\\\": \\\"55\\\", \\\"clinton\\\": 7565, \\\"clinton_share\\\": 0.3326005715541877, \\\"county\\\": \\\"Polk\\\", \\\"rel_trump_share\\\": 0.6460818713450293, \\\"total\\\": 22745, \\\"trump\\\": 13810, \\\"trump_share\\\": 0.6071664102000439}, \\\"geometry\\\": {\\\"type\\\": \\\"Polygon\\\", \\\"coordinates\\\": [[[-92.888114, 45.628377], [-92.886827, 45.633403], [-92.886963, 45.636776999999995], [-92.887929, 45.639005999999995], [-92.887067, 45.644148], [-92.529111, 45.642171], [-92.52819799999999, 45.72868], [-92.154443, 45.725615999999995], [-92.154888, 45.639742], [-92.156465, 45.209554], [-92.75800799999999, 45.209565999999995], [-92.754008, 45.212765999999995], [-92.751708, 45.218666], [-92.752192, 45.221050999999996], [-92.753931, 45.222905], [-92.755732, 45.225949], [-92.75745599999999, 45.230526], [-92.757503, 45.238307999999996], [-92.760249, 45.2496], [-92.758907, 45.253406999999996], [-92.75519899999999, 45.256733], [-92.75170899999999, 45.261666], [-92.75165899999999, 45.26591], [-92.75266599999999, 45.269565], [-92.758022, 45.274822], [-92.760615, 45.278827], [-92.76186799999999, 45.284938], [-92.76186799999999, 45.287012999999995], [-92.76101299999999, 45.289027999999995], [-92.75871, 45.290965], [-92.75081899999999, 45.29298], [-92.74557465605889, 45.295843579494395], [-92.737122, 45.300459], [-92.73259399999999, 45.304224], [-92.72773699999999, 45.309287999999995], [-92.70996799999999, 45.321301999999996], [-92.70479399999999, 45.326526], [-92.699956, 45.333715999999995], [-92.698967, 45.336374], [-92.69892, 45.339363999999996], [-92.699524, 45.342420999999995], [-92.704054, 45.35366], [-92.703705, 45.35633], [-92.70272, 45.358472], [-92.696499, 45.363529], [-92.679193, 45.37271], [-92.678223, 45.373604], [-92.67875599999999, 45.376200999999995], [-92.67696099999999, 45.380137], [-92.669505, 45.389111], [-92.664102, 45.393308999999995], [-92.658486, 45.396058], [-92.65042199999999, 45.398506999999995], [-92.65057, 45.403307999999996], [-92.648157, 45.407423], [-92.646676, 45.413227], [-92.646943, 45.414265], [-92.649467, 45.416408], [-92.650269, 45.419168], [-92.649152, 45.429618], [-92.646768, 45.437929], [-92.646602, 45.441635], [-92.652698, 45.454527], [-92.653549, 45.455346], [-92.661131, 45.458278], [-92.677219, 45.462863999999996], [-92.680234, 45.464344], [-92.686793, 45.472271], [-92.691619, 45.476273], [-92.695212, 45.482882], [-92.702224, 45.493046], [-92.71189, 45.503281], [-92.715814, 45.506676], [-92.72433699999999, 45.512223], [-92.726677, 45.514461999999995], [-92.727744, 45.518811], [-92.728023, 45.525652], [-92.72465, 45.536744], [-92.724762, 45.538616999999995], [-92.72608199999999, 45.541112], [-92.74559099999999, 45.553016], [-92.756906, 45.557499], [-92.764574, 45.563592], [-92.770223, 45.566939], [-92.773412, 45.568235], [-92.775988, 45.568478], [-92.785741, 45.567887999999996], [-92.790143, 45.566914999999995], [-92.801503, 45.562853999999994], [-92.812083, 45.561122], [-92.823309, 45.560933999999996], [-92.834156, 45.563095999999994], [-92.843783, 45.566134999999996], [-92.846447, 45.566514999999995], [-92.871082, 45.567581], [-92.881136, 45.573409], [-92.883749, 45.575483], [-92.884954, 45.578818], [-92.88327699999999, 45.589831], [-92.886421, 45.594881], [-92.886442, 45.598679], [-92.8849, 45.605001], [-92.88252899999999, 45.610216], [-92.88297, 45.613738], [-92.886669, 45.61976], [-92.888035, 45.624959], [-92.888114, 45.628377]]]}}, {\\\"id\\\": \\\"47\\\", \\\"type\\\": \\\"Feature\\\", \\\"properties\\\": {\\\"AFFGEOID\\\": \\\"0500000US55115\\\", \\\"ALAND\\\": 2313377511, \\\"AWATER\\\": 41957381, \\\"COUNTYFP\\\": \\\"115\\\", \\\"COUNTYNS\\\": \\\"01581117\\\", \\\"GEOID\\\": \\\"55115\\\", \\\"LSAD\\\": \\\"06\\\", \\\"NAME\\\": \\\"Shawano\\\", \\\"STATEFP\\\": \\\"55\\\", \\\"clinton\\\": 6068, \\\"clinton_share\\\": 0.30630994447248866, \\\"county\\\": \\\"Shawano\\\", \\\"rel_trump_share\\\": 0.6778680256941126, \\\"total\\\": 19810, \\\"trump\\\": 12769, \\\"trump_share\\\": 0.6445734477536598}, \\\"geometry\\\": {\\\"type\\\": \\\"Polygon\\\", \\\"coordinates\\\": [[[-89.22381399999999, 45.029246], [-88.98168, 45.028917], [-88.981432, 44.942841], [-88.735548, 44.943177999999996], [-88.736194, 44.856376], [-88.489149, 44.855444999999996], [-88.24821299999999, 44.852739], [-88.25236799999999, 44.767056], [-88.24268699999999, 44.679631], [-88.252562, 44.679812999999996], [-88.242845, 44.660587], [-88.245204, 44.584745999999996], [-88.606083, 44.590514999999996], [-88.605159, 44.678331], [-89.223745, 44.681365], [-89.22381399999999, 45.029246]]]}}, {\\\"id\\\": \\\"48\\\", \\\"type\\\": \\\"Feature\\\", \\\"properties\\\": {\\\"AFFGEOID\\\": \\\"0500000US55021\\\", \\\"ALAND\\\": 1982747321, \\\"AWATER\\\": 78835850, \\\"COUNTYFP\\\": \\\"021\\\", \\\"COUNTYNS\\\": \\\"01581070\\\", \\\"GEOID\\\": \\\"55021\\\", \\\"LSAD\\\": \\\"06\\\", \\\"NAME\\\": \\\"Columbia\\\", \\\"STATEFP\\\": \\\"55\\\", \\\"clinton\\\": 13528, \\\"clinton_share\\\": 0.4555188901609536, \\\"county\\\": \\\"Columbia\\\", \\\"rel_trump_share\\\": 0.511465819219241, \\\"total\\\": 29698, \\\"trump\\\": 14163, \\\"trump_share\\\": 0.47690080140076774}, \\\"geometry\\\": {\\\"type\\\": \\\"Polygon\\\", \\\"coordinates\\\": [[[-89.78490099999999, 43.641051], [-89.718733, 43.643153999999996], [-89.599547, 43.642635999999996], [-89.245437, 43.643083], [-89.126921, 43.64367], [-89.12716999999999, 43.631724], [-89.00684799999999, 43.633044999999996], [-89.00611699999999, 43.458759], [-89.008828, 43.371637], [-89.00913899999999, 43.28483], [-89.363085, 43.281304999999996], [-89.363159, 43.294036], [-89.720463, 43.293084], [-89.727171, 43.301305], [-89.71970999999999, 43.319745], [-89.70383199999999, 43.330296], [-89.677613, 43.361197], [-89.655755, 43.359821], [-89.61739399999999, 43.370399], [-89.60073, 43.380666], [-89.599357, 43.558040999999996], [-89.617719, 43.565352999999995], [-89.642209, 43.563179], [-89.673239, 43.56942], [-89.688103, 43.566417], [-89.730547, 43.570437], [-89.73468199999999, 43.577466], [-89.71733499999999, 43.596894999999996], [-89.763258, 43.603888999999995], [-89.78235199999999, 43.625645], [-89.785809, 43.641048999999995], [-89.78490099999999, 43.641051]]]}}, {\\\"id\\\": \\\"49\\\", \\\"type\\\": \\\"Feature\\\", \\\"properties\\\": {\\\"AFFGEOID\\\": \\\"0500000US55023\\\", \\\"ALAND\\\": 1478001878, \\\"AWATER\\\": 73945441, \\\"COUNTYFP\\\": \\\"023\\\", \\\"COUNTYNS\\\": \\\"01581071\\\", \\\"GEOID\\\": \\\"55023\\\", \\\"LSAD\\\": \\\"06\\\", \\\"NAME\\\": \\\"Crawford\\\", \\\"STATEFP\\\": \\\"55\\\", \\\"clinton\\\": 3419, \\\"clinton_share\\\": 0.44241718426501037, \\\"county\\\": \\\"Crawford\\\", \\\"rel_trump_share\\\": 0.5287388008270159, \\\"total\\\": 7728, \\\"trump\\\": 3836, \\\"trump_share\\\": 0.4963768115942029}, \\\"geometry\\\": {\\\"type\\\": \\\"Polygon\\\", \\\"coordinates\\\": [[[-91.21499, 43.368006], [-91.21336, 43.370097], [-91.20736699999999, 43.373658999999996], [-91.20607199999999, 43.374976], [-91.204831, 43.378887], [-91.200701, 43.385929999999995], [-91.19895299999999, 43.389835], [-91.19767, 43.395334], [-91.198048, 43.399223], [-91.19940799999999, 43.403031999999996], [-91.200527, 43.408485999999996], [-91.20035899999999, 43.412701], [-91.201224, 43.415903], [-91.203144, 43.419805], [-91.2055506500066, 43.422948502358096], [-90.746685, 43.424552], [-90.668561, 43.422993999999996], [-90.666012, 43.379422999999996], [-90.666786, 43.171777], [-90.689863, 43.172972], [-90.698213, 43.160722], [-90.71933399999999, 43.150027], [-90.74245499999999, 43.123596], [-90.7633, 43.115572], [-90.79829099999999, 43.109096], [-90.822794, 43.088145999999995], [-90.84574599999999, 43.077625], [-90.882949, 43.073246999999995], [-90.916218, 43.062722], [-90.94008699999999, 43.061882], [-90.95307799999999, 43.043754], [-90.98568499999999, 43.026095999999995], [-91.00442699999999, 43.022441], [-91.01207099999999, 43.013152], [-91.053033, 43.001494], [-91.06221099999999, 42.992551999999996], [-91.091017, 42.994558], [-91.10144199999999, 43.000124], [-91.136552, 42.998915], [-91.1568126516435, 42.9881698664533], [-91.15749, 42.991475], [-91.168283, 43.019425999999996], [-91.174692, 43.038713], [-91.17808699999999, 43.062044], [-91.177894, 43.064206], [-91.179457, 43.067426999999995], [-91.178761, 43.070578], [-91.177264, 43.072983], [-91.177222, 43.080247], [-91.175193, 43.103770999999995], [-91.177728, 43.118733], [-91.17825099999999, 43.124981999999996], [-91.177932, 43.128875], [-91.177003, 43.131845999999996], [-91.175253, 43.134665], [-91.170372, 43.137384], [-91.160449, 43.140575], [-91.1562, 43.142945], [-91.14620000000001, 43.152404999999995], [-91.143283, 43.156413], [-91.141356, 43.163537], [-91.138649, 43.169993], [-91.13591699999999, 43.173421999999995], [-91.13417299999999, 43.174405], [-91.124428, 43.187886], [-91.123896, 43.193535999999995], [-91.12217, 43.197255], [-91.119115, 43.200365999999995], [-91.113749, 43.202908], [-91.107931, 43.206578], [-91.08745599999999, 43.221891], [-91.079278, 43.228259], [-91.071857, 43.235164], [-91.06639799999999, 43.239292999999996], [-91.062562, 43.243165], [-91.05968399999999, 43.248566], [-91.05790999999999, 43.253968], [-91.057918, 43.255365999999995], [-91.058644, 43.257678999999996], [-91.05975, 43.259074], [-91.061798, 43.259952], [-91.069937, 43.260272], [-91.071698, 43.261013999999996], [-91.072649, 43.262128999999995], [-91.07278199999999, 43.264362999999996], [-91.071574, 43.268193], [-91.07172399999999, 43.271392], [-91.07370999999999, 43.274746], [-91.079875, 43.282773], [-91.085652, 43.291869999999996], [-91.107237, 43.313645], [-91.117661, 43.319331999999996], [-91.129121, 43.32635], [-91.132813, 43.32803], [-91.137343, 43.329757], [-91.154806, 43.334826], [-91.171055, 43.340967], [-91.18111499999999, 43.345926], [-91.188014, 43.347601999999995], [-91.201847, 43.349103], [-91.203964, 43.349852], [-91.20662, 43.352523999999995], [-91.21477, 43.365874], [-91.21499, 43.368006]]]}}, {\\\"id\\\": \\\"50\\\", \\\"type\\\": \\\"Feature\\\", \\\"properties\\\": {\\\"AFFGEOID\\\": \\\"0500000US55045\\\", \\\"ALAND\\\": 1512664666, \\\"AWATER\\\": 1315749, \\\"COUNTYFP\\\": \\\"045\\\", \\\"COUNTYNS\\\": \\\"01581082\\\", \\\"GEOID\\\": \\\"55045\\\", \\\"LSAD\\\": \\\"06\\\", \\\"NAME\\\": \\\"Green\\\", \\\"STATEFP\\\": \\\"55\\\", \\\"clinton\\\": 9122, \\\"clinton_share\\\": 0.48048459309981567, \\\"county\\\": \\\"Green\\\", \\\"rel_trump_share\\\": 0.4879595846197025, \\\"total\\\": 18985, \\\"trump\\\": 8693, \\\"trump_share\\\": 0.4578878061627601}, \\\"geometry\\\": {\\\"type\\\": \\\"Polygon\\\", \\\"coordinates\\\": [[[-89.838167, 42.857397], [-89.369069, 42.856471], [-89.36912799999999, 42.845064], [-89.3657987753767, 42.5002603886239], [-89.36603099999999, 42.500274], [-89.40141639302949, 42.5004329299029], [-89.401432, 42.500433], [-89.420991, 42.500589], [-89.422567, 42.500679999999996], [-89.423926, 42.500817999999995], [-89.425162, 42.500726], [-89.4843, 42.501425999999995], [-89.492612, 42.501514], [-89.49321599999999, 42.501514], [-89.522542, 42.501889], [-89.564407, 42.502628], [-89.594779, 42.503468], [-89.60000099999999, 42.503671999999995], [-89.603523, 42.503557], [-89.61341, 42.503941999999995], [-89.644176, 42.50452], [-89.650324, 42.504613], [-89.66759599999999, 42.50496], [-89.690088, 42.505190999999996], [-89.69348699999999, 42.505099], [-89.742395, 42.505382], [-89.769643, 42.505322], [-89.78030199999999, 42.505348999999995], [-89.79395699999999, 42.505466], [-89.79970399999999, 42.505421], [-89.801897, 42.505444], [-89.8375874625297, 42.5055426328327], [-89.83841, 42.813798999999996], [-89.838167, 42.857397]]]}}, {\\\"id\\\": \\\"51\\\", \\\"type\\\": \\\"Feature\\\", \\\"properties\\\": {\\\"AFFGEOID\\\": \\\"0500000US55079\\\", \\\"ALAND\\\": 625803949, \\\"AWATER\\\": 2455074471, \\\"COUNTYFP\\\": \\\"079\\\", \\\"COUNTYNS\\\": \\\"01581100\\\", \\\"GEOID\\\": \\\"55079\\\", \\\"LSAD\\\": \\\"06\\\", \\\"NAME\\\": \\\"Milwaukee\\\", \\\"STATEFP\\\": \\\"55\\\", \\\"clinton\\\": 288822, \\\"clinton_share\\\": 0.654846469698653, \\\"county\\\": \\\"Milwaukee\\\", \\\"rel_trump_share\\\": 0.30386053204335595, \\\"total\\\": 441053, \\\"trump\\\": 126069, \\\"trump_share\\\": 0.28583639607938277}, \\\"geometry\\\": {\\\"type\\\": \\\"Polygon\\\", \\\"coordinates\\\": [[[-88.06929, 42.952374], [-88.06924699999999, 42.959179], [-88.066025, 43.104220999999995], [-88.065589, 43.120591], [-88.065621, 43.125386999999996], [-88.06335299999999, 43.192116999999996], [-87.959456, 43.192405], [-87.924662, 43.192145], [-87.8920897893963, 43.192043607892], [-87.887586, 43.186608], [-87.881085, 43.170609], [-87.892285, 43.14871], [-87.900285, 43.13731], [-87.90138499999999, 43.13321], [-87.90048499999999, 43.12591], [-87.893185, 43.114011], [-87.87608399999999, 43.099011], [-87.866484, 43.074411999999995], [-87.870184, 43.064412], [-87.88208399999999, 43.051113], [-87.895084, 43.042313], [-87.898684, 43.028813], [-87.89578399999999, 43.015814], [-87.887683, 43.000513999999995], [-87.878683, 42.992415], [-87.857182, 42.978015], [-87.845181, 42.962015], [-87.842681, 42.944116], [-87.8474165889155, 42.893128780651004], [-87.84778, 42.889216], [-87.834879, 42.856716999999996], [-87.8270210768063, 42.8422224134625], [-88.069924, 42.843323], [-88.06929, 42.952374]]]}}, {\\\"id\\\": \\\"52\\\", \\\"type\\\": \\\"Feature\\\", \\\"properties\\\": {\\\"AFFGEOID\\\": \\\"0500000US55053\\\", \\\"ALAND\\\": 2558227999, \\\"AWATER\\\": 32986244, \\\"COUNTYFP\\\": \\\"053\\\", \\\"COUNTYNS\\\": \\\"01581086\\\", \\\"GEOID\\\": \\\"55053\\\", \\\"LSAD\\\": \\\"06\\\", \\\"NAME\\\": \\\"Jackson\\\", \\\"STATEFP\\\": \\\"55\\\", \\\"clinton\\\": 3818, \\\"clinton_share\\\": 0.41199956836085033, \\\"county\\\": \\\"Jackson\\\", \\\"rel_trump_share\\\": 0.5623567171022467, \\\"total\\\": 9267, \\\"trump\\\": 4906, \\\"trump_share\\\": 0.5294054170713284}, \\\"geometry\\\": {\\\"type\\\": \\\"Polygon\\\", \\\"coordinates\\\": [[[-91.16561899999999, 44.596987], [-91.043815, 44.59664], [-90.92235, 44.596292999999996], [-90.922889, 44.50984], [-90.801525, 44.509681], [-90.801918, 44.422442], [-90.558746, 44.42221], [-90.31605499999999, 44.424502], [-90.317939, 44.254276], [-90.31268, 44.24875], [-90.312522, 44.155198], [-90.435732, 44.161128999999995], [-90.553421, 44.160215], [-90.904404, 44.158434], [-90.92168099999999, 44.147417999999995], [-90.94704899999999, 44.147237], [-90.977279, 44.129608], [-90.97366099999999, 44.116585], [-90.973107, 44.070882], [-91.151845, 44.070994999999996], [-91.151932, 44.079665], [-91.15356299999999, 44.247583], [-91.16586199999999, 44.250797999999996], [-91.16561899999999, 44.596987]]]}}, {\\\"id\\\": \\\"53\\\", \\\"type\\\": \\\"Feature\\\", \\\"properties\\\": {\\\"AFFGEOID\\\": \\\"0500000US55085\\\", \\\"ALAND\\\": 2885083340, \\\"AWATER\\\": 317621715, \\\"COUNTYFP\\\": \\\"085\\\", \\\"COUNTYNS\\\": \\\"01581103\\\", \\\"GEOID\\\": \\\"55085\\\", \\\"LSAD\\\": \\\"06\\\", \\\"NAME\\\": \\\"Oneida\\\", \\\"STATEFP\\\": \\\"55\\\", \\\"clinton\\\": 8109, \\\"clinton_share\\\": 0.3766197575588686, \\\"county\\\": \\\"Oneida\\\", \\\"rel_trump_share\\\": 0.5993775011116051, \\\"total\\\": 21531, \\\"trump\\\": 12132, \\\"trump_share\\\": 0.5634666295109377}, \\\"geometry\\\": {\\\"type\\\": \\\"Polygon\\\", \\\"coordinates\\\": [[[-90.042857, 45.897262999999995], [-89.42527799999999, 45.898347], [-89.300473, 45.901463], [-89.30094299999999, 45.860689], [-89.258009, 45.861926], [-89.17524499999999, 45.856578999999996], [-89.17784999999999, 45.899311999999995], [-89.121617, 45.895463], [-89.047601, 45.895354999999995], [-89.04648999999999, 45.464439], [-89.125117, 45.467361], [-89.364049, 45.469885999999995], [-89.424824, 45.467166], [-89.428258, 45.555353], [-90.043414, 45.555082], [-90.042857, 45.897262999999995]]]}}, {\\\"id\\\": \\\"54\\\", \\\"type\\\": \\\"Feature\\\", \\\"properties\\\": {\\\"AFFGEOID\\\": \\\"0500000US55141\\\", \\\"ALAND\\\": 2053716150, \\\"AWATER\\\": 42292545, \\\"COUNTYFP\\\": \\\"141\\\", \\\"COUNTYNS\\\": \\\"01581130\\\", \\\"GEOID\\\": \\\"55141\\\", \\\"LSAD\\\": \\\"06\\\", \\\"NAME\\\": \\\"Wood\\\", \\\"STATEFP\\\": \\\"55\\\", \\\"clinton\\\": 14225, \\\"clinton_share\\\": 0.376143635305939, \\\"county\\\": \\\"Wood\\\", \\\"rel_trump_share\\\": 0.6017971614925958, \\\"total\\\": 37818, \\\"trump\\\": 21498, \\\"trump_share\\\": 0.5684594637474218}, \\\"geometry\\\": {\\\"type\\\": \\\"Polygon\\\", \\\"coordinates\\\": [[[-90.31605499999999, 44.424502], [-90.31625299999999, 44.685154], [-89.963861, 44.684827999999996], [-89.844931, 44.684945], [-89.84441, 44.511542], [-89.72662199999999, 44.511191], [-89.724746, 44.247678], [-89.902783, 44.249472999999995], [-90.080691, 44.249010999999996], [-90.31268, 44.24875], [-90.317939, 44.254276], [-90.31605499999999, 44.424502]]]}}, {\\\"id\\\": \\\"55\\\", \\\"type\\\": \\\"Feature\\\", \\\"properties\\\": {\\\"AFFGEOID\\\": \\\"0500000US55071\\\", \\\"ALAND\\\": 1526427354, \\\"AWATER\\\": 2343210650, \\\"COUNTYFP\\\": \\\"071\\\", \\\"COUNTYNS\\\": \\\"01581095\\\", \\\"GEOID\\\": \\\"55071\\\", \\\"LSAD\\\": \\\"06\\\", \\\"NAME\\\": \\\"Manitowoc\\\", \\\"STATEFP\\\": \\\"55\\\", \\\"clinton\\\": 14538, \\\"clinton_share\\\": 0.3564458392585691, \\\"county\\\": \\\"Manitowoc\\\", \\\"rel_trump_share\\\": 0.6152135937748134, \\\"total\\\": 40786, \\\"trump\\\": 23244, \\\"trump_share\\\": 0.5699014367675183}, \\\"geometry\\\": {\\\"type\\\": \\\"Polygon\\\", \\\"coordinates\\\": [[[-88.04324, 44.241018], [-87.888087, 44.240460999999996], [-87.887526, 44.327588999999996], [-87.766026, 44.327183999999995], [-87.54294984058659, 44.3275124998493], [-87.54538199999999, 44.321385], [-87.544716, 44.306864], [-87.54115499999999, 44.293143], [-87.521755, 44.259957], [-87.50841899999999, 44.229669], [-87.507419, 44.210803], [-87.512903, 44.192808], [-87.51966, 44.17987], [-87.53994, 44.15969], [-87.563181, 44.144194999999996], [-87.600882, 44.131695], [-87.621082, 44.121894999999995], [-87.64658299999999, 44.104693999999995], [-87.655183, 44.081894], [-87.653483, 44.067194], [-87.656083, 44.051794], [-87.67131599999999, 44.037349999999996], [-87.68336099999999, 44.020139], [-87.695503, 43.989582], [-87.69892, 43.965936], [-87.70395099999999, 43.956651], [-87.716037, 43.943705], [-87.71904099999999, 43.937781], [-87.72680299999999, 43.903133], [-87.7313223858007, 43.8921842757007], [-88.041794, 43.891692], [-88.04324, 44.241018]]]}}, {\\\"id\\\": \\\"56\\\", \\\"type\\\": \\\"Feature\\\", \\\"properties\\\": {\\\"AFFGEOID\\\": \\\"0500000US55011\\\", \\\"ALAND\\\": 1739529647, \\\"AWATER\\\": 98310690, \\\"COUNTYFP\\\": \\\"011\\\", \\\"COUNTYNS\\\": \\\"01581065\\\", \\\"GEOID\\\": \\\"55011\\\", \\\"LSAD\\\": \\\"06\\\", \\\"NAME\\\": \\\"Buffalo\\\", \\\"STATEFP\\\": \\\"55\\\", \\\"clinton\\\": 2525, \\\"clinton_share\\\": 0.36169603208709356, \\\"county\\\": \\\"Buffalo\\\", \\\"rel_trump_share\\\": 0.6158527308687053, \\\"total\\\": 6981, \\\"trump\\\": 4048, \\\"trump_share\\\": 0.5798596189657642}, \\\"geometry\\\": {\\\"type\\\": \\\"Polygon\\\", \\\"coordinates\\\": [[[-92.080553, 44.431818], [-92.059317, 44.466288999999996], [-92.056113, 44.488935], [-92.043914, 44.512375], [-92.047753, 44.527015999999996], [-92.038838, 44.546969], [-92.039585, 44.564209999999996], [-92.02278799999999, 44.590519], [-92.003146, 44.596834], [-91.65024799999999, 44.596649], [-91.529101, 44.596197], [-91.529741, 44.246776999999994], [-91.534049, 44.241001999999995], [-91.55712, 44.224291], [-91.574409, 44.222488], [-91.600956, 44.211048], [-91.60864699999999, 44.200779], [-91.597223, 44.187723], [-91.612971, 44.172157], [-91.590792, 44.155392], [-91.565664, 44.14853], [-91.548752, 44.12439], [-91.548367, 44.107478], [-91.534245, 44.096319], [-91.55827599999999, 44.062436999999996], [-91.571157, 44.037828], [-91.559004, 44.025315], [-91.57328299999999, 44.026900999999995], [-91.580019, 44.026925], [-91.58260399999999, 44.027381], [-91.59206999999999, 44.031372], [-91.597617, 44.034965], [-91.60355, 44.043681], [-91.607339, 44.047357], [-91.61048699999999, 44.04931], [-91.615375, 44.051598], [-91.623784, 44.054106], [-91.62790000000001, 44.055807], [-91.633365, 44.060364], [-91.638115, 44.063285], [-91.640535, 44.063679], [-91.6434, 44.062711], [-91.644717, 44.062782], [-91.64787299999999, 44.064108999999995], [-91.652247, 44.068633999999996], [-91.65700000000001, 44.071408999999996], [-91.659511, 44.074203], [-91.66344199999999, 44.080909999999996], [-91.665263, 44.085041], [-91.667006, 44.086963999999995], [-91.68153, 44.0974], [-91.68574799999999, 44.098419], [-91.69128099999999, 44.097857999999995], [-91.69530999999999, 44.098569999999995], [-91.70749099999999, 44.103905999999995], [-91.708207, 44.105185999999996], [-91.70808199999999, 44.110929], [-91.709476, 44.117565], [-91.71059699999999, 44.12048], [-91.71909699999999, 44.128853], [-91.721552, 44.130342], [-91.730648, 44.1329], [-91.751747, 44.134786], [-91.75671899999999, 44.136804], [-91.768574, 44.143508], [-91.774486, 44.147538999999995], [-91.796669, 44.154334999999996], [-91.808064, 44.159262], [-91.817302, 44.164235], [-91.829167, 44.178349999999995], [-91.83247899999999, 44.180308], [-91.844754, 44.184878], [-91.8583929427025, 44.1930031501986], [-91.864387, 44.196574], [-91.87236899999999, 44.199166999999996], [-91.875158, 44.200575], [-91.87605599999999, 44.202728], [-91.876356, 44.209575], [-91.87742899999999, 44.212921], [-91.880265, 44.216555], [-91.88978999999999, 44.226285999999995], [-91.892698, 44.231105], [-91.892963, 44.235149], [-91.88790499999999, 44.246398], [-91.88704, 44.251771999999995], [-91.887824, 44.254171], [-91.88913199999999, 44.25606], [-91.896008, 44.262871], [-91.89676, 44.265446999999995], [-91.895652, 44.273008], [-91.896388, 44.27469], [-91.898697, 44.277172], [-91.905789, 44.281614], [-91.920282, 44.286496], [-91.92220499999999, 44.287811], [-91.924613, 44.291815], [-91.92497499999999, 44.294819], [-91.92410199999999, 44.297095], [-91.92102799999999, 44.301069], [-91.91436, 44.308229999999995], [-91.913574, 44.310392], [-91.913534, 44.311392], [-91.916191, 44.318093999999995], [-91.91862499999999, 44.322671], [-91.92559, 44.333548], [-91.928224, 44.335473], [-91.941311, 44.340978], [-91.94959899999999, 44.348796], [-91.95282, 44.352982], [-91.95952299999999, 44.359404], [-91.9636, 44.362111999999996], [-91.970266, 44.365842], [-91.97492199999999, 44.367515999999995], [-91.978574, 44.368372], [-91.98397399999999, 44.368448], [-91.98728899999999, 44.369119], [-91.993984, 44.3718], [-92.000165, 44.374966], [-92.002838, 44.377117999999996], [-92.00617899999999, 44.378825], [-92.008589, 44.379625999999995], [-92.019313, 44.381217], [-92.038147, 44.388731], [-92.046285, 44.394397999999995], [-92.05354899999999, 44.401374999999994], [-92.05648599999999, 44.402729], [-92.06163699999999, 44.404123999999996], [-92.072267, 44.404016999999996], [-92.078605, 44.404869], [-92.08363983219859, 44.4071887773643], [-92.080553, 44.431818]]]}}, {\\\"id\\\": \\\"57\\\", \\\"type\\\": \\\"Feature\\\", \\\"properties\\\": {\\\"AFFGEOID\\\": \\\"0500000US55041\\\", \\\"ALAND\\\": 2626878497, \\\"AWATER\\\": 83594186, \\\"COUNTYFP\\\": \\\"041\\\", \\\"COUNTYNS\\\": \\\"01581080\\\", \\\"GEOID\\\": \\\"55041\\\", \\\"LSAD\\\": \\\"06\\\", \\\"NAME\\\": \\\"Forest\\\", \\\"STATEFP\\\": \\\"55\\\", \\\"clinton\\\": 1579, \\\"clinton_share\\\": 0.3474147414741474, \\\"county\\\": \\\"Forest\\\", \\\"rel_trump_share\\\": 0.6383417315620705, \\\"total\\\": 4545, \\\"trump\\\": 2787, \\\"trump_share\\\": 0.6132013201320132}, \\\"geometry\\\": {\\\"type\\\": \\\"Polygon\\\", \\\"coordinates\\\": [[[-89.047795, 45.982344999999995], [-88.933222, 45.982276], [-88.9327522855634, 46.073679640474396], [-88.85027, 46.040274], [-88.84846399999999, 46.038858], [-88.847599, 46.037161], [-88.843903, 46.033049999999996], [-88.84058399999999, 46.031112], [-88.837991, 46.030176], [-88.83524899999999, 46.03033], [-88.831544, 46.02962], [-88.82059199999999, 46.026261], [-88.81648899999999, 46.023924], [-88.815427, 46.022954], [-88.815629, 46.02232], [-88.811948, 46.021609], [-88.801761, 46.023737], [-88.79646, 46.023604999999996], [-88.79579, 46.024864], [-88.79624199999999, 46.026852999999996], [-88.80067, 46.030035999999996], [-88.796182, 46.033712], [-88.79179599999999, 46.032056999999995], [-88.78441099999999, 46.032709], [-88.77922099999999, 46.031869], [-88.778628, 46.031271], [-88.778734, 46.028875], [-88.78363499999999, 46.024356999999995], [-88.784007, 46.022984], [-88.783891, 46.020934], [-88.78210399999999, 46.016557999999996], [-88.779915, 46.015436], [-88.776187, 46.015930999999995], [-88.769712, 46.018968], [-88.768692, 46.020571], [-88.768305, 46.021201], [-88.76760999999999, 46.021643], [-88.76710399999999, 46.021896], [-88.766156, 46.022149], [-88.765208, 46.022085999999994], [-88.763767, 46.021943], [-88.760044, 46.019815], [-88.758618, 46.019542], [-88.756295, 46.020173], [-88.75403299999999, 46.022459999999995], [-88.75217599999999, 46.023584], [-88.746422, 46.025797999999995], [-88.739994, 46.027308], [-88.73067499999999, 46.026534999999996], [-88.724801, 46.024502999999996], [-88.721125, 46.022013], [-88.721319, 46.018608], [-88.718397, 46.013284], [-88.713049, 46.012668], [-88.71032799999999, 46.016303], [-88.70468699999999, 46.018153999999996], [-88.69871599999999, 46.017903], [-88.691662, 46.015435], [-88.6833034397318, 46.01416954199289], [-88.6842, 45.982448999999995], [-88.674604, 45.982298], [-88.675821, 45.7229], [-88.425302, 45.722426], [-88.428102, 45.37701], [-88.677996, 45.378682999999995], [-88.926025, 45.378637], [-88.923062, 45.465137], [-89.04648999999999, 45.464439], [-89.047601, 45.895354999999995], [-89.047795, 45.982344999999995]]]}}, {\\\"id\\\": \\\"58\\\", \\\"type\\\": \\\"Feature\\\", \\\"properties\\\": {\\\"AFFGEOID\\\": \\\"0500000US55001\\\", \\\"ALAND\\\": 1672140739, \\\"AWATER\\\": 108432131, \\\"COUNTYFP\\\": \\\"001\\\", \\\"COUNTYNS\\\": \\\"01581060\\\", \\\"GEOID\\\": \\\"55001\\\", \\\"LSAD\\\": \\\"06\\\", \\\"NAME\\\": \\\"Adams\\\", \\\"STATEFP\\\": \\\"55\\\", \\\"clinton\\\": 3745, \\\"clinton_share\\\": 0.3696939782823297, \\\"county\\\": \\\"Adams\\\", \\\"rel_trump_share\\\": 0.6143548553187107, \\\"total\\\": 10130, \\\"trump\\\": 5966, \\\"trump_share\\\": 0.588943731490622}, \\\"geometry\\\": {\\\"type\\\": \\\"Polygon\\\", \\\"coordinates\\\": [[[-90.025953, 44.091747999999995], [-90.004801, 44.102677], [-90.00705599999999, 44.121607], [-89.991416, 44.126725], [-89.976919, 44.122538], [-89.97048199999999, 44.167114], [-89.941713, 44.163433999999995], [-89.93298999999999, 44.15036], [-89.92338699999999, 44.152415999999995], [-89.92043, 44.178581], [-89.901502, 44.180575999999995], [-89.903595, 44.191434], [-89.923811, 44.190573], [-89.905013, 44.201603999999996], [-89.92483299999999, 44.213533], [-89.89758499999999, 44.229844], [-89.902783, 44.249472999999995], [-89.724746, 44.247678], [-89.59797999999999, 44.245725], [-89.59795, 43.9821], [-89.599547, 43.642635999999996], [-89.718733, 43.643153999999996], [-89.78490099999999, 43.641051], [-89.78702, 43.667148999999995], [-89.807672, 43.677194], [-89.819192, 43.692583], [-89.84125, 43.736677], [-89.843374, 43.75805], [-89.865132, 43.783414], [-89.88977799999999, 43.796714], [-89.902839, 43.814085999999996], [-89.91619299999999, 43.82152], [-89.922308, 43.838468], [-89.961221, 43.864027], [-89.962948, 43.883399], [-89.980676, 43.905623], [-89.98316, 43.915667], [-89.954449, 43.921986], [-89.95526799999999, 43.955292], [-89.96260099999999, 43.979236], [-89.974295, 43.99606], [-90.005887, 44.008390999999996], [-89.998977, 44.024045], [-90.018767, 44.047719], [-90.025953, 44.091747999999995]]]}}, {\\\"id\\\": \\\"59\\\", \\\"type\\\": \\\"Feature\\\", \\\"properties\\\": {\\\"AFFGEOID\\\": \\\"0500000US55103\\\", \\\"ALAND\\\": 1518121192, \\\"AWATER\\\": 8153427, \\\"COUNTYFP\\\": \\\"103\\\", \\\"COUNTYNS\\\": \\\"01581112\\\", \\\"GEOID\\\": \\\"55103\\\", \\\"LSAD\\\": \\\"06\\\", \\\"NAME\\\": \\\"Richland\\\", \\\"STATEFP\\\": \\\"55\\\", \\\"clinton\\\": 3569, \\\"clinton_share\\\": 0.44231007559796753, \\\"county\\\": \\\"Richland\\\", \\\"rel_trump_share\\\": 0.5292798733843314, \\\"total\\\": 8069, \\\"trump\\\": 4013, \\\"trump_share\\\": 0.4973354814723014}, \\\"geometry\\\": {\\\"type\\\": \\\"Polygon\\\", \\\"coordinates\\\": [[[-90.671652, 43.552856], [-90.31106899999999, 43.553990999999996], [-90.191964, 43.554995999999996], [-90.19217599999999, 43.532868], [-90.191963, 43.527319], [-90.192281, 43.523081999999995], [-90.192015, 43.511148], [-90.191938, 43.380083], [-90.19245099999999, 43.169292999999996], [-90.19381399999999, 43.164463999999995], [-90.218447, 43.173234], [-90.26068, 43.19777], [-90.278369, 43.194089999999996], [-90.29780199999999, 43.208211], [-90.31091699999999, 43.206617], [-90.35051299999999, 43.209786], [-90.40977199999999, 43.200145], [-90.429825, 43.200939999999996], [-90.545408, 43.211455], [-90.588903, 43.200688], [-90.60860799999999, 43.185372], [-90.666786, 43.171777], [-90.666012, 43.379422999999996], [-90.668561, 43.422993999999996], [-90.671652, 43.552856]]]}}, {\\\"id\\\": \\\"60\\\", \\\"type\\\": \\\"Feature\\\", \\\"properties\\\": {\\\"AFFGEOID\\\": \\\"0500000US55029\\\", \\\"ALAND\\\": 1248277392, \\\"AWATER\\\": 4890604643, \\\"COUNTYFP\\\": \\\"029\\\", \\\"COUNTYNS\\\": \\\"01581074\\\", \\\"GEOID\\\": \\\"55029\\\", \\\"LSAD\\\": \\\"06\\\", \\\"NAME\\\": \\\"Door\\\", \\\"STATEFP\\\": \\\"55\\\", \\\"clinton\\\": 8014, \\\"clinton_share\\\": 0.4555479763528877, \\\"county\\\": \\\"Door\\\", \\\"rel_trump_share\\\": 0.5170543569965048, \\\"total\\\": 17592, \\\"trump\\\": 8580, \\\"trump_share\\\": 0.4877216916780355}, \\\"geometry\\\": {\\\"type\\\": \\\"MultiPolygon\\\", \\\"coordinates\\\": [[[[-86.956198, 45.352005999999996], [-86.953389, 45.354715], [-86.948272, 45.355681999999995], [-86.946297, 45.358689999999996], [-86.94751, 45.366434], [-86.955204, 45.383721], [-86.943041, 45.41525], [-86.937393, 45.420966], [-86.934276, 45.421149], [-86.930511, 45.417536], [-86.928045, 45.411273], [-86.91768599999999, 45.407889999999995], [-86.892893, 45.40898], [-86.87750199999999, 45.413981], [-86.86147199999999, 45.412067], [-86.853145, 45.405547], [-86.830353, 45.410852], [-86.829143, 45.416489999999996], [-86.8309, 45.426023], [-86.828661, 45.428539], [-86.81706899999999, 45.426963], [-86.81005499999999, 45.422619], [-86.80586799999999, 45.412903], [-86.805415, 45.407323999999996], [-86.808303, 45.406067], [-86.818073, 45.408147], [-86.824383, 45.406135], [-86.841432, 45.389601], [-86.85310299999999, 45.370861], [-86.863563, 45.364888], [-86.86774299999999, 45.353065], [-86.865499, 45.340981], [-86.869041, 45.333223], [-86.875117, 45.33087], [-86.887802, 45.332259], [-86.895055, 45.329035], [-86.89948799999999, 45.322587999999996], [-86.896667, 45.307275], [-86.896928, 45.298300000000005], [-86.899891, 45.295185], [-86.904898, 45.296839], [-86.913995, 45.31211], [-86.925681, 45.324200000000005], [-86.93736799999999, 45.333065], [-86.948087, 45.335296], [-86.95612899999999, 45.342267], [-86.956198, 45.352005999999996]]], [[[-87.37540299999999, 45.199296], [-87.334158, 45.211669], [-87.33196199999999, 45.199251], [-87.33622, 45.173173999999996], [-87.32728399999999, 45.157363], [-87.37677699999999, 45.177298], [-87.37540299999999, 45.199296]]], [[[-87.72983599999999, 44.682015], [-87.71978, 44.693245999999995], [-87.718409, 44.707811], [-87.72181599999999, 44.718969], [-87.720889, 44.724548], [-87.705852, 44.738225], [-87.68820699999999, 44.758891999999996], [-87.64630000000001, 44.798739], [-87.637104, 44.813575], [-87.610063, 44.838384], [-87.581306, 44.851791], [-87.57317499999999, 44.853117999999995], [-87.550288, 44.85129], [-87.530999, 44.857437], [-87.515142, 44.869596], [-87.501578, 44.864284999999995], [-87.478489, 44.863572], [-87.437084, 44.892717999999995], [-87.433128, 44.892741], [-87.420327, 44.887595999999995], [-87.419106, 44.885377999999996], [-87.419951, 44.87594], [-87.410015, 44.86199], [-87.405541, 44.860046999999994], [-87.384821, 44.865531999999995], [-87.383631, 44.885115], [-87.385396, 44.889964], [-87.393399, 44.898199], [-87.406199, 44.904489999999996], [-87.405005, 44.911806], [-87.39836799999999, 44.925225999999995], [-87.393405, 44.934393], [-87.387253, 44.939420999999996], [-87.374805, 44.956630999999994], [-87.360288, 44.987643], [-87.336457, 45.013529999999996], [-87.32211699999999, 45.034200999999996], [-87.302831, 45.052447], [-87.28428, 45.063694], [-87.264877, 45.081361], [-87.260542, 45.092585], [-87.260595, 45.106007], [-87.257449, 45.121643999999996], [-87.25048699999999, 45.131288999999995], [-87.240308, 45.137885999999995], [-87.242924, 45.149377], [-87.238224, 45.167259], [-87.231214, 45.172886999999996], [-87.221971, 45.175039], [-87.21437, 45.165735], [-87.195213, 45.163109999999996], [-87.175068, 45.173049999999996], [-87.16717899999999, 45.183594], [-87.163169, 45.185331], [-87.14770899999999, 45.190711], [-87.13302999999999, 45.192842999999996], [-87.123689, 45.18989], [-87.11997199999999, 45.191103], [-87.119405, 45.205439999999996], [-87.12160899999999, 45.209782999999995], [-87.12281899999999, 45.222997], [-87.11643199999999, 45.24152], [-87.10874299999999, 45.257003], [-87.078316, 45.265723], [-87.071035, 45.280355], [-87.057627, 45.292837999999996], [-87.05170000000001, 45.285888], [-87.04389499999999, 45.284766999999995], [-87.034206, 45.287758], [-87.01703599999999, 45.299254], [-86.994112, 45.298061], [-86.983355, 45.295367999999996], [-86.97778, 45.290684], [-86.970355, 45.278455], [-86.97452799999999, 45.271823], [-86.984398, 45.264365999999995], [-86.98497499999999, 45.258674], [-86.982669, 45.249117], [-86.976711, 45.246145999999996], [-86.973022, 45.246399], [-86.978759, 45.227332999999994], [-86.985973, 45.215872], [-87.00280599999999, 45.211773], [-87.005359, 45.213694], [-87.00753999999999, 45.222127], [-87.032546, 45.222274], [-87.040909, 45.211535], [-87.04589899999999, 45.173902], [-87.045225, 45.158401], [-87.028847, 45.14637], [-87.033114, 45.141753], [-87.04574799999999, 45.134986999999995], [-87.05434199999999, 45.119968], [-87.05104899999999, 45.116172], [-87.048951, 45.108717999999996], [-87.04821299999999, 45.089124], [-87.05744399999999, 45.087467], [-87.06315699999999, 45.079316], [-87.07955199999999, 45.070783], [-87.08186599999999, 45.059103], [-87.091639, 45.055144999999996], [-87.121156, 45.058310999999996], [-87.124701, 45.052935999999995], [-87.124808, 45.042167], [-87.13938399999999, 45.012564999999995], [-87.154084, 45.009116999999996], [-87.163529, 45.004889999999996], [-87.181901, 44.980886999999996], [-87.189407, 44.968632], [-87.188375, 44.948077], [-87.17524, 44.939752999999996], [-87.1717, 44.931475999999996], [-87.17492, 44.927749], [-87.18673199999999, 44.925463], [-87.20423799999999, 44.916819], [-87.215977, 44.906597], [-87.21719499999999, 44.897839], [-87.206285, 44.885928], [-87.204545, 44.875592999999995], [-87.26744099999999, 44.846851], [-87.27602999999999, 44.83318], [-87.282561, 44.814729], [-87.304824, 44.804603], [-87.313751, 44.793766], [-87.320397, 44.784963], [-87.31898199999999, 44.771335], [-87.33758399999999, 44.737750999999996], [-87.343508, 44.719228], [-87.35378899999999, 44.701915], [-87.368263, 44.684141], [-87.37325833223939, 44.675540674647195], [-87.7360584417798, 44.6770254546693], [-87.72983599999999, 44.682015]]]]}}, {\\\"id\\\": \\\"61\\\", \\\"type\\\": \\\"Feature\\\", \\\"properties\\\": {\\\"AFFGEOID\\\": \\\"0500000US55051\\\", \\\"ALAND\\\": 1963695701, \\\"AWATER\\\": 416925971, \\\"COUNTYFP\\\": \\\"051\\\", \\\"COUNTYNS\\\": \\\"01581085\\\", \\\"GEOID\\\": \\\"55051\\\", \\\"LSAD\\\": \\\"06\\\", \\\"NAME\\\": \\\"Iron\\\", \\\"STATEFP\\\": \\\"55\\\", \\\"clinton\\\": 1275, \\\"clinton_share\\\": 0.3629376601195559, \\\"county\\\": \\\"Iron\\\", \\\"rel_trump_share\\\": 0.6200834326579261, \\\"total\\\": 3513, \\\"trump\\\": 2081, \\\"trump_share\\\": 0.592371192712781}, \\\"geometry\\\": {\\\"type\\\": \\\"Polygon\\\", \\\"coordinates\\\": [[[-90.5495962766133, 46.58413846414], [-90.537962, 46.581081], [-90.525498, 46.586926], [-90.505909, 46.589614], [-90.47376, 46.574177999999996], [-90.437596, 46.561492], [-90.41813599999999, 46.566094], [-90.41561999999999, 46.563168999999995], [-90.41459599999999, 46.55732], [-90.414464, 46.55732], [-90.407775, 46.552246], [-90.405593, 46.547584], [-90.402019, 46.544384], [-90.400429, 46.544384], [-90.400041, 46.544384], [-90.398742, 46.542738], [-90.395568, 46.536317], [-90.39527199999999, 46.533941], [-90.39332, 46.532615], [-90.387228, 46.533663], [-90.374461, 46.539212], [-90.369964, 46.540549], [-90.36160000000001, 46.541433999999995], [-90.357676, 46.540271], [-90.35701399999999, 46.540591], [-90.355689, 46.540316999999995], [-90.353534, 46.537552999999996], [-90.35158, 46.537074], [-90.350121, 46.537337], [-90.349462, 46.53808], [-90.34751399999999, 46.547083], [-90.344338, 46.552087], [-90.33692099999999, 46.554075999999995], [-90.331887, 46.553278], [-90.327548, 46.550262], [-90.32804399999999, 46.548046], [-90.326686, 46.54615], [-90.324699, 46.545601999999995], [-90.32042799999999, 46.546287], [-90.310859, 46.539365], [-90.310329, 46.536851999999996], [-90.311886, 46.528695], [-90.31443399999999, 46.523784], [-90.31777699999999, 46.521637], [-90.316983, 46.517319], [-90.31389399999999, 46.516199], [-90.313839, 46.516199], [-90.312581, 46.517112999999995], [-90.307716, 46.518392], [-90.306558, 46.518484], [-90.303546, 46.517432], [-90.298284, 46.51782], [-90.294411, 46.518848], [-90.294311, 46.519876], [-90.29285399999999, 46.520972], [-90.285707, 46.518845999999996], [-90.283423, 46.518868], [-90.27892, 46.522270999999996], [-90.278356, 46.523846999999996], [-90.277131, 46.524487], [-90.272599, 46.521127], [-90.271971, 46.519756], [-90.274721, 46.515415999999995], [-90.270422, 46.511689999999994], [-90.270432, 46.510756], [-90.270558, 46.50956], [-90.270684, 46.508237], [-90.27018, 46.507355999999994], [-90.26848, 46.507166999999995], [-90.266528, 46.507355999999994], [-90.265143, 46.506222], [-90.265143, 46.505089], [-90.26526899999999, 46.503828999999996], [-90.263018, 46.502776999999995], [-90.260504, 46.502821999999995], [-90.25865, 46.503482999999996], [-90.25716, 46.504715999999995], [-90.248194, 46.505357], [-90.246043, 46.504832], [-90.24339499999999, 46.505244999999995], [-90.236283, 46.507121], [-90.23158699999999, 46.509842], [-90.230363, 46.509705], [-90.229402, 46.507991999999994], [-90.230921, 46.504656], [-90.23102, 46.503353999999995], [-90.230324, 46.501732], [-90.228735, 46.501573], [-90.22235099999999, 46.50338], [-90.22053199999999, 46.503403], [-90.216594, 46.501759], [-90.214866, 46.499947], [-90.214843, 46.498180999999995], [-90.211753, 46.490351], [-90.204009, 46.478175], [-90.20172699999999, 46.476074], [-90.193394, 46.472487], [-90.18899599999999, 46.469015], [-90.188633, 46.468101], [-90.189426, 46.467003999999996], [-90.192005, 46.465610999999996], [-90.193294, 46.463142999999995], [-90.190749, 46.460173], [-90.189162, 46.459053999999995], [-90.180336, 46.456745999999995], [-90.17921199999999, 46.453089999999996], [-90.17786, 46.440548], [-90.174556, 46.439656], [-90.166919, 46.439851], [-90.16690899999999, 46.439311], [-90.16652599999999, 46.437576], [-90.163422, 46.434605], [-90.158603, 46.422655999999996], [-90.15824099999999, 46.420485], [-90.15897199999999, 46.413768999999995], [-90.157851, 46.409290999999996], [-90.152936, 46.401292999999995], [-90.148347, 46.399257999999996], [-90.146816, 46.397205], [-90.144359, 46.390254999999996], [-90.13941, 46.384999], [-90.13525299999999, 46.38221], [-90.133966, 46.382118], [-90.13225, 46.381249], [-90.13465599999999, 46.374978999999996], [-90.13466299999999, 46.374947], [-90.133871, 46.371828], [-90.131036, 46.369198999999995], [-90.12651699999999, 46.366889], [-90.122923, 46.363603], [-90.122757, 46.362621], [-90.122785, 46.361259], [-90.122287, 46.360139], [-90.12097299999999, 46.359719999999996], [-90.11975699999999, 46.359747999999996], [-90.11969099999999, 46.359755], [-90.118827, 46.359241], [-90.116844, 46.355153], [-90.11674099999999, 46.350652], [-90.117466, 46.349486999999996], [-90.11972899999999, 46.348504], [-90.12061399999999, 46.346419999999995], [-90.120198, 46.345065999999996], [-90.11957199999999, 46.344179999999994], [-90.118791, 46.342253], [-90.119468, 46.3397], [-90.121084, 46.338656], [-90.12138, 46.338131], [-90.121248, 46.337216999999995], [-90.12048899999999, 46.336852], [-89.92915763295049, 46.2997498928327], [-89.928837, 45.981967], [-90.04395799999999, 45.981947999999996], [-90.30206299999999, 45.981348999999994], [-90.300268, 46.067949], [-90.303669, 46.096649], [-90.303072, 46.154849], [-90.42627399999999, 46.15405], [-90.425978, 46.240449999999996], [-90.55217999999999, 46.240851], [-90.5495962766133, 46.58413846414]]]}}, {\\\"id\\\": \\\"62\\\", \\\"type\\\": \\\"Feature\\\", \\\"properties\\\": {\\\"AFFGEOID\\\": \\\"0500000US55007\\\", \\\"ALAND\\\": 3827658037, \\\"AWATER\\\": 1460278012, \\\"COUNTYFP\\\": \\\"007\\\", \\\"COUNTYNS\\\": \\\"01581063\\\", \\\"GEOID\\\": \\\"55007\\\", \\\"LSAD\\\": \\\"06\\\", \\\"NAME\\\": \\\"Bayfield\\\", \\\"STATEFP\\\": \\\"55\\\", \\\"clinton\\\": 4953, \\\"clinton_share\\\": 0.5152933832709113, \\\"county\\\": \\\"Bayfield\\\", \\\"rel_trump_share\\\": 0.45433513275311227, \\\"total\\\": 9612, \\\"trump\\\": 4124, \\\"trump_share\\\": 0.42904702455264254}, \\\"geometry\\\": {\\\"type\\\": \\\"MultiPolygon\\\", \\\"coordinates\\\": [[[[-90.982101, 46.985855], [-90.949383, 46.991208], [-90.939866, 47.001321], [-90.928563, 47.000726], [-90.923209, 46.98645], [-90.932132, 46.962655], [-90.96187599999999, 46.961465], [-90.980316, 46.971578], [-90.983886, 46.979310999999996], [-90.982101, 46.985855]]], [[[-91.55385299999999, 46.517607999999996], [-91.551408, 46.755666], [-91.537115, 46.754788], [-91.511077, 46.757453], [-91.499696, 46.761243], [-91.492429, 46.766663], [-91.470181, 46.768910999999996], [-91.449327, 46.773303], [-91.42371299999999, 46.78217], [-91.411799, 46.78964], [-91.39825599999999, 46.791213], [-91.391469, 46.790205], [-91.368819, 46.793836], [-91.360804, 46.798136], [-91.35219099999999, 46.807417], [-91.33825, 46.817704], [-91.314815, 46.826825], [-91.302295, 46.830343], [-91.265866, 46.833943999999995], [-91.256705, 46.836887], [-91.250806, 46.841135], [-91.232733, 46.860034999999996], [-91.226796, 46.86361], [-91.211647, 46.866824], [-91.20752399999999, 46.865835], [-91.204439, 46.858816], [-91.200107, 46.854017], [-91.178292, 46.844259], [-91.16760099999999, 46.84476], [-91.147837, 46.863082], [-91.144266, 46.870301], [-91.140165, 46.873200999999995], [-91.13466799999999, 46.87249], [-91.133337, 46.870340999999996], [-91.136512, 46.860974999999996], [-91.134948, 46.858985999999994], [-91.123109, 46.856173], [-91.10548999999999, 46.85762], [-91.096565, 46.861529999999995], [-91.09371399999999, 46.879881999999995], [-91.09091599999999, 46.88267], [-91.080951, 46.883609], [-91.06822, 46.878308999999994], [-91.05299099999999, 46.881325], [-91.03989, 46.88923], [-91.036622, 46.893594], [-91.03451799999999, 46.903053], [-91.01914099999999, 46.911502], [-91.00519899999999, 46.916202999999996], [-90.998848, 46.915974999999996], [-90.995149, 46.917577], [-90.984617, 46.925602], [-90.973755, 46.941303999999995], [-90.968419, 46.943909999999995], [-90.96486499999999, 46.94378], [-90.954537, 46.938429], [-90.92181099999999, 46.931321999999994], [-90.913838, 46.9334], [-90.908598, 46.941305], [-90.879621, 46.958088], [-90.87112599999999, 46.961129], [-90.855874, 46.962232], [-90.837716, 46.957437999999996], [-90.785606, 46.926431], [-90.75455199999999, 46.89827], [-90.750858, 46.893035], [-90.751031, 46.887963], [-90.754734, 46.884879999999995], [-90.761567, 46.88317], [-90.77017, 46.876295999999996], [-90.78097199999999, 46.858989], [-90.798936, 46.823142999999995], [-90.825696, 46.803858], [-90.828057, 46.797415], [-90.835607, 46.789759], [-90.85653099999999, 46.788885], [-90.863542, 46.780564999999996], [-90.859445, 46.773984999999996], [-90.86233299999999, 46.768135], [-90.866586, 46.764407999999996], [-90.885021, 46.756341], [-90.88339599999999, 46.746987], [-90.870396, 46.723293], [-90.852704, 46.699582], [-90.85382899999999, 46.693456999999995], [-90.868468, 46.680375], [-90.885869, 46.670373999999995], [-90.911281, 46.663083], [-90.91515199999999, 46.658409999999996], [-90.920835, 46.637350999999995], [-90.920936, 46.631584], [-90.924487, 46.625417], [-90.93867999999999, 46.608322], [-90.949621, 46.602975], [-90.951543, 46.600621], [-90.951476, 46.597032999999996], [-90.94193, 46.588418999999995], [-90.927387, 46.58513170676979], [-90.92438399999999, 46.502168], [-90.924583, 46.154616], [-91.23838099999999, 46.157908], [-91.551282, 46.157045], [-91.551622, 46.502323999999994], [-91.55385299999999, 46.517607999999996]]]]}}, {\\\"id\\\": \\\"63\\\", \\\"type\\\": \\\"Feature\\\", \\\"properties\\\": {\\\"AFFGEOID\\\": \\\"0500000US55003\\\", \\\"ALAND\\\": 2706634043, \\\"AWATER\\\": 3230598832, \\\"COUNTYFP\\\": \\\"003\\\", \\\"COUNTYNS\\\": \\\"01581061\\\", \\\"GEOID\\\": \\\"55003\\\", \\\"LSAD\\\": \\\"06\\\", \\\"NAME\\\": \\\"Ashland\\\", \\\"STATEFP\\\": \\\"55\\\", \\\"clinton\\\": 4226, \\\"clinton_share\\\": 0.5261454183266933, \\\"county\\\": \\\"Ashland\\\", \\\"rel_trump_share\\\": 0.43870367910745117, \\\"total\\\": 8032, \\\"trump\\\": 3303, \\\"trump_share\\\": 0.4112300796812749}, \\\"geometry\\\": {\\\"type\\\": \\\"MultiPolygon\\\", \\\"coordinates\\\": [[[[-90.465465, 47.002593], [-90.457453, 47.012783], [-90.45525099999999, 47.024], [-90.457128, 47.044058], [-90.455024, 47.05347], [-90.449075, 47.066013], [-90.437271, 47.073482999999996], [-90.417272, 47.077569999999994], [-90.395367, 47.077175], [-90.39383, 47.075941], [-90.393035, 47.067876999999996], [-90.394312, 47.060908999999995], [-90.400409, 47.046588], [-90.403499, 47.025366], [-90.413428, 47.013169999999995], [-90.429397, 47.00561], [-90.464079, 46.994636], [-90.465465, 47.002593]]], [[[-90.525367, 46.876205], [-90.49644099999999, 46.89268], [-90.44823099999999, 46.904759], [-90.438589, 46.894877], [-90.465908, 46.87291], [-90.49965499999999, 46.86412], [-90.525367, 46.876205]]], [[[-90.651834, 46.925267], [-90.634507, 46.942944], [-90.601153, 46.952456999999995], [-90.528804, 46.968497], [-90.523298, 46.967603999999994], [-90.511623, 46.961407], [-90.508157, 46.956835999999996], [-90.524056, 46.935663999999996], [-90.53536799999999, 46.931486], [-90.539947, 46.92785], [-90.543583, 46.923002], [-90.543852, 46.918288999999994], [-90.545872, 46.916672999999996], [-90.549104, 46.915461], [-90.55328, 46.916674], [-90.55731899999999, 46.918693], [-90.569169, 46.920308999999996], [-90.637124, 46.906724], [-90.644144, 46.908379], [-90.654805, 46.919259], [-90.651834, 46.925267]]], [[[-90.761406, 46.838923], [-90.74947999999999, 46.862469], [-90.730233, 46.873467], [-90.677989, 46.897527], [-90.667678, 46.889965], [-90.67523899999999, 46.881029], [-90.718547, 46.864531], [-90.745356, 46.83566], [-90.756052, 46.830594999999995], [-90.761406, 46.838923]]], [[[-90.740544, 46.964206], [-90.71511, 46.957332], [-90.694487, 46.93671], [-90.688988, 46.917462], [-90.737107, 46.914711999999994], [-90.76529099999999, 46.947021], [-90.740544, 46.964206]]], [[[-90.776921, 47.024324], [-90.760423, 47.03326], [-90.68704799999999, 47.043557], [-90.65042199999999, 47.054677999999996], [-90.64362299999999, 47.041177], [-90.608526, 47.00727], [-90.57550599999999, 47.033864], [-90.560936, 47.037012999999995], [-90.54487499999999, 47.017382999999995], [-90.553203, 46.998942], [-90.609715, 46.991208], [-90.63410499999999, 46.970983], [-90.67158099999999, 46.948972999999995], [-90.712032, 46.98526], [-90.767985, 47.002327], [-90.776921, 47.024324]]], [[[-90.791562, 46.784983], [-90.79023099999999, 46.786103], [-90.758586, 46.796214], [-90.733001, 46.800219], [-90.728546, 46.804356], [-90.727818, 46.810434], [-90.72093199999999, 46.815897], [-90.712381, 46.820743], [-90.675364, 46.833929], [-90.65694599999999, 46.843475999999995], [-90.64321799999999, 46.853843999999995], [-90.63404799999999, 46.864396], [-90.62204799999999, 46.872872], [-90.616452, 46.874466], [-90.602552, 46.872706], [-90.587392, 46.858056], [-90.57000599999999, 46.849695999999994], [-90.568874, 46.847252], [-90.57826299999999, 46.841653], [-90.58448899999999, 46.839825], [-90.613822, 46.837942], [-90.676133, 46.818985999999995], [-90.68335599999999, 46.813275], [-90.68575299999999, 46.805003], [-90.67004899999999, 46.799496], [-90.65531, 46.799172999999996], [-90.65291599999999, 46.797754999999995], [-90.652219, 46.794511], [-90.657179, 46.7888], [-90.69646499999999, 46.782039999999995], [-90.716456, 46.785418], [-90.72393799999999, 46.781737], [-90.739425, 46.768021], [-90.76364699999999, 46.754926999999995], [-90.771228, 46.753034], [-90.78851499999999, 46.753313], [-90.783086, 46.772939], [-90.790965, 46.781372999999995], [-90.791562, 46.784983]]], [[[-90.927387, 46.58513170676979], [-90.918266, 46.58307], [-90.909815, 46.582702999999995], [-90.90557199999999, 46.583524], [-90.873154, 46.601223], [-90.86712, 46.601911], [-90.829031, 46.616066], [-90.794775, 46.624941], [-90.770192, 46.636126999999995], [-90.755287, 46.646288999999996], [-90.756495, 46.664590999999994], [-90.74808999999999, 46.669816999999995], [-90.739549, 46.689980999999996], [-90.73725999999999, 46.692267], [-90.694721, 46.664401999999995], [-90.62788499999999, 46.623839], [-90.586249, 46.599863], [-90.55814099999999, 46.586383999999995], [-90.5495962766133, 46.58413846414], [-90.55217999999999, 46.240851], [-90.425978, 46.240449999999996], [-90.42627399999999, 46.15405], [-90.303072, 46.154849], [-90.303669, 46.096649], [-90.300268, 46.067949], [-90.30206299999999, 45.981348999999994], [-90.676968, 45.981553999999996], [-90.925174, 45.981055], [-90.924583, 46.154616], [-90.92438399999999, 46.502168], [-90.927387, 46.58513170676979]]]]}}, {\\\"id\\\": \\\"64\\\", \\\"type\\\": \\\"Feature\\\", \\\"properties\\\": {\\\"AFFGEOID\\\": \\\"0500000US55031\\\", \\\"ALAND\\\": 3377715537, \\\"AWATER\\\": 454630090, \\\"COUNTYFP\\\": \\\"031\\\", \\\"COUNTYNS\\\": \\\"01581075\\\", \\\"GEOID\\\": \\\"55031\\\", \\\"LSAD\\\": \\\"06\\\", \\\"NAME\\\": \\\"Douglas\\\", \\\"STATEFP\\\": \\\"55\\\", \\\"clinton\\\": 11357, \\\"clinton_share\\\": 0.5039492367767128, \\\"county\\\": \\\"Douglas\\\", \\\"rel_trump_share\\\": 0.45965363022171474, \\\"total\\\": 22536, \\\"trump\\\": 9661, \\\"trump_share\\\": 0.42869187078452253}, \\\"geometry\\\": {\\\"type\\\": \\\"Polygon\\\", \\\"coordinates\\\": [[[-92.293857, 46.180073], [-92.29355799999999, 46.224578], [-92.29361899999999, 46.244043], [-92.29307399999999, 46.295128999999996], [-92.293007, 46.297987], [-92.29284, 46.304319], [-92.292839, 46.307106999999995], [-92.29288, 46.313752], [-92.29280299999999, 46.314628], [-92.292782, 46.319312], [-92.292999, 46.321894], [-92.29285999999999, 46.41722], [-92.292847, 46.420876], [-92.292727, 46.431993], [-92.29251, 46.478761], [-92.292371, 46.495585], [-92.29197599999999, 46.503997], [-92.291647, 46.604648999999995], [-92.291597, 46.624941], [-92.292192, 46.663242], [-92.292192, 46.663318], [-92.292192, 46.666042], [-92.291292, 46.668141999999996], [-92.287392, 46.667342], [-92.287092, 46.662842], [-92.286192, 46.660342], [-92.283692, 46.658840999999995], [-92.278492, 46.658640999999996], [-92.27439199999999, 46.657441], [-92.272792, 46.652840999999995], [-92.270592, 46.650741], [-92.265993, 46.651041], [-92.259692, 46.657140999999996], [-92.256592, 46.658741], [-92.242493, 46.649240999999996], [-92.235592, 46.650040999999995], [-92.228492, 46.652941], [-92.223492, 46.652640999999996], [-92.216392, 46.649840999999995], [-92.212392, 46.649941], [-92.20709199999999, 46.651941], [-92.202292, 46.655041], [-92.20159199999999, 46.656641], [-92.202192, 46.658941], [-92.20549199999999, 46.664741], [-92.204092, 46.666941], [-92.19949199999999, 46.670241], [-92.192492, 46.676741], [-92.187592, 46.678940999999995], [-92.18139099999999, 46.680240999999995], [-92.17759099999999, 46.683440999999995], [-92.176091, 46.686341], [-92.176491, 46.690241], [-92.177891, 46.691841], [-92.18309099999999, 46.695240999999996], [-92.19849099999999, 46.696141], [-92.205192, 46.698341], [-92.205692, 46.702541], [-92.204691, 46.704041], [-92.201591, 46.705940999999996], [-92.197391, 46.707640999999995], [-92.193291, 46.711241], [-92.191491, 46.716241], [-92.18909099999999, 46.717541], [-92.178891, 46.716741], [-92.174291, 46.717241], [-92.16729099999999, 46.719941], [-92.155191, 46.715939999999996], [-92.148691, 46.71514], [-92.14629099999999, 46.715939999999996], [-92.141291, 46.72524], [-92.143391, 46.728139999999996], [-92.14329, 46.73464], [-92.13789, 46.73954], [-92.11659, 46.748639999999995], [-92.10819, 46.74914], [-92.08949, 46.74924], [-92.03399, 46.708939], [-92.02028899999999, 46.704038999999995], [-92.01529, 46.706469], [-92.007989, 46.705039], [-91.987889, 46.692738999999996], [-91.973389, 46.686439], [-91.961889, 46.682539], [-91.942988, 46.679939], [-91.886963, 46.690211], [-91.857462, 46.692361999999996], [-91.840288, 46.689693], [-91.820027, 46.690176], [-91.790132, 46.694675], [-91.74965, 46.709129], [-91.645502, 46.734733], [-91.590684, 46.754331], [-91.574291, 46.757487999999995], [-91.551445, 46.755674], [-91.551408, 46.755666], [-91.55385299999999, 46.517607999999996], [-91.551622, 46.502323999999994], [-91.551282, 46.157045], [-91.561684, 46.157846], [-92.04963599999999, 46.157596999999996], [-92.2937055830063, 46.1573209976466], [-92.29374399999999, 46.166838], [-92.293857, 46.180073]]]}}, {\\\"id\\\": \\\"65\\\", \\\"type\\\": \\\"Feature\\\", \\\"properties\\\": {\\\"AFFGEOID\\\": \\\"0500000US55063\\\", \\\"ALAND\\\": 1170030643, \\\"AWATER\\\": 73154545, \\\"COUNTYFP\\\": \\\"063\\\", \\\"COUNTYNS\\\": \\\"01581091\\\", \\\"GEOID\\\": \\\"55063\\\", \\\"LSAD\\\": \\\"06\\\", \\\"NAME\\\": \\\"La Crosse\\\", \\\"STATEFP\\\": \\\"55\\\", \\\"clinton\\\": 32406, \\\"clinton_share\\\": 0.5089361434808556, \\\"county\\\": \\\"La Crosse\\\", \\\"rel_trump_share\\\": 0.44872754491017963, \\\"total\\\": 63674, \\\"trump\\\": 26378, \\\"trump_share\\\": 0.41426641957470867}, \\\"geometry\\\": {\\\"type\\\": \\\"Polygon\\\", \\\"coordinates\\\": [[[-91.42518797925139, 43.9843219996781], [-91.322143, 43.984462], [-91.33807, 44.007374], [-91.337329, 44.037499], [-91.30747799999999, 44.064876], [-91.284199, 44.060365], [-91.26588799999999, 44.072210999999996], [-91.247473, 44.057513], [-91.221891, 44.053083], [-91.201078, 44.075392], [-91.19821499999999, 44.087379999999996], [-91.167943, 44.087869999999995], [-91.151932, 44.079665], [-91.151845, 44.070994999999996], [-90.973107, 44.070882], [-90.91291799999999, 44.071521999999995], [-90.910653, 43.725334], [-91.25777341547641, 43.725660823086095], [-91.255932, 43.729849], [-91.254903, 43.733533], [-91.255431, 43.744876], [-91.243955, 43.773046], [-91.244135, 43.774667], [-91.262436, 43.792165999999995], [-91.26443599999999, 43.800366], [-91.26743599999999, 43.804165999999995], [-91.272037, 43.813766], [-91.273037, 43.818566], [-91.27573699999999, 43.824866], [-91.277695, 43.837741], [-91.28196799999999, 43.842738], [-91.284138, 43.847065], [-91.29100199999999, 43.852733], [-91.296739, 43.855165], [-91.29881499999999, 43.856555], [-91.30130199999999, 43.859514999999995], [-91.310991, 43.867380999999995], [-91.313037, 43.875757], [-91.31531, 43.881808], [-91.320605, 43.888490999999995], [-91.328143, 43.893435], [-91.338141, 43.897664], [-91.34233499999999, 43.902696999999996], [-91.346271, 43.910073999999994], [-91.347741, 43.911964], [-91.351688, 43.914545], [-91.356741, 43.916564], [-91.35742599999999, 43.917231], [-91.363242, 43.926562999999994], [-91.364736, 43.934884], [-91.366642, 43.937463], [-91.375142, 43.944289], [-91.385785, 43.954239], [-91.39508599999999, 43.959409], [-91.40601099999999, 43.963929], [-91.407395, 43.965148], [-91.410555, 43.970892], [-91.412491, 43.973411], [-91.424134, 43.982631], [-91.42518797925139, 43.9843219996781]]]}}, {\\\"id\\\": \\\"66\\\", \\\"type\\\": \\\"Feature\\\", \\\"properties\\\": {\\\"AFFGEOID\\\": \\\"0500000US55121\\\", \\\"ALAND\\\": 1898472856, \\\"AWATER\\\": 23370973, \\\"COUNTYFP\\\": \\\"121\\\", \\\"COUNTYNS\\\": \\\"01581120\\\", \\\"GEOID\\\": \\\"55121\\\", \\\"LSAD\\\": \\\"06\\\", \\\"NAME\\\": \\\"Trempealeau\\\", \\\"STATEFP\\\": \\\"55\\\", \\\"clinton\\\": 5636, \\\"clinton_share\\\": 0.41177759918170526, \\\"county\\\": \\\"Trempealeau\\\", \\\"rel_trump_share\\\": 0.5665282264267035, \\\"total\\\": 13687, \\\"trump\\\": 7366, \\\"trump_share\\\": 0.5381749104990137}, \\\"geometry\\\": {\\\"type\\\": \\\"Polygon\\\", \\\"coordinates\\\": [[[-91.597223, 44.187723], [-91.60864699999999, 44.200779], [-91.600956, 44.211048], [-91.574409, 44.222488], [-91.55712, 44.224291], [-91.534049, 44.241001999999995], [-91.529741, 44.246776999999994], [-91.529101, 44.596197], [-91.16561899999999, 44.596987], [-91.16586199999999, 44.250797999999996], [-91.15356299999999, 44.247583], [-91.151932, 44.079665], [-91.167943, 44.087869999999995], [-91.19821499999999, 44.087379999999996], [-91.201078, 44.075392], [-91.221891, 44.053083], [-91.247473, 44.057513], [-91.26588799999999, 44.072210999999996], [-91.284199, 44.060365], [-91.30747799999999, 44.064876], [-91.337329, 44.037499], [-91.33807, 44.007374], [-91.322143, 43.984462], [-91.42518797925139, 43.9843219996781], [-91.425681, 43.985113], [-91.42671999999999, 43.9885], [-91.429878, 43.993888], [-91.43252199999999, 43.996826999999996], [-91.43737999999999, 43.999962], [-91.440536, 44.001501], [-91.45737799999999, 44.006301], [-91.463515, 44.009040999999996], [-91.46847199999999, 44.009479999999996], [-91.478498, 44.00803], [-91.48087, 44.008145], [-91.49498799999999, 44.012536], [-91.502163, 44.016856], [-91.507121, 44.01898], [-91.524315, 44.021432999999995], [-91.533778, 44.021432999999995], [-91.547028, 44.022225999999996], [-91.559004, 44.025315], [-91.571157, 44.037828], [-91.55827599999999, 44.062436999999996], [-91.534245, 44.096319], [-91.548367, 44.107478], [-91.548752, 44.12439], [-91.565664, 44.14853], [-91.590792, 44.155392], [-91.612971, 44.172157], [-91.597223, 44.187723]]]}}, {\\\"id\\\": \\\"67\\\", \\\"type\\\": \\\"Feature\\\", \\\"properties\\\": {\\\"AFFGEOID\\\": \\\"0500000US55017\\\", \\\"ALAND\\\": 2611619746, \\\"AWATER\\\": 85230103, \\\"COUNTYFP\\\": \\\"017\\\", \\\"COUNTYNS\\\": \\\"01581068\\\", \\\"GEOID\\\": \\\"55017\\\", \\\"LSAD\\\": \\\"06\\\", \\\"NAME\\\": \\\"Chippewa\\\", \\\"STATEFP\\\": \\\"55\\\", \\\"clinton\\\": 11887, \\\"clinton_share\\\": 0.3765522047643183, \\\"county\\\": \\\"Chippewa\\\", \\\"rel_trump_share\\\": 0.601147535483005, \\\"total\\\": 31568, \\\"trump\\\": 17916, \\\"trump_share\\\": 0.5675367460719716}, \\\"geometry\\\": {\\\"type\\\": \\\"Polygon\\\", \\\"coordinates\\\": [[[-91.66564699999999, 45.207991], [-91.542234, 45.206537999999995], [-91.541322, 45.292015], [-90.92522199999999, 45.292061], [-90.92281, 45.119307], [-90.923362, 45.031143], [-90.922669, 44.944458999999995], [-90.922247, 44.857309], [-91.650455, 44.855951], [-91.65139599999999, 45.030165], [-91.65158, 45.120802999999995], [-91.66640199999999, 45.120823], [-91.66564699999999, 45.207991]]]}}, {\\\"id\\\": \\\"68\\\", \\\"type\\\": \\\"Feature\\\", \\\"properties\\\": {\\\"AFFGEOID\\\": \\\"0500000US55013\\\", \\\"ALAND\\\": 2127856271, \\\"AWATER\\\": 151932123, \\\"COUNTYFP\\\": \\\"013\\\", \\\"COUNTYNS\\\": \\\"01581066\\\", \\\"GEOID\\\": \\\"55013\\\", \\\"LSAD\\\": \\\"06\\\", \\\"NAME\\\": \\\"Burnett\\\", \\\"STATEFP\\\": \\\"55\\\", \\\"clinton\\\": 2949, \\\"clinton_share\\\": 0.33749141680018313, \\\"county\\\": \\\"Burnett\\\", \\\"rel_trump_share\\\": 0.647206603660725, \\\"total\\\": 8738, \\\"trump\\\": 5410, \\\"trump_share\\\": 0.6191348134584573}, \\\"geometry\\\": {\\\"type\\\": \\\"Polygon\\\", \\\"coordinates\\\": [[[-92.885711, 45.646017], [-92.88398699999999, 45.654869999999995], [-92.882504, 45.659470999999996], [-92.87893199999999, 45.665606], [-92.876891, 45.675289], [-92.87548799999999, 45.689014], [-92.870145, 45.696757], [-92.870025, 45.697272], [-92.871775, 45.699774], [-92.868862, 45.711993], [-92.869689, 45.715142], [-92.869193, 45.717568], [-92.86568799999999, 45.720622999999996], [-92.86259799999999, 45.722241], [-92.853405, 45.723152], [-92.850933, 45.723831], [-92.850537, 45.724376], [-92.850388, 45.727576], [-92.848851, 45.728750999999995], [-92.84307899999999, 45.729163], [-92.841051, 45.730024], [-92.835917, 45.732802], [-92.830685, 45.73312], [-92.828981, 45.733714], [-92.82601299999999, 45.73665], [-92.816559, 45.742036999999996], [-92.812939, 45.742709], [-92.809837, 45.744172], [-92.805348, 45.747493], [-92.80397099999999, 45.749804999999995], [-92.80263, 45.751888], [-92.798645, 45.753654], [-92.784621, 45.764196], [-92.781373, 45.773061999999996], [-92.779617, 45.782562999999996], [-92.776496, 45.790014], [-92.772065, 45.79523], [-92.76843, 45.79801], [-92.761833, 45.801258], [-92.75900999999999, 45.803965], [-92.757815, 45.806574], [-92.757947, 45.811215999999995], [-92.76002299999999, 45.815475], [-92.761889, 45.817927999999995], [-92.764906, 45.824859], [-92.765681, 45.827252], [-92.765146, 45.830183], [-92.761712, 45.833861], [-92.759458, 45.835341], [-92.74918, 45.840717], [-92.74555699999999, 45.841454999999996], [-92.73999099999999, 45.846283], [-92.739278, 45.84758], [-92.736117, 45.859128999999996], [-92.73648399999999, 45.863355999999996], [-92.734039, 45.868108], [-92.721128, 45.883804999999995], [-92.712503, 45.891704999999995], [-92.707702, 45.894901], [-92.703265, 45.896155], [-92.698983, 45.896451], [-92.68392399999999, 45.903939], [-92.67660699999999, 45.906369999999995], [-92.675737, 45.907478], [-92.676807, 45.91093], [-92.67616699999999, 45.912071999999995], [-92.670352, 45.916247], [-92.659549, 45.922937], [-92.65612499999999, 45.924442], [-92.639116, 45.924555], [-92.638474, 45.925971], [-92.640115, 45.932477999999996], [-92.63993599999999, 45.933541], [-92.638824, 45.934166], [-92.636316, 45.934633999999996], [-92.62926, 45.932404], [-92.62772299999999, 45.932682], [-92.62272, 45.935185999999995], [-92.614314, 45.934529], [-92.608329, 45.938112], [-92.60246, 45.940815], [-92.590138, 45.941773], [-92.58056499999999, 45.94625], [-92.57489199999999, 45.948102999999996], [-92.56976399999999, 45.948146], [-92.561256, 45.951006], [-92.55193299999999, 45.951651], [-92.551186, 45.952239999999996], [-92.549858, 45.957038999999995], [-92.55067199999999, 45.960758999999996], [-92.54980599999999, 45.967985999999996], [-92.548459, 45.969055999999995], [-92.545682, 45.970118], [-92.53770899999999, 45.977818], [-92.53051599999999, 45.981918], [-92.527052, 45.983245], [-92.522032, 45.984203], [-92.519488, 45.983917], [-92.502535, 45.979994999999995], [-92.490996, 45.975559999999994], [-92.484633, 45.975871999999995], [-92.479478, 45.973991999999996], [-92.47276099999999, 45.972952], [-92.469354, 45.973811], [-92.46448099999999, 45.976267], [-92.46126, 45.979427], [-92.46113799999999, 45.980216], [-92.46342899999999, 45.981507], [-92.464173, 45.982423], [-92.464512, 45.985037999999996], [-92.46247699999999, 45.987849999999995], [-92.45649399999999, 45.990243], [-92.453373, 45.992912999999994], [-92.45363499999999, 45.996171], [-92.452952, 45.997782], [-92.451627, 46.000440999999995], [-92.44963, 46.002252], [-92.444294, 46.009161], [-92.444356, 46.011776999999995], [-92.44225899999999, 46.016177], [-92.435627, 46.021232], [-92.428555, 46.024240999999996], [-92.42069599999999, 46.026768999999994], [-92.41064899999999, 46.027259], [-92.408259, 46.02663], [-92.392681, 46.01954], [-92.38170699999999, 46.017033999999995], [-92.372717, 46.014198], [-92.362141, 46.013103], [-92.357965, 46.013413], [-92.35176, 46.015685], [-92.349977, 46.016982], [-92.350319, 46.01898], [-92.350004, 46.021888], [-92.34928099999999, 46.023624], [-92.346345, 46.025428999999995], [-92.34424399999999, 46.027429999999995], [-92.343745, 46.028524999999995], [-92.342429, 46.034541], [-92.343604, 46.040917], [-92.343459, 46.042989999999996], [-92.341278, 46.045424], [-92.33859, 46.050111], [-92.338239, 46.052149], [-92.335335, 46.059422], [-92.332912, 46.062697], [-92.32980599999999, 46.065216], [-92.327868, 46.066179999999996], [-92.319329, 46.069289], [-92.306756, 46.07241], [-92.298638, 46.072989], [-92.294033, 46.074377], [-92.294069, 46.078345999999996], [-92.29352999999999, 46.113824], [-92.2937055830063, 46.1573209976466], [-92.04963599999999, 46.157596999999996], [-92.050647, 45.983920999999995], [-92.03340399999999, 45.983869999999996], [-92.03141699999999, 45.639928], [-92.154888, 45.639742], [-92.154443, 45.725615999999995], [-92.52819799999999, 45.72868], [-92.529111, 45.642171], [-92.887067, 45.644148], [-92.885711, 45.646017]]]}}, {\\\"id\\\": \\\"69\\\", \\\"type\\\": \\\"Feature\\\", \\\"properties\\\": {\\\"AFFGEOID\\\": \\\"0500000US55111\\\", \\\"ALAND\\\": 2153654529, \\\"AWATER\\\": 45723565, \\\"COUNTYFP\\\": \\\"111\\\", \\\"COUNTYNS\\\": \\\"01581115\\\", \\\"GEOID\\\": \\\"55111\\\", \\\"LSAD\\\": \\\"06\\\", \\\"NAME\\\": \\\"Sauk\\\", \\\"STATEFP\\\": \\\"55\\\", \\\"clinton\\\": 14690, \\\"clinton_share\\\": 0.46847593838696305, \\\"county\\\": \\\"Sauk\\\", \\\"rel_trump_share\\\": 0.501848146766591, \\\"total\\\": 31357, \\\"trump\\\": 14799, \\\"trump_share\\\": 0.4719520362279555}, \\\"geometry\\\": {\\\"type\\\": \\\"Polygon\\\", \\\"coordinates\\\": [[[-90.312404, 43.640988], [-89.785809, 43.641048999999995], [-89.78235199999999, 43.625645], [-89.763258, 43.603888999999995], [-89.71733499999999, 43.596894999999996], [-89.73468199999999, 43.577466], [-89.730547, 43.570437], [-89.688103, 43.566417], [-89.673239, 43.56942], [-89.642209, 43.563179], [-89.617719, 43.565352999999995], [-89.599357, 43.558040999999996], [-89.60073, 43.380666], [-89.61739399999999, 43.370399], [-89.655755, 43.359821], [-89.677613, 43.361197], [-89.70383199999999, 43.330296], [-89.71970999999999, 43.319745], [-89.727171, 43.301305], [-89.720463, 43.293084], [-89.714429, 43.278123], [-89.73316899999999, 43.251326], [-89.77423999999999, 43.239276], [-89.805078, 43.238942], [-89.838135, 43.206057], [-89.85888899999999, 43.195581], [-89.875142, 43.196611999999995], [-89.903925, 43.18814], [-89.949844, 43.193444], [-90.000123, 43.194624], [-90.024924, 43.183322], [-90.04861299999999, 43.166882], [-90.05865999999999, 43.145291], [-90.082387, 43.161142999999996], [-90.113726, 43.160343999999995], [-90.15898299999999, 43.166793999999996], [-90.18431199999999, 43.15756], [-90.19381399999999, 43.164463999999995], [-90.19245099999999, 43.169292999999996], [-90.191938, 43.380083], [-90.192015, 43.511148], [-90.192281, 43.523081999999995], [-90.191963, 43.527319], [-90.19217599999999, 43.532868], [-90.191964, 43.554995999999996], [-90.31106899999999, 43.553990999999996], [-90.312404, 43.640988]]]}}, {\\\"id\\\": \\\"70\\\", \\\"type\\\": \\\"Feature\\\", \\\"properties\\\": {\\\"AFFGEOID\\\": \\\"0500000US55083\\\", \\\"ALAND\\\": 2582755384, \\\"AWATER\\\": 392746967, \\\"COUNTYFP\\\": \\\"083\\\", \\\"COUNTYNS\\\": \\\"01581102\\\", \\\"GEOID\\\": \\\"55083\\\", \\\"LSAD\\\": \\\"06\\\", \\\"NAME\\\": \\\"Oconto\\\", \\\"STATEFP\\\": \\\"55\\\", \\\"clinton\\\": 5940, \\\"clinton_share\\\": 0.29397208749876275, \\\"county\\\": \\\"Oconto\\\", \\\"rel_trump_share\\\": 0.6919885921700804, \\\"total\\\": 20206, \\\"trump\\\": 13345, \\\"trump_share\\\": 0.6604473918638029}, \\\"geometry\\\": {\\\"type\\\": \\\"Polygon\\\", \\\"coordinates\\\": [[[-88.677996, 45.378682999999995], [-88.428102, 45.37701], [-88.30581099999999, 45.37461], [-88.309063, 45.20158], [-88.18635599999999, 45.197897], [-88.189247, 45.111844], [-88.11887899999999, 45.110197], [-88.121152, 45.023581], [-87.942995, 45.020418], [-87.944436, 44.993057], [-87.88333, 44.993041999999996], [-87.760071, 44.99053], [-87.7626200275805, 44.965796461784], [-87.76687199999999, 44.965253999999995], [-87.812989, 44.954012999999996], [-87.819525, 44.951108999999995], [-87.839028, 44.931718], [-87.84343299999999, 44.924355], [-87.84429899999999, 44.918524], [-87.842719, 44.912077], [-87.83956099999999, 44.905606999999996], [-87.82775099999999, 44.891228999999996], [-87.832764, 44.880939], [-87.838359, 44.873987], [-87.84832399999999, 44.870439999999995], [-87.852789, 44.86486], [-87.854681, 44.857771], [-87.866237, 44.840481], [-87.87821799999999, 44.839016], [-87.90113699999999, 44.827365], [-87.904484, 44.818723], [-87.926816, 44.778555], [-87.941453, 44.75608], [-87.95156, 44.753107], [-87.964714, 44.74357], [-87.983494, 44.720196], [-87.989717, 44.686582], [-87.989912015149, 44.6775869882811], [-88.131349, 44.676929], [-88.231178, 44.672360999999995], [-88.24268699999999, 44.679631], [-88.25236799999999, 44.767056], [-88.24821299999999, 44.852739], [-88.489149, 44.855444999999996], [-88.48373199999999, 45.116887], [-88.641159, 45.117346], [-88.63817399999999, 45.204814999999996], [-88.680066, 45.204994], [-88.677996, 45.378682999999995]]]}}, {\\\"id\\\": \\\"71\\\", \\\"type\\\": \\\"Feature\\\", \\\"properties\\\": {\\\"AFFGEOID\\\": \\\"0500000US55043\\\", \\\"ALAND\\\": 2970368437, \\\"AWATER\\\": 94555361, \\\"COUNTYFP\\\": \\\"043\\\", \\\"COUNTYNS\\\": \\\"01581081\\\", \\\"GEOID\\\": \\\"55043\\\", \\\"LSAD\\\": \\\"06\\\", \\\"NAME\\\": \\\"Grant\\\", \\\"STATEFP\\\": \\\"55\\\", \\\"clinton\\\": 10051, \\\"clinton_share\\\": 0.4124671700590939, \\\"county\\\": \\\"Grant\\\", \\\"rel_trump_share\\\": 0.5513146734520781, \\\"total\\\": 24368, \\\"trump\\\": 12350, \\\"trump_share\\\": 0.506812212738017}, \\\"geometry\\\": {\\\"type\\\": \\\"Polygon\\\", \\\"coordinates\\\": [[[-91.1568126516435, 42.9881698664533], [-91.136552, 42.998915], [-91.10144199999999, 43.000124], [-91.091017, 42.994558], [-91.06221099999999, 42.992551999999996], [-91.053033, 43.001494], [-91.01207099999999, 43.013152], [-91.00442699999999, 43.022441], [-90.98568499999999, 43.026095999999995], [-90.95307799999999, 43.043754], [-90.94008699999999, 43.061882], [-90.916218, 43.062722], [-90.882949, 43.073246999999995], [-90.84574599999999, 43.077625], [-90.822794, 43.088145999999995], [-90.79829099999999, 43.109096], [-90.7633, 43.115572], [-90.74245499999999, 43.123596], [-90.71933399999999, 43.150027], [-90.698213, 43.160722], [-90.689863, 43.172972], [-90.666786, 43.171777], [-90.60860799999999, 43.185372], [-90.588903, 43.200688], [-90.545408, 43.211455], [-90.429825, 43.200939999999996], [-90.426902, 42.812861999999996], [-90.4263779353442, 42.507059428755895], [-90.437011, 42.507146999999996], [-90.474955, 42.507484], [-90.479446, 42.507416], [-90.491716, 42.507624], [-90.532254, 42.507573], [-90.544347, 42.507706999999996], [-90.544799, 42.507712999999995], [-90.551165, 42.507691], [-90.55586199999999, 42.507509], [-90.56544099999999, 42.507600000000004], [-90.614589, 42.508053], [-90.61773099999999, 42.508077], [-90.642843, 42.508480999999996], [-90.636927, 42.513202], [-90.636727, 42.518702], [-90.640627, 42.527701], [-90.64392699999999, 42.540400999999996], [-90.64562699999999, 42.5441], [-90.654127, 42.5499], [-90.659127, 42.557900000000004], [-90.66152699999999, 42.567999], [-90.672727, 42.576598999999995], [-90.677055, 42.579215], [-90.679375, 42.581503], [-90.685487, 42.589614], [-90.68697499999999, 42.591774], [-90.687775, 42.594606], [-90.68799899999999, 42.599198], [-90.692031, 42.610366], [-90.69399899999999, 42.614509], [-90.70009499999999, 42.622461], [-90.700856, 42.626445], [-90.702671, 42.630756], [-90.70630299999999, 42.634169], [-90.709204, 42.636078], [-90.720209, 42.640758], [-90.731132, 42.643437], [-90.74367699999999, 42.645559999999996], [-90.76038899999999, 42.649131], [-90.76949499999999, 42.651443], [-90.778752, 42.652964999999995], [-90.788226, 42.653887999999995], [-90.797017, 42.655772], [-90.832702, 42.661662], [-90.84391, 42.663070999999995], [-90.852497, 42.664822], [-90.867125, 42.668728], [-90.88743, 42.67247], [-90.8968978644181, 42.6752621751195], [-90.900261, 42.676254], [-90.91340000000001, 42.682949], [-90.921155, 42.685406], [-90.92363399999999, 42.685500000000005], [-90.929881, 42.684128], [-90.937045, 42.683399], [-90.94156699999999, 42.683844], [-90.949213, 42.685573], [-90.952415, 42.686778], [-90.965048, 42.693233], [-90.974237, 42.695249], [-90.977735, 42.696816], [-90.980578, 42.698932], [-90.988776, 42.708724], [-90.995536, 42.713704], [-91.00012799999999, 42.716189], [-91.009577, 42.720123], [-91.015687, 42.719229], [-91.01723899999999, 42.719566], [-91.026786, 42.724228], [-91.029692, 42.726774], [-91.030718, 42.729684], [-91.03098399999999, 42.732549999999996], [-91.03201299999999, 42.734483999999995], [-91.03541799999999, 42.737339999999996], [-91.039383, 42.738478], [-91.044139, 42.738605], [-91.046571, 42.737167], [-91.049972, 42.736905], [-91.05127499999999, 42.737001], [-91.053733, 42.738237999999996], [-91.054801, 42.740528999999995], [-91.05480999999999, 42.744686], [-91.056297, 42.747341], [-91.05809099999999, 42.749246], [-91.060172, 42.750481], [-91.06468, 42.750913999999995], [-91.065783, 42.753387], [-91.06549199999999, 42.757081], [-91.06312, 42.757273], [-91.061432, 42.757974], [-91.06012899999999, 42.759986], [-91.060261, 42.761846999999996], [-91.063254, 42.763946999999995], [-91.069549, 42.769628], [-91.07071599999999, 42.775501999999996], [-91.07113799999999, 42.783004], [-91.072447, 42.787732], [-91.075481, 42.795466], [-91.078097, 42.806526], [-91.079314, 42.820308999999995], [-91.078665, 42.827678], [-91.08277, 42.829977], [-91.090136, 42.829237], [-91.09406, 42.830813], [-91.095114, 42.834966], [-91.091402, 42.84986], [-91.091837, 42.851225], [-91.09532899999999, 42.85532], [-91.097656, 42.859871], [-91.09881999999999, 42.864421], [-91.098238, 42.875797999999996], [-91.10056499999999, 42.883078], [-91.104051, 42.885971], [-91.112158, 42.891149], [-91.115512, 42.894672], [-91.11741099999999, 42.895837], [-91.138, 42.903772], [-91.14337499999999, 42.904669999999996], [-91.144706, 42.905964], [-91.14555999999999, 42.907979999999995], [-91.146177, 42.90985], [-91.146182, 42.912338], [-91.145868, 42.914967], [-91.143878, 42.920646], [-91.1438, 42.922877], [-91.14431499999999, 42.926592], [-91.145517, 42.930378], [-91.149784, 42.940244], [-91.14988, 42.941955], [-91.14909, 42.946554], [-91.14554, 42.95651], [-91.14542999999999, 42.958211], [-91.14654999999999, 42.963345], [-91.148001, 42.966155], [-91.15090599999999, 42.970514], [-91.155519, 42.975774], [-91.156562, 42.978226], [-91.15674299999999, 42.987829999999995], [-91.1568126516435, 42.9881698664533]]]}}]}\",\"selected\":{\"id\":\"1043\",\"type\":\"Selection\"},\"selection_policy\":{\"id\":\"1042\",\"type\":\"UnionRenderers\"}},\"id\":\"1003\",\"type\":\"GeoJSONDataSource\"},{\"attributes\":{\"fill_color\":{\"field\":\"rel_trump_share\",\"transform\":{\"id\":\"1004\",\"type\":\"LinearColorMapper\"}},\"line_color\":{\"value\":\"#1f77b4\"},\"xs\":{\"field\":\"xs\"},\"ys\":{\"field\":\"ys\"}},\"id\":\"1031\",\"type\":\"Patches\"},{\"attributes\":{},\"id\":\"1040\",\"type\":\"BasicTickFormatter\"},{\"attributes\":{},\"id\":\"1038\",\"type\":\"BasicTickFormatter\"},{\"attributes\":{},\"id\":\"1016\",\"type\":\"LinearScale\"},{\"attributes\":{},\"id\":\"1042\",\"type\":\"UnionRenderers\"},{\"attributes\":{\"ticker\":{\"id\":\"1019\",\"type\":\"BasicTicker\"}},\"id\":\"1022\",\"type\":\"Grid\"},{\"attributes\":{\"formatter\":{\"id\":\"1038\",\"type\":\"BasicTickFormatter\"},\"ticker\":{\"id\":\"1019\",\"type\":\"BasicTicker\"}},\"id\":\"1018\",\"type\":\"LinearAxis\"},{\"attributes\":{},\"id\":\"1043\",\"type\":\"Selection\"},{\"attributes\":{\"fill_alpha\":{\"value\":0.1},\"fill_color\":{\"value\":\"#1f77b4\"},\"line_alpha\":{\"value\":0.1},\"line_color\":{\"value\":\"#1f77b4\"},\"xs\":{\"field\":\"xs\"},\"ys\":{\"field\":\"ys\"}},\"id\":\"1032\",\"type\":\"Patches\"},{\"attributes\":{\"active_drag\":\"auto\",\"active_inspect\":\"auto\",\"active_multi\":null,\"active_scroll\":\"auto\",\"active_tap\":\"auto\",\"tools\":[{\"id\":\"1006\",\"type\":\"HoverTool\"}]},\"id\":\"1028\",\"type\":\"Toolbar\"},{\"attributes\":{\"source\":{\"id\":\"1003\",\"type\":\"GeoJSONDataSource\"}},\"id\":\"1034\",\"type\":\"CDSView\"},{\"attributes\":{\"callback\":null},\"id\":\"1012\",\"type\":\"DataRange1d\"},{\"attributes\":{\"callback\":null,\"tooltips\":[[\"County\",\"@county\"],[\"Portion Trump\",\"@trump_share\"],[\"Portion Clinton\",\"@clinton_share\"],[\"Total\",\"@total\"]]},\"id\":\"1006\",\"type\":\"HoverTool\"},{\"attributes\":{},\"id\":\"1014\",\"type\":\"LinearScale\"},{\"attributes\":{\"callback\":null},\"id\":\"1010\",\"type\":\"DataRange1d\"},{\"attributes\":{},\"id\":\"1019\",\"type\":\"BasicTicker\"},{\"attributes\":{},\"id\":\"1036\",\"type\":\"BasicTickFormatter\"}],\"root_ids\":[\"1007\"]},\"title\":\"Bokeh Application\",\"version\":\"1.3.4\"}};\n",
       "  var render_items = [{\"docid\":\"4ba2db48-6fb7-4cae-8eb4-e4f52a535bd5\",\"roots\":{\"1007\":\"4f88f387-70dd-4676-914a-6a730b177902\"}}];\n",
       "  root.Bokeh.embed.embed_items_notebook(docs_json, render_items);\n",
       "\n",
       "  }\n",
       "  if (root.Bokeh !== undefined) {\n",
       "    embed_document(root);\n",
       "  } else {\n",
       "    var attempts = 0;\n",
       "    var timer = setInterval(function(root) {\n",
       "      if (root.Bokeh !== undefined) {\n",
       "        embed_document(root);\n",
       "        clearInterval(timer);\n",
       "      }\n",
       "      attempts++;\n",
       "      if (attempts > 100) {\n",
       "        console.log(\"Bokeh: ERROR: Unable to run BokehJS code because BokehJS library is missing\");\n",
       "        clearInterval(timer);\n",
       "      }\n",
       "    }, 10, root)\n",
       "  }\n",
       "})(window);"
      ],
      "application/vnd.bokehjs_exec.v0+json": ""
     },
     "metadata": {
      "application/vnd.bokehjs_exec.v0+json": {
       "id": "1007"
      }
     },
     "output_type": "display_data"
    }
   ],
   "source": [
    "color_mapper = LinearColorMapper(palette = brewer['RdBu'][10], low = 0, high = 1)\n",
    "color_bar = ColorBar(color_mapper=color_mapper, label_standoff=8,width = 500, height = 20,\n",
    "                     border_line_color=None,location = (0,0), orientation = 'horizontal')\n",
    "hover = HoverTool(tooltips = [ ('County','@county'),('Portion Trump', '@trump_share'),\n",
    "                               ('Portion Clinton','@clinton_share'),\n",
    "                               ('Total','@total')])\n",
    "p = figure(title=\"Wisconsin Voting in 2016 Presidential Election\", tools=[hover])\n",
    "p.patches(\"xs\",\"ys\",source=wi_geojson,\n",
    "          fill_color = {'field' :'rel_trump_share', 'transform' : color_mapper})\n",
    "p.add_layout(color_bar, 'below')\n",
    "show(p)"
   ]
  },
  {
   "cell_type": "code",
   "execution_count": null,
   "metadata": {},
   "outputs": [],
   "source": []
  }
 ],
 "metadata": {
  "date": 1595352470.2833898,
  "download_nb": false,
  "filename": "maps.rst",
  "filename_with_path": "applications/maps",
  "kernelspec": {
   "display_name": "Python 3",
   "language": "python",
   "name": "python3"
  },
  "language_info": {
   "codemirror_mode": {
    "name": "ipython",
    "version": 3
   },
   "file_extension": ".py",
   "mimetype": "text/x-python",
   "name": "python",
   "nbconvert_exporter": "python",
   "pygments_lexer": "ipython3",
   "version": "3.7.4"
  },
  "title": "Mapping in Python"
 },
 "nbformat": 4,
 "nbformat_minor": 4
}
